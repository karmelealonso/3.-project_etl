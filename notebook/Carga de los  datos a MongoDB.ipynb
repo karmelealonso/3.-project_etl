{
 "cells": [
  {
   "cell_type": "markdown",
   "id": "5cadcf71",
   "metadata": {},
   "source": [
    "# RELACIÓN ENTRE ALGUNAS VARIABLES SOCIODEMOGRÁFICAS CON LA RESISTENCIA A LA INSULINA DENTRO LA POBLACIÓN ESPAÑOLA."
   ]
  },
  {
   "cell_type": "markdown",
   "id": "6d050921",
   "metadata": {},
   "source": [
    "# CREACIÓN DE LA BASE DE DATOS EN MongoDB."
   ]
  },
  {
   "cell_type": "code",
   "execution_count": 2,
   "id": "b5aed3b2",
   "metadata": {},
   "outputs": [],
   "source": [
    "import pandas as pd\n",
    "from pymongo import MongoClient"
   ]
  },
  {
   "cell_type": "code",
   "execution_count": 3,
   "id": "9fe27e73",
   "metadata": {},
   "outputs": [],
   "source": [
    "estudio_poblacion_esp = pd.read_csv('/Users/karmelealonsoaia/Desktop/ironhack_labs/PROYECTOS/3.-project_etl/data/data_def/df_estudio_poblacion_esp.csv')"
   ]
  },
  {
   "cell_type": "code",
   "execution_count": 4,
   "id": "83166e78",
   "metadata": {},
   "outputs": [],
   "source": [
    "poblacion_esp_total = pd.read_csv('/Users/karmelealonsoaia/Desktop/ironhack_labs/PROYECTOS/3.-project_etl/data/data_def/df_poblacion_esp_total.csv')"
   ]
  },
  {
   "cell_type": "code",
   "execution_count": 5,
   "id": "5c03a020",
   "metadata": {},
   "outputs": [],
   "source": [
    "prevalencia_RI = pd.read_csv('/Users/karmelealonsoaia/Desktop/ironhack_labs/PROYECTOS/3.-project_etl/data/data_def/df_prevalencia_RI.csv')"
   ]
  },
  {
   "cell_type": "code",
   "execution_count": 6,
   "id": "8258c190",
   "metadata": {},
   "outputs": [],
   "source": [
    "comparacion_RI = pd.read_csv('/Users/karmelealonsoaia/Desktop/ironhack_labs/PROYECTOS/3.-project_etl/data/data_def/df_comparacion_RI.csv')"
   ]
  },
  {
   "cell_type": "code",
   "execution_count": 7,
   "id": "4e595099",
   "metadata": {},
   "outputs": [],
   "source": [
    "correlacion_RI = pd.read_csv('/Users/karmelealonsoaia/Desktop/ironhack_labs/PROYECTOS/3.-project_etl/data/data_def/df_correlacion_RI.csv')"
   ]
  },
  {
   "cell_type": "code",
   "execution_count": 8,
   "id": "a77ed85c",
   "metadata": {},
   "outputs": [
    {
     "data": {
      "text/plain": [
       "MongoClient(host=['localhost:27017'], document_class=dict, tz_aware=False, connect=True)"
      ]
     },
     "execution_count": 8,
     "metadata": {},
     "output_type": "execute_result"
    }
   ],
   "source": [
    "client = MongoClient(\"mongodb://localhost:27017\")\n",
    "client"
   ]
  },
  {
   "cell_type": "markdown",
   "id": "2dc450df",
   "metadata": {},
   "source": [
    "# 1. Creación de la base de datos."
   ]
  },
  {
   "cell_type": "code",
   "execution_count": 9,
   "id": "ae7668b1",
   "metadata": {},
   "outputs": [],
   "source": [
    "db = client[\"estudio_RI\"]"
   ]
  },
  {
   "cell_type": "markdown",
   "id": "8c57edb1",
   "metadata": {},
   "source": [
    "# 2. Inserción de los datos y creación de colecciones."
   ]
  },
  {
   "cell_type": "code",
   "execution_count": 10,
   "id": "377e1134",
   "metadata": {},
   "outputs": [
    {
     "data": {
      "text/plain": [
       "<pymongo.results.InsertManyResult at 0x145bde410>"
      ]
     },
     "execution_count": 10,
     "metadata": {},
     "output_type": "execute_result"
    }
   ],
   "source": [
    "db[\"estudio_poblacion_esp\"].insert_many(estudio_poblacion_esp.to_dict(orient=\"records\"))"
   ]
  },
  {
   "cell_type": "code",
   "execution_count": 11,
   "id": "50eb0f70",
   "metadata": {},
   "outputs": [
    {
     "data": {
      "text/plain": [
       "<pymongo.results.InsertManyResult at 0x148869ab0>"
      ]
     },
     "execution_count": 11,
     "metadata": {},
     "output_type": "execute_result"
    }
   ],
   "source": [
    "db[\"poblacion_esp_total\"].insert_many(poblacion_esp_total.to_dict(orient=\"records\"))"
   ]
  },
  {
   "cell_type": "code",
   "execution_count": 12,
   "id": "708b4d60",
   "metadata": {},
   "outputs": [
    {
     "data": {
      "text/plain": [
       "<pymongo.results.InsertManyResult at 0x148f5beb0>"
      ]
     },
     "execution_count": 12,
     "metadata": {},
     "output_type": "execute_result"
    }
   ],
   "source": [
    "db[\"prevalencia_RI\"].insert_many(prevalencia_RI.to_dict(orient=\"records\"))"
   ]
  },
  {
   "cell_type": "code",
   "execution_count": 13,
   "id": "59928410",
   "metadata": {},
   "outputs": [
    {
     "data": {
      "text/plain": [
       "<pymongo.results.InsertManyResult at 0x145bde440>"
      ]
     },
     "execution_count": 13,
     "metadata": {},
     "output_type": "execute_result"
    }
   ],
   "source": [
    "db[\"comparacion_RI\"].insert_many(comparacion_RI.to_dict(orient=\"records\"))"
   ]
  },
  {
   "cell_type": "code",
   "execution_count": 14,
   "id": "481888ec",
   "metadata": {},
   "outputs": [
    {
     "data": {
      "text/plain": [
       "<pymongo.results.InsertManyResult at 0x148f5b7f0>"
      ]
     },
     "execution_count": 14,
     "metadata": {},
     "output_type": "execute_result"
    }
   ],
   "source": [
    "db[\"correlacion_RI\"].insert_many(correlacion_RI.to_dict(orient=\"records\"))"
   ]
  },
  {
   "cell_type": "code",
   "execution_count": 15,
   "id": "5c96f40e",
   "metadata": {},
   "outputs": [
    {
     "data": {
      "text/plain": [
       "['comparacion_RI',\n",
       " 'estudio_poblacion_esp',\n",
       " 'poblacion_esp_total',\n",
       " 'prevalencia_RI',\n",
       " 'correlacion_RI']"
      ]
     },
     "execution_count": 15,
     "metadata": {},
     "output_type": "execute_result"
    }
   ],
   "source": [
    "db.list_collection_names()"
   ]
  }
 ],
 "metadata": {
  "kernelspec": {
   "display_name": "Python 3 (ipykernel)",
   "language": "python",
   "name": "python3"
  },
  "language_info": {
   "codemirror_mode": {
    "name": "ipython",
    "version": 3
   },
   "file_extension": ".py",
   "mimetype": "text/x-python",
   "name": "python",
   "nbconvert_exporter": "python",
   "pygments_lexer": "ipython3",
   "version": "3.11.4"
  }
 },
 "nbformat": 4,
 "nbformat_minor": 5
}
