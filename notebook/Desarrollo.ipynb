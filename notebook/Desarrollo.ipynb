{
 "cells": [
  {
   "cell_type": "markdown",
   "id": "4628f282",
   "metadata": {},
   "source": [
    "# RELACIÓN ENTRE ALGUNAS VARIABLES SOCIODEMOGRÁFICAS CON LA RESISTENCIA A LA INSULINA DE LA POBLACIÓN ESPAÑOLA.\n"
   ]
  },
  {
   "cell_type": "markdown",
   "id": "ec5c5660",
   "metadata": {},
   "source": [
    "# DESARROLLO DEL PROYECTO."
   ]
  },
  {
   "cell_type": "code",
   "execution_count": 1,
   "id": "3481bba5",
   "metadata": {},
   "outputs": [],
   "source": [
    "import pandas as pd\n",
    "pd.set_option('display.max_columns', None)\n",
    "\n",
    "\n",
    "import numpy as np\n",
    "\n",
    "import warnings\n",
    "warnings.filterwarnings('ignore')\n",
    "\n",
    "\n",
    "import pylab as plt  # import matplotlib.pyplot as plt\n",
    "import seaborn as sns\n"
   ]
  },
  {
   "cell_type": "markdown",
   "id": "8880c9ff",
   "metadata": {},
   "source": [
    "# 1. Introducción."
   ]
  },
  {
   "cell_type": "markdown",
   "id": "264bfdef",
   "metadata": {},
   "source": [
    "La Resistencia a la Insulina (RI) es un problema de salud de creciente importancia en la sociedad actual. Su impacto se hace evidente en la salud y el bienestar de las personas, ya que está estrechamente relacionado con enfermedades crónicas, como la diabetes tipo 2, que afecta a un número significativo de individuos en todo el mundo. El estudio de la RI y sus factores desencadenantes se ha vuelto esencial, ya que puede desempeñar un papel crucial tanto en la prevención como en el tratamiento de estas enfermedades.\n",
    "\n",
    "Entre los factores de riesgo que destacan en la aparición de la Resistencia a la Insulina se encuentran la obesidad, el sedentarismo, la falta de sueño, antecedentes familiares de diabetes tipo 2, el síndrome de ovario poliquístico y la edad, especialmente a partir de los 45 años. Estos factores representan desafíos significativos para la salud pública, lo que resalta la importancia de investigar y comprender más a fondo la RI. En este contexto, este estudio busca arrojar luz sobre estos aspectos y sus implicaciones en la salud de la población."
   ]
  },
  {
   "cell_type": "markdown",
   "id": "2839213c",
   "metadata": {},
   "source": [
    "# 2. Hipótesis inicial."
   ]
  },
  {
   "cell_type": "markdown",
   "id": "b65805a2",
   "metadata": {},
   "source": [
    "Como hipótesis inicial del estudio, planteo que: \n",
    "     \n",
    "\"La Resistencia a la Insulina (RI) está asociada con diversas variables sociodemográficas, como la edad, el sexo, la clase social y el nivel de educación. Además, que existe una correlación significativa entre la RI y ciertos hábitos de salud, incluyendo la práctica de ejercicio físico, la adhesión a una dieta mediterránea y el tabaquismo. Y por último, que también se relaciona con el sobrepeso y la obesidad\"."
   ]
  },
  {
   "cell_type": "markdown",
   "id": "9739fa65",
   "metadata": {},
   "source": [
    "# 3. Materiales y métodos."
   ]
  },
  {
   "cell_type": "code",
   "execution_count": 2,
   "id": "8708eefc",
   "metadata": {
    "scrolled": true
   },
   "outputs": [],
   "source": [
    "df_clean_original = pd.read_csv('/Users/karmelealonsoaia/Desktop/ironhack_labs/PROYECTOS/3.-project_etl/data/data_clean/df_clean.csv')\n",
    "\n",
    "df_clean = df_clean_original.copy()"
   ]
  },
  {
   "cell_type": "code",
   "execution_count": 3,
   "id": "2440520e",
   "metadata": {},
   "outputs": [
    {
     "data": {
      "text/html": [
       "<div>\n",
       "<style scoped>\n",
       "    .dataframe tbody tr th:only-of-type {\n",
       "        vertical-align: middle;\n",
       "    }\n",
       "\n",
       "    .dataframe tbody tr th {\n",
       "        vertical-align: top;\n",
       "    }\n",
       "\n",
       "    .dataframe thead th {\n",
       "        text-align: right;\n",
       "    }\n",
       "</style>\n",
       "<table border=\"1\" class=\"dataframe\">\n",
       "  <thead>\n",
       "    <tr style=\"text-align: right;\">\n",
       "      <th></th>\n",
       "      <th>sexo</th>\n",
       "      <th>edad</th>\n",
       "      <th>estudios</th>\n",
       "      <th>clase_social</th>\n",
       "      <th>ejercicio</th>\n",
       "      <th>dieta_mediterranea</th>\n",
       "      <th>consumo_tabaco</th>\n",
       "      <th>altura</th>\n",
       "      <th>peso</th>\n",
       "      <th>imc</th>\n",
       "      <th>colesterol</th>\n",
       "      <th>ct</th>\n",
       "      <th>glucemia</th>\n",
       "      <th>gluc</th>\n",
       "    </tr>\n",
       "  </thead>\n",
       "  <tbody>\n",
       "    <tr>\n",
       "      <th>0</th>\n",
       "      <td>mujer</td>\n",
       "      <td>57</td>\n",
       "      <td>secundarios</td>\n",
       "      <td>III</td>\n",
       "      <td>si</td>\n",
       "      <td>no</td>\n",
       "      <td>no</td>\n",
       "      <td>166.0</td>\n",
       "      <td>62.0</td>\n",
       "      <td>22.5</td>\n",
       "      <td>185</td>\n",
       "      <td>normal</td>\n",
       "      <td>84</td>\n",
       "      <td>normal</td>\n",
       "    </tr>\n",
       "    <tr>\n",
       "      <th>1</th>\n",
       "      <td>hombre</td>\n",
       "      <td>28</td>\n",
       "      <td>primarios</td>\n",
       "      <td>III</td>\n",
       "      <td>si</td>\n",
       "      <td>si</td>\n",
       "      <td>no</td>\n",
       "      <td>181.5</td>\n",
       "      <td>82.0</td>\n",
       "      <td>24.9</td>\n",
       "      <td>197</td>\n",
       "      <td>normal</td>\n",
       "      <td>62</td>\n",
       "      <td>normal</td>\n",
       "    </tr>\n",
       "    <tr>\n",
       "      <th>2</th>\n",
       "      <td>hombre</td>\n",
       "      <td>25</td>\n",
       "      <td>universitarios</td>\n",
       "      <td>I</td>\n",
       "      <td>no</td>\n",
       "      <td>no</td>\n",
       "      <td>no</td>\n",
       "      <td>177.0</td>\n",
       "      <td>69.0</td>\n",
       "      <td>22.0</td>\n",
       "      <td>229</td>\n",
       "      <td>limitrofe</td>\n",
       "      <td>83</td>\n",
       "      <td>normal</td>\n",
       "    </tr>\n",
       "    <tr>\n",
       "      <th>3</th>\n",
       "      <td>hombre</td>\n",
       "      <td>50</td>\n",
       "      <td>secundarios</td>\n",
       "      <td>III</td>\n",
       "      <td>no</td>\n",
       "      <td>no</td>\n",
       "      <td>si</td>\n",
       "      <td>171.0</td>\n",
       "      <td>86.0</td>\n",
       "      <td>29.4</td>\n",
       "      <td>272</td>\n",
       "      <td>alto</td>\n",
       "      <td>110</td>\n",
       "      <td>prediabetes</td>\n",
       "    </tr>\n",
       "    <tr>\n",
       "      <th>4</th>\n",
       "      <td>mujer</td>\n",
       "      <td>33</td>\n",
       "      <td>secundarios</td>\n",
       "      <td>II</td>\n",
       "      <td>si</td>\n",
       "      <td>no</td>\n",
       "      <td>no</td>\n",
       "      <td>154.0</td>\n",
       "      <td>45.0</td>\n",
       "      <td>19.0</td>\n",
       "      <td>191</td>\n",
       "      <td>normal</td>\n",
       "      <td>81</td>\n",
       "      <td>normal</td>\n",
       "    </tr>\n",
       "  </tbody>\n",
       "</table>\n",
       "</div>"
      ],
      "text/plain": [
       "     sexo  edad        estudios clase_social ejercicio dieta_mediterranea  \\\n",
       "0   mujer    57     secundarios          III        si                 no   \n",
       "1  hombre    28       primarios          III        si                 si   \n",
       "2  hombre    25  universitarios            I        no                 no   \n",
       "3  hombre    50     secundarios          III        no                 no   \n",
       "4   mujer    33     secundarios           II        si                 no   \n",
       "\n",
       "  consumo_tabaco  altura  peso   imc  colesterol         ct  glucemia  \\\n",
       "0             no   166.0  62.0  22.5         185     normal        84   \n",
       "1             no   181.5  82.0  24.9         197     normal        62   \n",
       "2             no   177.0  69.0  22.0         229  limitrofe        83   \n",
       "3             si   171.0  86.0  29.4         272       alto       110   \n",
       "4             no   154.0  45.0  19.0         191     normal        81   \n",
       "\n",
       "          gluc  \n",
       "0       normal  \n",
       "1       normal  \n",
       "2       normal  \n",
       "3  prediabetes  \n",
       "4       normal  "
      ]
     },
     "execution_count": 3,
     "metadata": {},
     "output_type": "execute_result"
    }
   ],
   "source": [
    "df_clean.head()"
   ]
  },
  {
   "cell_type": "markdown",
   "id": "ac11570a",
   "metadata": {},
   "source": [
    "El primero de los DataFrames utilizados consiste en un archivo CSV que contiene un Estudio realizado a 258931 trabajadores (103427 mujeres y 155504 hombres), de distintas regiones de nuestro país (Baleares, Andalucía, Canarias, Comunidad Valenciana, Cataluña, Madrid, Castilla La Mancha, Castilla León, País Vasco)\n",
    "y pertenecientes a sectores laborales muy diversos entre los que podemos destacar hostelería, construcción, comercio, sanidad, administración pública, transporte, educación, industria y limpieza. "
   ]
  },
  {
   "cell_type": "markdown",
   "id": "2a6387df",
   "metadata": {},
   "source": [
    "· El estudio se llevó a cabo en el periodo comprendido entre los meses de enero de 2004 y junio de 2006. \n",
    "\n",
    "· Los datos clínicos y personales de los trabajadores se obtuvieron de la base de datos anonimizada de trabajadores que está disponible en el repositorio de la escuela universitaria ADEMA-UIB (Universidad de las Islas Baleares).\n",
    "\n",
    "· Todos los parámetros se expresan en miligramos/decilitros.\n",
    "\n",
    "· Se considera a una persona fumadora si había consumido al menos un cigarrillo diariamente (o su equivalente en otras modalidades de consumo) en los últimos treinta días, o si había dejado el consumo hace menos de 12 meses.\n",
    "\n",
    "· La clase social se clasificó en tres categorías partiendo de los datos de la Clasificación Nacional de Ocupaciones 2011 (CNO-11) y aplicando los criterios establecidos por la Sociedad Española de Epidemiología: Clase I. Personal directivo, profesionales universitarios, deportistas y artistas. Clase II. Trabajadores con cualificación en ocupaciones intermedias y autónomos. Clase III. Trabajadores no cualificados."
   ]
  },
  {
   "cell_type": "markdown",
   "id": "ef700362",
   "metadata": {},
   "source": [
    "En el otro cuaderno de Jupyter, que se encuentra en la misma carpeta llamada \"notebook\" que este, he realizado la limpieza de los datos. Durante este proceso, eliminé numerosas columnas y filas por diversas razones. Algunas de estas se llevaron a cabo porque se consideró que no eran relevantes para el estudio posterior. En otros casos, desconocía el significado de los valores en esas columnas, lo que justificó su eliminación.\n",
    "\n",
    "Además, eliminé aquellas columnas que eran agrupaciones de otras columnas, lo cual habría generado duplicados innecesarios en esta etapa inicial de la investigación y no habría aportado información adicional valiosa. Estas agrupaciones deberán realizarse en el momento del estudio per se, según el enfoque que se quiera realizar.\n",
    "\n",
    "Esta labor de limpieza de datos permitirá trabajar en una estapa posterior con un conjunto más refinado de datos, lo cual ayudará en el propósito."
   ]
  },
  {
   "cell_type": "code",
   "execution_count": 4,
   "id": "9762d25d",
   "metadata": {},
   "outputs": [],
   "source": [
    "df2_clean_original = pd.read_csv('/Users/karmelealonsoaia/Desktop/ironhack_labs/PROYECTOS/3.-project_etl/data/data_clean/df2_clean.csv')\n",
    "df2_clean = df2_clean_original.copy()"
   ]
  },
  {
   "cell_type": "code",
   "execution_count": 5,
   "id": "8dc4e0f0",
   "metadata": {},
   "outputs": [
    {
     "data": {
      "text/html": [
       "<div>\n",
       "<style scoped>\n",
       "    .dataframe tbody tr th:only-of-type {\n",
       "        vertical-align: middle;\n",
       "    }\n",
       "\n",
       "    .dataframe tbody tr th {\n",
       "        vertical-align: top;\n",
       "    }\n",
       "\n",
       "    .dataframe thead th {\n",
       "        text-align: right;\n",
       "    }\n",
       "</style>\n",
       "<table border=\"1\" class=\"dataframe\">\n",
       "  <thead>\n",
       "    <tr style=\"text-align: right;\">\n",
       "      <th></th>\n",
       "      <th>edad</th>\n",
       "      <th>sexo</th>\n",
       "      <th>año</th>\n",
       "      <th>total</th>\n",
       "    </tr>\n",
       "  </thead>\n",
       "  <tbody>\n",
       "    <tr>\n",
       "      <th>0</th>\n",
       "      <td>21</td>\n",
       "      <td>hombre</td>\n",
       "      <td>2006</td>\n",
       "      <td>248.031</td>\n",
       "    </tr>\n",
       "    <tr>\n",
       "      <th>1</th>\n",
       "      <td>21</td>\n",
       "      <td>hombre</td>\n",
       "      <td>2005</td>\n",
       "      <td>256.159</td>\n",
       "    </tr>\n",
       "    <tr>\n",
       "      <th>2</th>\n",
       "      <td>21</td>\n",
       "      <td>hombre</td>\n",
       "      <td>2004</td>\n",
       "      <td>270.677</td>\n",
       "    </tr>\n",
       "    <tr>\n",
       "      <th>3</th>\n",
       "      <td>21</td>\n",
       "      <td>mujer</td>\n",
       "      <td>2006</td>\n",
       "      <td>235.545</td>\n",
       "    </tr>\n",
       "    <tr>\n",
       "      <th>4</th>\n",
       "      <td>21</td>\n",
       "      <td>mujer</td>\n",
       "      <td>2005</td>\n",
       "      <td>243.919</td>\n",
       "    </tr>\n",
       "  </tbody>\n",
       "</table>\n",
       "</div>"
      ],
      "text/plain": [
       "   edad    sexo   año    total\n",
       "0    21  hombre  2006  248.031\n",
       "1    21  hombre  2005  256.159\n",
       "2    21  hombre  2004  270.677\n",
       "3    21   mujer  2006  235.545\n",
       "4    21   mujer  2005  243.919"
      ]
     },
     "execution_count": 5,
     "metadata": {},
     "output_type": "execute_result"
    }
   ],
   "source": [
    "df2_clean.head()"
   ]
  },
  {
   "cell_type": "markdown",
   "id": "8c0c62c7",
   "metadata": {},
   "source": [
    "El segundo DataFrame se originó a partir de un archivo CSV descargado del INE. Contiene información acerca de la población total española, diferenciando por edades y sexo.\n",
    "\n",
    "Si se desea consultar las columnas originales, están contenidas en el otro cuaderno de Jupyter de esta misma carpeta. \n",
    "\n",
    "Así, se ha simplificado y ajustado esta tabla para que tenga las mismas categorías de rango de edad y años que la anterior. Esto es esencial para que el estudio tenga coherencia y sea relevante.\n",
    "\n",
    "El objetivo final que se pretende con esta tabla, en la que contamos con la información sobre la población total en España, es el de, combinándo los valores de esta tabla con los de la tabla anterior y posterior, poder estimar el número real de personas afectadas en España, y no tan solo un porcentaje, del cual no obtenemos un numero concreto. Es decir, tras obtener un resultado porcentual, ajustarlo al número concreto que equivaldría con respecto a la población total española."
   ]
  },
  {
   "cell_type": "code",
   "execution_count": 6,
   "id": "88c3a8ab",
   "metadata": {},
   "outputs": [],
   "source": [
    "df3_clean_original = pd.read_csv('/Users/karmelealonsoaia/Desktop/ironhack_labs/PROYECTOS/3.-project_etl/data/data_clean/df3_clean.csv')\n",
    "df3_clean = df3_clean_original.copy()"
   ]
  },
  {
   "cell_type": "code",
   "execution_count": 7,
   "id": "5edbcfbc",
   "metadata": {},
   "outputs": [
    {
     "data": {
      "text/html": [
       "<div>\n",
       "<style scoped>\n",
       "    .dataframe tbody tr th:only-of-type {\n",
       "        vertical-align: middle;\n",
       "    }\n",
       "\n",
       "    .dataframe tbody tr th {\n",
       "        vertical-align: top;\n",
       "    }\n",
       "\n",
       "    .dataframe thead th {\n",
       "        text-align: right;\n",
       "    }\n",
       "</style>\n",
       "<table border=\"1\" class=\"dataframe\">\n",
       "  <thead>\n",
       "    <tr style=\"text-align: right;\">\n",
       "      <th></th>\n",
       "      <th>edad</th>\n",
       "      <th>total</th>\n",
       "      <th>mujeres</th>\n",
       "      <th>hombres</th>\n",
       "    </tr>\n",
       "  </thead>\n",
       "  <tbody>\n",
       "    <tr>\n",
       "      <th>0</th>\n",
       "      <td>&lt; 31</td>\n",
       "      <td>26,3%</td>\n",
       "      <td>21,2%</td>\n",
       "      <td>33,3%</td>\n",
       "    </tr>\n",
       "    <tr>\n",
       "      <th>1</th>\n",
       "      <td>31- 42</td>\n",
       "      <td>26,5%</td>\n",
       "      <td>19,3%</td>\n",
       "      <td>36,5%</td>\n",
       "    </tr>\n",
       "    <tr>\n",
       "      <th>2</th>\n",
       "      <td>43-54</td>\n",
       "      <td>38,1%</td>\n",
       "      <td>31,3%</td>\n",
       "      <td>46,3%</td>\n",
       "    </tr>\n",
       "    <tr>\n",
       "      <th>3</th>\n",
       "      <td>55-65</td>\n",
       "      <td>52,0%</td>\n",
       "      <td>53,0%</td>\n",
       "      <td>50,8%</td>\n",
       "    </tr>\n",
       "    <tr>\n",
       "      <th>4</th>\n",
       "      <td>65 +</td>\n",
       "      <td>49,1%</td>\n",
       "      <td>51,9%</td>\n",
       "      <td>44,1%</td>\n",
       "    </tr>\n",
       "  </tbody>\n",
       "</table>\n",
       "</div>"
      ],
      "text/plain": [
       "     edad  total mujeres hombres\n",
       "0    < 31  26,3%   21,2%   33,3%\n",
       "1  31- 42  26,5%   19,3%   36,5%\n",
       "2   43-54  38,1%   31,3%   46,3%\n",
       "3   55-65  52,0%   53,0%   50,8%\n",
       "4    65 +  49,1%   51,9%   44,1%"
      ]
     },
     "execution_count": 7,
     "metadata": {},
     "output_type": "execute_result"
    }
   ],
   "source": [
    "df3_clean.head()"
   ]
  },
  {
   "cell_type": "code",
   "execution_count": 8,
   "id": "acbb4998",
   "metadata": {},
   "outputs": [],
   "source": [
    "df4_clean_original = pd.read_csv('/Users/karmelealonsoaia/Desktop/ironhack_labs/PROYECTOS/3.-project_etl/data/data_clean/df4_clean.csv')\n",
    "df4_clean = df4_clean_original.copy()"
   ]
  },
  {
   "cell_type": "code",
   "execution_count": 9,
   "id": "2b50f614",
   "metadata": {},
   "outputs": [
    {
     "data": {
      "text/html": [
       "<div>\n",
       "<style scoped>\n",
       "    .dataframe tbody tr th:only-of-type {\n",
       "        vertical-align: middle;\n",
       "    }\n",
       "\n",
       "    .dataframe tbody tr th {\n",
       "        vertical-align: top;\n",
       "    }\n",
       "\n",
       "    .dataframe thead th {\n",
       "        text-align: right;\n",
       "    }\n",
       "</style>\n",
       "<table border=\"1\" class=\"dataframe\">\n",
       "  <thead>\n",
       "    <tr style=\"text-align: right;\">\n",
       "      <th></th>\n",
       "      <th>indicadores</th>\n",
       "      <th>RI</th>\n",
       "      <th>no_RI</th>\n",
       "      <th>p</th>\n",
       "    </tr>\n",
       "  </thead>\n",
       "  <tbody>\n",
       "    <tr>\n",
       "      <th>0</th>\n",
       "      <td>peso</td>\n",
       "      <td>80.1</td>\n",
       "      <td>62.3</td>\n",
       "      <td>&lt; 0,001</td>\n",
       "    </tr>\n",
       "    <tr>\n",
       "      <th>1</th>\n",
       "      <td>IMC</td>\n",
       "      <td>30.5</td>\n",
       "      <td>26.2</td>\n",
       "      <td>&lt; 0,001</td>\n",
       "    </tr>\n",
       "    <tr>\n",
       "      <th>2</th>\n",
       "      <td>edad</td>\n",
       "      <td>55.6</td>\n",
       "      <td>49.3</td>\n",
       "      <td>&lt; 0,001</td>\n",
       "    </tr>\n",
       "    <tr>\n",
       "      <th>3</th>\n",
       "      <td>colesterol_HDL</td>\n",
       "      <td>56.4</td>\n",
       "      <td>65.4</td>\n",
       "      <td>&lt; 0,001</td>\n",
       "    </tr>\n",
       "    <tr>\n",
       "      <th>4</th>\n",
       "      <td>colesterol_no_HDL</td>\n",
       "      <td>126.6</td>\n",
       "      <td>112.6</td>\n",
       "      <td>&lt; 0,001</td>\n",
       "    </tr>\n",
       "  </tbody>\n",
       "</table>\n",
       "</div>"
      ],
      "text/plain": [
       "         indicadores     RI  no_RI        p\n",
       "0               peso   80.1   62.3  < 0,001\n",
       "1               IMC    30.5   26.2  < 0,001\n",
       "2               edad   55.6   49.3  < 0,001\n",
       "3     colesterol_HDL   56.4   65.4  < 0,001\n",
       "4  colesterol_no_HDL  126.6  112.6  < 0,001"
      ]
     },
     "execution_count": 9,
     "metadata": {},
     "output_type": "execute_result"
    }
   ],
   "source": [
    "df4_clean.head()"
   ]
  },
  {
   "cell_type": "code",
   "execution_count": 10,
   "id": "6af1ae22",
   "metadata": {},
   "outputs": [],
   "source": [
    "df5_clean_original = pd.read_csv('/Users/karmelealonsoaia/Desktop/ironhack_labs/PROYECTOS/3.-project_etl/data/data_clean/df5_clean.csv')\n",
    "df5_clean = df5_clean_original.copy()"
   ]
  },
  {
   "cell_type": "code",
   "execution_count": 11,
   "id": "53b0b58d",
   "metadata": {},
   "outputs": [
    {
     "data": {
      "text/html": [
       "<div>\n",
       "<style scoped>\n",
       "    .dataframe tbody tr th:only-of-type {\n",
       "        vertical-align: middle;\n",
       "    }\n",
       "\n",
       "    .dataframe tbody tr th {\n",
       "        vertical-align: top;\n",
       "    }\n",
       "\n",
       "    .dataframe thead th {\n",
       "        text-align: right;\n",
       "    }\n",
       "</style>\n",
       "<table border=\"1\" class=\"dataframe\">\n",
       "  <thead>\n",
       "    <tr style=\"text-align: right;\">\n",
       "      <th></th>\n",
       "      <th>Unnamed: 0</th>\n",
       "      <th>coeficiente_correlación</th>\n",
       "      <th>p</th>\n",
       "    </tr>\n",
       "  </thead>\n",
       "  <tbody>\n",
       "    <tr>\n",
       "      <th>0</th>\n",
       "      <td>Peso</td>\n",
       "      <td>0.421</td>\n",
       "      <td>&lt;0,001</td>\n",
       "    </tr>\n",
       "    <tr>\n",
       "      <th>1</th>\n",
       "      <td>IMC</td>\n",
       "      <td>0.447</td>\n",
       "      <td>&lt;0,001</td>\n",
       "    </tr>\n",
       "  </tbody>\n",
       "</table>\n",
       "</div>"
      ],
      "text/plain": [
       "  Unnamed: 0  coeficiente_correlación       p\n",
       "0       Peso                    0.421  <0,001\n",
       "1        IMC                    0.447  <0,001"
      ]
     },
     "execution_count": 11,
     "metadata": {},
     "output_type": "execute_result"
    }
   ],
   "source": [
    "df5_clean.head()"
   ]
  },
  {
   "cell_type": "markdown",
   "id": "e50b69bc",
   "metadata": {},
   "source": [
    "Los DataFrames 3, 4 y 5 han sido obtenidos a través del scrapeo, por Beautiful Soup, de un artículo publicado por \"elsevier\" una página web enfocada en \"Endocrinología y nutrición\". Así, las tres tablas, aunque con un denominador común, a saber: el estudio de la resistencia a la insulina en la población española, tienen un contenido diferente. "
   ]
  },
  {
   "cell_type": "markdown",
   "id": "54fc486c",
   "metadata": {},
   "source": [
    "· La primera de las tres tablas tiene tiene información acerca de la prevalencia de RI por grupos de edad y sexo.\n",
    "Por grupos de edad, puede observarse que la prevalencia aumenta con la edad, con un descenso a partir de los 65 años como se puede observar en la tabla 3. Sin embargo, no hay diferencia estadísticamente significativa en los hombres."
   ]
  },
  {
   "cell_type": "markdown",
   "id": "3a145d5f",
   "metadata": {},
   "source": [
    "· La segunda de ellas es una comparación de los valores medios de las diferentes variables analizadas entre aquellos individuos que presentan resistencia a la insulina (RI) y los que no.\n",
    "Puede observarse que los valores medios de las medidas antropométricas son mayores en el grupo de RI."
   ]
  },
  {
   "cell_type": "markdown",
   "id": "6c05b0c2",
   "metadata": {},
   "source": [
    "· La tercera contiene el coeficiente de correlación entre RI y algunas medidas las medidas antropométricas."
   ]
  },
  {
   "cell_type": "markdown",
   "id": "4de7b215",
   "metadata": {},
   "source": [
    "En estas tres tablas también se ha realizado una limpieza y trasnformación previa, disponible en el otro documento Jupyter."
   ]
  },
  {
   "cell_type": "markdown",
   "id": "6655cac7",
   "metadata": {},
   "source": [
    "# 4. Vinculación de los 3 primeros DataFrames a través de una columna común."
   ]
  },
  {
   "cell_type": "markdown",
   "id": "2f1fbc60",
   "metadata": {},
   "source": [
    "Para ir concluyendo con el proyecto, he optado por crear una columna adicional que vincule las tres primeras columnas a través de la edad, actuando como un punto de conexión común. Sin embargo, no eliminaré la columna \"edad\" de los dos primeros DataFrames, ya que en ellas se proporciona información más detallada en comparación con la columna \"rango_edad\".\n",
    "\n",
    "Por otro lado, las dos últimas columnas ya están relacionadas con la tercera y contienen un tipo diferente de información. Estas se tratarán por separado en el análisis."
   ]
  },
  {
   "cell_type": "code",
   "execution_count": 12,
   "id": "e554f7bb",
   "metadata": {},
   "outputs": [],
   "source": [
    "bins = [20, 30, 42, 54, 65, 75] # Defino los límites de los rangos de edades.\n",
    "\n",
    "labels = [\"< 31\", \"31-42\", \"43-54\", \"55-65\", \"65 +\"] # Defino las etiquetas para los rangos. \n",
    "\n",
    "df_clean[\"rango_edad\"] = pd.cut(df_clean[\"edad\"], bins=bins, labels=labels, right=False) # Crea una nueva columna denominada 'rango_edad'."
   ]
  },
  {
   "cell_type": "code",
   "execution_count": 13,
   "id": "cbf4b7ac",
   "metadata": {},
   "outputs": [
    {
     "data": {
      "text/html": [
       "<div>\n",
       "<style scoped>\n",
       "    .dataframe tbody tr th:only-of-type {\n",
       "        vertical-align: middle;\n",
       "    }\n",
       "\n",
       "    .dataframe tbody tr th {\n",
       "        vertical-align: top;\n",
       "    }\n",
       "\n",
       "    .dataframe thead th {\n",
       "        text-align: right;\n",
       "    }\n",
       "</style>\n",
       "<table border=\"1\" class=\"dataframe\">\n",
       "  <thead>\n",
       "    <tr style=\"text-align: right;\">\n",
       "      <th></th>\n",
       "      <th>sexo</th>\n",
       "      <th>edad</th>\n",
       "      <th>estudios</th>\n",
       "      <th>clase_social</th>\n",
       "      <th>ejercicio</th>\n",
       "      <th>dieta_mediterranea</th>\n",
       "      <th>consumo_tabaco</th>\n",
       "      <th>altura</th>\n",
       "      <th>peso</th>\n",
       "      <th>imc</th>\n",
       "      <th>colesterol</th>\n",
       "      <th>ct</th>\n",
       "      <th>glucemia</th>\n",
       "      <th>gluc</th>\n",
       "      <th>rango_edad</th>\n",
       "    </tr>\n",
       "  </thead>\n",
       "  <tbody>\n",
       "    <tr>\n",
       "      <th>0</th>\n",
       "      <td>mujer</td>\n",
       "      <td>57</td>\n",
       "      <td>secundarios</td>\n",
       "      <td>III</td>\n",
       "      <td>si</td>\n",
       "      <td>no</td>\n",
       "      <td>no</td>\n",
       "      <td>166.0</td>\n",
       "      <td>62.0</td>\n",
       "      <td>22.5</td>\n",
       "      <td>185</td>\n",
       "      <td>normal</td>\n",
       "      <td>84</td>\n",
       "      <td>normal</td>\n",
       "      <td>55-65</td>\n",
       "    </tr>\n",
       "    <tr>\n",
       "      <th>1</th>\n",
       "      <td>hombre</td>\n",
       "      <td>28</td>\n",
       "      <td>primarios</td>\n",
       "      <td>III</td>\n",
       "      <td>si</td>\n",
       "      <td>si</td>\n",
       "      <td>no</td>\n",
       "      <td>181.5</td>\n",
       "      <td>82.0</td>\n",
       "      <td>24.9</td>\n",
       "      <td>197</td>\n",
       "      <td>normal</td>\n",
       "      <td>62</td>\n",
       "      <td>normal</td>\n",
       "      <td>&lt; 31</td>\n",
       "    </tr>\n",
       "    <tr>\n",
       "      <th>2</th>\n",
       "      <td>hombre</td>\n",
       "      <td>25</td>\n",
       "      <td>universitarios</td>\n",
       "      <td>I</td>\n",
       "      <td>no</td>\n",
       "      <td>no</td>\n",
       "      <td>no</td>\n",
       "      <td>177.0</td>\n",
       "      <td>69.0</td>\n",
       "      <td>22.0</td>\n",
       "      <td>229</td>\n",
       "      <td>limitrofe</td>\n",
       "      <td>83</td>\n",
       "      <td>normal</td>\n",
       "      <td>&lt; 31</td>\n",
       "    </tr>\n",
       "    <tr>\n",
       "      <th>3</th>\n",
       "      <td>hombre</td>\n",
       "      <td>50</td>\n",
       "      <td>secundarios</td>\n",
       "      <td>III</td>\n",
       "      <td>no</td>\n",
       "      <td>no</td>\n",
       "      <td>si</td>\n",
       "      <td>171.0</td>\n",
       "      <td>86.0</td>\n",
       "      <td>29.4</td>\n",
       "      <td>272</td>\n",
       "      <td>alto</td>\n",
       "      <td>110</td>\n",
       "      <td>prediabetes</td>\n",
       "      <td>43-54</td>\n",
       "    </tr>\n",
       "    <tr>\n",
       "      <th>4</th>\n",
       "      <td>mujer</td>\n",
       "      <td>33</td>\n",
       "      <td>secundarios</td>\n",
       "      <td>II</td>\n",
       "      <td>si</td>\n",
       "      <td>no</td>\n",
       "      <td>no</td>\n",
       "      <td>154.0</td>\n",
       "      <td>45.0</td>\n",
       "      <td>19.0</td>\n",
       "      <td>191</td>\n",
       "      <td>normal</td>\n",
       "      <td>81</td>\n",
       "      <td>normal</td>\n",
       "      <td>31-42</td>\n",
       "    </tr>\n",
       "  </tbody>\n",
       "</table>\n",
       "</div>"
      ],
      "text/plain": [
       "     sexo  edad        estudios clase_social ejercicio dieta_mediterranea  \\\n",
       "0   mujer    57     secundarios          III        si                 no   \n",
       "1  hombre    28       primarios          III        si                 si   \n",
       "2  hombre    25  universitarios            I        no                 no   \n",
       "3  hombre    50     secundarios          III        no                 no   \n",
       "4   mujer    33     secundarios           II        si                 no   \n",
       "\n",
       "  consumo_tabaco  altura  peso   imc  colesterol         ct  glucemia  \\\n",
       "0             no   166.0  62.0  22.5         185     normal        84   \n",
       "1             no   181.5  82.0  24.9         197     normal        62   \n",
       "2             no   177.0  69.0  22.0         229  limitrofe        83   \n",
       "3             si   171.0  86.0  29.4         272       alto       110   \n",
       "4             no   154.0  45.0  19.0         191     normal        81   \n",
       "\n",
       "          gluc rango_edad  \n",
       "0       normal      55-65  \n",
       "1       normal       < 31  \n",
       "2       normal       < 31  \n",
       "3  prediabetes      43-54  \n",
       "4       normal      31-42  "
      ]
     },
     "execution_count": 13,
     "metadata": {},
     "output_type": "execute_result"
    }
   ],
   "source": [
    "df_clean.head()"
   ]
  },
  {
   "cell_type": "code",
   "execution_count": 14,
   "id": "df0d0fde",
   "metadata": {},
   "outputs": [],
   "source": [
    "bins = [20, 30, 42, 54, 65, 75]\n",
    "\n",
    "labels = [\"< 31\", \"31-42\", \"43-54\", \"55-65\", \"65 +\"]\n",
    "\n",
    "df2_clean[\"rango_edad\"] = pd.cut(df2_clean[\"edad\"], bins=bins, labels=labels, right=False)"
   ]
  },
  {
   "cell_type": "code",
   "execution_count": 15,
   "id": "e50da84b",
   "metadata": {},
   "outputs": [
    {
     "data": {
      "text/html": [
       "<div>\n",
       "<style scoped>\n",
       "    .dataframe tbody tr th:only-of-type {\n",
       "        vertical-align: middle;\n",
       "    }\n",
       "\n",
       "    .dataframe tbody tr th {\n",
       "        vertical-align: top;\n",
       "    }\n",
       "\n",
       "    .dataframe thead th {\n",
       "        text-align: right;\n",
       "    }\n",
       "</style>\n",
       "<table border=\"1\" class=\"dataframe\">\n",
       "  <thead>\n",
       "    <tr style=\"text-align: right;\">\n",
       "      <th></th>\n",
       "      <th>edad</th>\n",
       "      <th>sexo</th>\n",
       "      <th>año</th>\n",
       "      <th>total</th>\n",
       "      <th>rango_edad</th>\n",
       "    </tr>\n",
       "  </thead>\n",
       "  <tbody>\n",
       "    <tr>\n",
       "      <th>0</th>\n",
       "      <td>21</td>\n",
       "      <td>hombre</td>\n",
       "      <td>2006</td>\n",
       "      <td>248.031</td>\n",
       "      <td>&lt; 31</td>\n",
       "    </tr>\n",
       "    <tr>\n",
       "      <th>1</th>\n",
       "      <td>21</td>\n",
       "      <td>hombre</td>\n",
       "      <td>2005</td>\n",
       "      <td>256.159</td>\n",
       "      <td>&lt; 31</td>\n",
       "    </tr>\n",
       "    <tr>\n",
       "      <th>2</th>\n",
       "      <td>21</td>\n",
       "      <td>hombre</td>\n",
       "      <td>2004</td>\n",
       "      <td>270.677</td>\n",
       "      <td>&lt; 31</td>\n",
       "    </tr>\n",
       "    <tr>\n",
       "      <th>3</th>\n",
       "      <td>21</td>\n",
       "      <td>mujer</td>\n",
       "      <td>2006</td>\n",
       "      <td>235.545</td>\n",
       "      <td>&lt; 31</td>\n",
       "    </tr>\n",
       "    <tr>\n",
       "      <th>4</th>\n",
       "      <td>21</td>\n",
       "      <td>mujer</td>\n",
       "      <td>2005</td>\n",
       "      <td>243.919</td>\n",
       "      <td>&lt; 31</td>\n",
       "    </tr>\n",
       "  </tbody>\n",
       "</table>\n",
       "</div>"
      ],
      "text/plain": [
       "   edad    sexo   año    total rango_edad\n",
       "0    21  hombre  2006  248.031       < 31\n",
       "1    21  hombre  2005  256.159       < 31\n",
       "2    21  hombre  2004  270.677       < 31\n",
       "3    21   mujer  2006  235.545       < 31\n",
       "4    21   mujer  2005  243.919       < 31"
      ]
     },
     "execution_count": 15,
     "metadata": {},
     "output_type": "execute_result"
    }
   ],
   "source": [
    "df2_clean.head()"
   ]
  },
  {
   "cell_type": "markdown",
   "id": "edd7f32a",
   "metadata": {},
   "source": [
    "En el Dataframe 3, como ya tiene una columna que contiene los mismos valores que las que estoy creando en el resto de Dataframes como nexo común, decido cambiarle el nombre con el fin de que coincida con el nombre del resto de ellas."
   ]
  },
  {
   "cell_type": "code",
   "execution_count": 16,
   "id": "43f317bc",
   "metadata": {},
   "outputs": [],
   "source": [
    "df3_clean = df3_clean.rename(columns={\"edad\": \"rango_edad\"})"
   ]
  },
  {
   "cell_type": "code",
   "execution_count": 17,
   "id": "cb782c22",
   "metadata": {},
   "outputs": [
    {
     "data": {
      "text/html": [
       "<div>\n",
       "<style scoped>\n",
       "    .dataframe tbody tr th:only-of-type {\n",
       "        vertical-align: middle;\n",
       "    }\n",
       "\n",
       "    .dataframe tbody tr th {\n",
       "        vertical-align: top;\n",
       "    }\n",
       "\n",
       "    .dataframe thead th {\n",
       "        text-align: right;\n",
       "    }\n",
       "</style>\n",
       "<table border=\"1\" class=\"dataframe\">\n",
       "  <thead>\n",
       "    <tr style=\"text-align: right;\">\n",
       "      <th></th>\n",
       "      <th>rango_edad</th>\n",
       "      <th>total</th>\n",
       "      <th>mujeres</th>\n",
       "      <th>hombres</th>\n",
       "    </tr>\n",
       "  </thead>\n",
       "  <tbody>\n",
       "    <tr>\n",
       "      <th>0</th>\n",
       "      <td>&lt; 31</td>\n",
       "      <td>26,3%</td>\n",
       "      <td>21,2%</td>\n",
       "      <td>33,3%</td>\n",
       "    </tr>\n",
       "    <tr>\n",
       "      <th>1</th>\n",
       "      <td>31- 42</td>\n",
       "      <td>26,5%</td>\n",
       "      <td>19,3%</td>\n",
       "      <td>36,5%</td>\n",
       "    </tr>\n",
       "    <tr>\n",
       "      <th>2</th>\n",
       "      <td>43-54</td>\n",
       "      <td>38,1%</td>\n",
       "      <td>31,3%</td>\n",
       "      <td>46,3%</td>\n",
       "    </tr>\n",
       "    <tr>\n",
       "      <th>3</th>\n",
       "      <td>55-65</td>\n",
       "      <td>52,0%</td>\n",
       "      <td>53,0%</td>\n",
       "      <td>50,8%</td>\n",
       "    </tr>\n",
       "    <tr>\n",
       "      <th>4</th>\n",
       "      <td>65 +</td>\n",
       "      <td>49,1%</td>\n",
       "      <td>51,9%</td>\n",
       "      <td>44,1%</td>\n",
       "    </tr>\n",
       "    <tr>\n",
       "      <th>5</th>\n",
       "      <td>total</td>\n",
       "      <td>39,8%</td>\n",
       "      <td>37,1%</td>\n",
       "      <td>43,6%</td>\n",
       "    </tr>\n",
       "    <tr>\n",
       "      <th>6</th>\n",
       "      <td>p</td>\n",
       "      <td>&lt; 0,001</td>\n",
       "      <td>&lt; 0,001</td>\n",
       "      <td>0,427</td>\n",
       "    </tr>\n",
       "  </tbody>\n",
       "</table>\n",
       "</div>"
      ],
      "text/plain": [
       "  rango_edad    total  mujeres hombres\n",
       "0       < 31    26,3%    21,2%   33,3%\n",
       "1     31- 42    26,5%    19,3%   36,5%\n",
       "2      43-54    38,1%    31,3%   46,3%\n",
       "3      55-65    52,0%    53,0%   50,8%\n",
       "4       65 +    49,1%    51,9%   44,1%\n",
       "5      total    39,8%    37,1%   43,6%\n",
       "6          p  < 0,001  < 0,001   0,427"
      ]
     },
     "execution_count": 17,
     "metadata": {},
     "output_type": "execute_result"
    }
   ],
   "source": [
    "df3_clean"
   ]
  },
  {
   "cell_type": "markdown",
   "id": "c7a6a8ad",
   "metadata": {},
   "source": [
    "# 5. Exportación y modificación de los nombres de los DataFrames."
   ]
  },
  {
   "cell_type": "code",
   "execution_count": 18,
   "id": "cf8c9896",
   "metadata": {},
   "outputs": [],
   "source": [
    "df_clean.to_csv('df_estudio_poblacion_esp.csv', index=False)"
   ]
  },
  {
   "cell_type": "code",
   "execution_count": 19,
   "id": "b5f2d863",
   "metadata": {},
   "outputs": [],
   "source": [
    "df2_clean.to_csv('df_poblacion_esp_total.csv', index=False)"
   ]
  },
  {
   "cell_type": "code",
   "execution_count": 20,
   "id": "1e76ddaa",
   "metadata": {},
   "outputs": [],
   "source": [
    "df3_clean.to_csv('df_prevalencia_RI.csv', index=False)"
   ]
  },
  {
   "cell_type": "code",
   "execution_count": 21,
   "id": "154f1941",
   "metadata": {},
   "outputs": [],
   "source": [
    "df4_clean.to_csv('df_comparacion_RI.csv', index=False)"
   ]
  },
  {
   "cell_type": "code",
   "execution_count": 22,
   "id": "bd2bc83d",
   "metadata": {},
   "outputs": [],
   "source": [
    "df5_clean.to_csv('df_correlacion_RI.csv', index=False)"
   ]
  }
 ],
 "metadata": {
  "kernelspec": {
   "display_name": "Python 3 (ipykernel)",
   "language": "python",
   "name": "python3"
  },
  "language_info": {
   "codemirror_mode": {
    "name": "ipython",
    "version": 3
   },
   "file_extension": ".py",
   "mimetype": "text/x-python",
   "name": "python",
   "nbconvert_exporter": "python",
   "pygments_lexer": "ipython3",
   "version": "3.11.4"
  }
 },
 "nbformat": 4,
 "nbformat_minor": 5
}
