{
 "cells": [
  {
   "cell_type": "markdown",
   "id": "29de80c3",
   "metadata": {},
   "source": [
    "# RELACIÓN ENTRE ALGUNAS VARIABLES SOCIODEMOGRÁFICAS CON LA RESISTENCIA A LA INSULINA DE LA POBLACIÓN ESPAÑOLA.\n"
   ]
  },
  {
   "cell_type": "markdown",
   "id": "27bf6160",
   "metadata": {},
   "source": [
    "# LIMPIEZA Y TRANSFORMACIÓN DE LOS DATOS."
   ]
  },
  {
   "cell_type": "code",
   "execution_count": 1,
   "id": "92bdbccd",
   "metadata": {},
   "outputs": [],
   "source": [
    "import pandas as pd\n",
    "pd.set_option('display.max_columns', None)\n",
    "\n",
    "\n",
    "import numpy as np\n",
    "\n",
    "import warnings\n",
    "warnings.filterwarnings('ignore')\n",
    "\n",
    "\n",
    "import pylab as plt  # import matplotlib.pyplot as plt\n",
    "import seaborn as sns\n",
    "\n",
    "# para la grafica\n",
    "#%matplotlib inline"
   ]
  },
  {
   "cell_type": "code",
   "execution_count": 2,
   "id": "67cef66a",
   "metadata": {},
   "outputs": [],
   "source": [
    "#%pip install pytesseract"
   ]
  },
  {
   "cell_type": "code",
   "execution_count": 3,
   "id": "1c5bed35",
   "metadata": {},
   "outputs": [],
   "source": [
    "import pytesseract"
   ]
  },
  {
   "cell_type": "code",
   "execution_count": 4,
   "id": "ff90d21c",
   "metadata": {},
   "outputs": [],
   "source": [
    "from PIL import Image"
   ]
  },
  {
   "cell_type": "code",
   "execution_count": 5,
   "id": "64428df7",
   "metadata": {},
   "outputs": [],
   "source": [
    "import requests as req\n",
    "from bs4 import BeautifulSoup as bs"
   ]
  },
  {
   "cell_type": "code",
   "execution_count": 6,
   "id": "2d12d1e8",
   "metadata": {},
   "outputs": [],
   "source": [
    "from selenium.webdriver.chrome.options import Options\n",
    "from webdriver_manager.chrome import ChromeDriverManager"
   ]
  },
  {
   "cell_type": "code",
   "execution_count": 7,
   "id": "a30f7d4c",
   "metadata": {},
   "outputs": [],
   "source": [
    "import time\n",
    "\n",
    "import warnings\n",
    "warnings.filterwarnings('ignore')\n",
    "\n",
    "from selenium.webdriver.common.by import By"
   ]
  },
  {
   "cell_type": "code",
   "execution_count": 8,
   "id": "9ff71326",
   "metadata": {},
   "outputs": [],
   "source": [
    "#driver configuration\n",
    "opciones=Options()\n",
    "\n",
    "opciones.add_experimental_option('excludeSwitches', ['enable-automation'])\n",
    "opciones.add_experimental_option('useAutomationExtension', False)\n",
    "opciones.headless=False    # si True, no aperece la ventana (headless=no visible)\n",
    "opciones.add_argument('--start-maximized')         # comienza maximizado\n",
    "#opciones.add_argument('user-data-dir=selenium')    # mantiene las cookies\n",
    "#opciones.add_extension('driver_folder/adblock.crx')       # adblocker\n",
    "opciones.add_argument('--incognito')"
   ]
  },
  {
   "cell_type": "code",
   "execution_count": 9,
   "id": "51ab9706",
   "metadata": {},
   "outputs": [],
   "source": [
    "#from selenium import webdriver\n",
    "\n",
    "#PATH = \"driver/chromedriver\" \n",
    "#driver = webdriver.Chrome(options = opciones)\n",
    "#driver.get('https://www.google.es')"
   ]
  },
  {
   "cell_type": "markdown",
   "id": "cda9a4c4",
   "metadata": {},
   "source": [
    "# 1. Fuente 1- CSV: Estudio poblacional español."
   ]
  },
  {
   "cell_type": "markdown",
   "id": "91206e41",
   "metadata": {},
   "source": [
    "# 1.1. Exploración inicial."
   ]
  },
  {
   "cell_type": "code",
   "execution_count": 10,
   "id": "dd2f3c0b",
   "metadata": {},
   "outputs": [],
   "source": [
    "df_original = pd.read_csv('/Users/karmelealonsoaia/Desktop/ironhack_labs/PROYECTOS/3.-project_etl/notebook/estudio_poblacional_palma_mallorca.csv', sep=';')\n",
    "\n",
    "df = df_original.copy()"
   ]
  },
  {
   "cell_type": "code",
   "execution_count": 11,
   "id": "78ee7a43",
   "metadata": {},
   "outputs": [
    {
     "data": {
      "text/plain": [
       "(58576, 75)"
      ]
     },
     "execution_count": 11,
     "metadata": {},
     "output_type": "execute_result"
    }
   ],
   "source": [
    "dim_original = df.shape # De esta forma guardo las dimensiones del data frame original.\n",
    "\n",
    "df.shape"
   ]
  },
  {
   "cell_type": "code",
   "execution_count": 12,
   "id": "f044789e",
   "metadata": {},
   "outputs": [
    {
     "data": {
      "text/html": [
       "<div>\n",
       "<style scoped>\n",
       "    .dataframe tbody tr th:only-of-type {\n",
       "        vertical-align: middle;\n",
       "    }\n",
       "\n",
       "    .dataframe tbody tr th {\n",
       "        vertical-align: top;\n",
       "    }\n",
       "\n",
       "    .dataframe thead th {\n",
       "        text-align: right;\n",
       "    }\n",
       "</style>\n",
       "<table border=\"1\" class=\"dataframe\">\n",
       "  <thead>\n",
       "    <tr style=\"text-align: right;\">\n",
       "      <th></th>\n",
       "      <th>sexo</th>\n",
       "      <th>edad</th>\n",
       "      <th>edad_A</th>\n",
       "      <th>estudios</th>\n",
       "      <th>clasesocial</th>\n",
       "      <th>ejercicio</th>\n",
       "      <th>alimentación</th>\n",
       "      <th>tabaco</th>\n",
       "      <th>altura</th>\n",
       "      <th>peso</th>\n",
       "      <th>IMC</th>\n",
       "      <th>TAS</th>\n",
       "      <th>TAD</th>\n",
       "      <th>TART</th>\n",
       "      <th>HTA</th>\n",
       "      <th>COLESTEROL</th>\n",
       "      <th>CT</th>\n",
       "      <th>HDL</th>\n",
       "      <th>LDL</th>\n",
       "      <th>LDL_A</th>\n",
       "      <th>TRIGLICERIDOS</th>\n",
       "      <th>TG</th>\n",
       "      <th>GLUCEMIA</th>\n",
       "      <th>GLUC</th>\n",
       "      <th>DIABETES</th>\n",
       "      <th>CINTURA</th>\n",
       "      <th>CADERA</th>\n",
       "      <th>CINTALTURA</th>\n",
       "      <th>ICALT</th>\n",
       "      <th>CINTCADERA</th>\n",
       "      <th>CINTCADERA_A</th>\n",
       "      <th>AVI</th>\n",
       "      <th>AVI_A</th>\n",
       "      <th>BAI</th>\n",
       "      <th>BAI_A</th>\n",
       "      <th>WWINDEX</th>\n",
       "      <th>BSA</th>\n",
       "      <th>BSI</th>\n",
       "      <th>BRI</th>\n",
       "      <th>ABSI</th>\n",
       "      <th>VAI</th>\n",
       "      <th>DAI</th>\n",
       "      <th>CI</th>\n",
       "      <th>BFI</th>\n",
       "      <th>Deuremberg</th>\n",
       "      <th>Palafolls</th>\n",
       "      <th>RFM</th>\n",
       "      <th>ECORE</th>\n",
       "      <th>CUNBAE</th>\n",
       "      <th>METSVF</th>\n",
       "      <th>MetsIR</th>\n",
       "      <th>Sexo_num</th>\n",
       "      <th>estudios_num</th>\n",
       "      <th>clasesocial_num</th>\n",
       "      <th>ejercicio_num</th>\n",
       "      <th>CUNBAE_A</th>\n",
       "      <th>alimentacion_num</th>\n",
       "      <th>tabaco_num</th>\n",
       "      <th>HTA_num</th>\n",
       "      <th>TART_num</th>\n",
       "      <th>CT_num</th>\n",
       "      <th>TG_num</th>\n",
       "      <th>LDL_A_num</th>\n",
       "      <th>edad_A_num</th>\n",
       "      <th>GLUC_num</th>\n",
       "      <th>DIABETES_num</th>\n",
       "      <th>IMC_A</th>\n",
       "      <th>ICALT_num</th>\n",
       "      <th>METSVF_A</th>\n",
       "      <th>IMC_A_Kappa</th>\n",
       "      <th>IMC_obesidad</th>\n",
       "      <th>BAI_A_Num</th>\n",
       "      <th>BAI_A_obesidad</th>\n",
       "      <th>CUNBAE_A_Obesidad</th>\n",
       "      <th>METSVF_A_Obesidad</th>\n",
       "    </tr>\n",
       "  </thead>\n",
       "  <tbody>\n",
       "    <tr>\n",
       "      <th>0</th>\n",
       "      <td>Mujer</td>\n",
       "      <td>57</td>\n",
       "      <td>50-59a</td>\n",
       "      <td>secundarios</td>\n",
       "      <td>III</td>\n",
       "      <td>si</td>\n",
       "      <td>no</td>\n",
       "      <td>no</td>\n",
       "      <td>166</td>\n",
       "      <td>62</td>\n",
       "      <td>22,5</td>\n",
       "      <td>110</td>\n",
       "      <td>70</td>\n",
       "      <td>normal</td>\n",
       "      <td>no</td>\n",
       "      <td>185</td>\n",
       "      <td>normal</td>\n",
       "      <td>47</td>\n",
       "      <td>126</td>\n",
       "      <td>normal</td>\n",
       "      <td>61</td>\n",
       "      <td>normal</td>\n",
       "      <td>84</td>\n",
       "      <td>normal</td>\n",
       "      <td>no</td>\n",
       "      <td>58</td>\n",
       "      <td>94</td>\n",
       "      <td>0,41</td>\n",
       "      <td>normal</td>\n",
       "      <td>0,62</td>\n",
       "      <td>no</td>\n",
       "      <td>7,64</td>\n",
       "      <td>normal</td>\n",
       "      <td>25,95</td>\n",
       "      <td>saludable</td>\n",
       "      <td>7,37</td>\n",
       "      <td>1,69</td>\n",
       "      <td>47,7</td>\n",
       "      <td>0,97</td>\n",
       "      <td>0,057</td>\n",
       "      <td>1,79</td>\n",
       "      <td>0,46</td>\n",
       "      <td>0,87</td>\n",
       "      <td>13,33</td>\n",
       "      <td>34,71</td>\n",
       "      <td>36,38</td>\n",
       "      <td>18,76</td>\n",
       "      <td>33,77</td>\n",
       "      <td>34,71</td>\n",
       "      <td>5,03</td>\n",
       "      <td>2,21997653</td>\n",
       "      <td>1</td>\n",
       "      <td>2</td>\n",
       "      <td>3</td>\n",
       "      <td>1</td>\n",
       "      <td>3</td>\n",
       "      <td>0</td>\n",
       "      <td>0</td>\n",
       "      <td>0</td>\n",
       "      <td>1</td>\n",
       "      <td>1</td>\n",
       "      <td>1</td>\n",
       "      <td>1</td>\n",
       "      <td>4</td>\n",
       "      <td>1</td>\n",
       "      <td>0</td>\n",
       "      <td>2</td>\n",
       "      <td>1</td>\n",
       "      <td>1</td>\n",
       "      <td>1</td>\n",
       "      <td>0</td>\n",
       "      <td>2</td>\n",
       "      <td>0</td>\n",
       "      <td>1</td>\n",
       "      <td>0</td>\n",
       "    </tr>\n",
       "    <tr>\n",
       "      <th>1</th>\n",
       "      <td>Hombre</td>\n",
       "      <td>28</td>\n",
       "      <td>20-29a</td>\n",
       "      <td>primarios</td>\n",
       "      <td>III</td>\n",
       "      <td>si</td>\n",
       "      <td>si</td>\n",
       "      <td>no</td>\n",
       "      <td>181,5</td>\n",
       "      <td>82</td>\n",
       "      <td>24,9</td>\n",
       "      <td>120</td>\n",
       "      <td>65</td>\n",
       "      <td>preHTA</td>\n",
       "      <td>no</td>\n",
       "      <td>197</td>\n",
       "      <td>normal</td>\n",
       "      <td>58</td>\n",
       "      <td>126</td>\n",
       "      <td>normal</td>\n",
       "      <td>66</td>\n",
       "      <td>normal</td>\n",
       "      <td>62</td>\n",
       "      <td>normal</td>\n",
       "      <td>no</td>\n",
       "      <td>96</td>\n",
       "      <td>87</td>\n",
       "      <td>0,53</td>\n",
       "      <td>alto</td>\n",
       "      <td>1,1</td>\n",
       "      <td>no</td>\n",
       "      <td>18,49</td>\n",
       "      <td>normal</td>\n",
       "      <td>17,58</td>\n",
       "      <td>saludable</td>\n",
       "      <td>10,6</td>\n",
       "      <td>2,03</td>\n",
       "      <td>57,56</td>\n",
       "      <td>3,92</td>\n",
       "      <td>0,084</td>\n",
       "      <td>3,61</td>\n",
       "      <td>0,46</td>\n",
       "      <td>1,31</td>\n",
       "      <td>17,33</td>\n",
       "      <td>20,12</td>\n",
       "      <td>27,49</td>\n",
       "      <td>26,19</td>\n",
       "      <td>21,95</td>\n",
       "      <td>21,66</td>\n",
       "      <td>6,4</td>\n",
       "      <td>2,083982426</td>\n",
       "      <td>0</td>\n",
       "      <td>1</td>\n",
       "      <td>3</td>\n",
       "      <td>1</td>\n",
       "      <td>3</td>\n",
       "      <td>1</td>\n",
       "      <td>0</td>\n",
       "      <td>0</td>\n",
       "      <td>2</td>\n",
       "      <td>1</td>\n",
       "      <td>1</td>\n",
       "      <td>1</td>\n",
       "      <td>1</td>\n",
       "      <td>1</td>\n",
       "      <td>0</td>\n",
       "      <td>2</td>\n",
       "      <td>2</td>\n",
       "      <td>1</td>\n",
       "      <td>1</td>\n",
       "      <td>0</td>\n",
       "      <td>2</td>\n",
       "      <td>0</td>\n",
       "      <td>1</td>\n",
       "      <td>0</td>\n",
       "    </tr>\n",
       "    <tr>\n",
       "      <th>2</th>\n",
       "      <td>Hombre</td>\n",
       "      <td>25</td>\n",
       "      <td>20-29a</td>\n",
       "      <td>universitarios</td>\n",
       "      <td>I</td>\n",
       "      <td>no</td>\n",
       "      <td>no</td>\n",
       "      <td>no</td>\n",
       "      <td>177</td>\n",
       "      <td>69</td>\n",
       "      <td>22</td>\n",
       "      <td>120</td>\n",
       "      <td>55</td>\n",
       "      <td>preHTA</td>\n",
       "      <td>no</td>\n",
       "      <td>229</td>\n",
       "      <td>limítrofe</td>\n",
       "      <td>50</td>\n",
       "      <td>159</td>\n",
       "      <td>limítrofe</td>\n",
       "      <td>98</td>\n",
       "      <td>normal</td>\n",
       "      <td>83</td>\n",
       "      <td>normal</td>\n",
       "      <td>no</td>\n",
       "      <td>71</td>\n",
       "      <td>76</td>\n",
       "      <td>0,41</td>\n",
       "      <td>normal</td>\n",
       "      <td>0,93</td>\n",
       "      <td>no</td>\n",
       "      <td>10,1</td>\n",
       "      <td>normal</td>\n",
       "      <td>14,27</td>\n",
       "      <td>saludable</td>\n",
       "      <td>8,55</td>\n",
       "      <td>1,85</td>\n",
       "      <td>50,7</td>\n",
       "      <td>1,69</td>\n",
       "      <td>0,068</td>\n",
       "      <td>4,67</td>\n",
       "      <td>0,65</td>\n",
       "      <td>1,04</td>\n",
       "      <td>0,52</td>\n",
       "      <td>15,95</td>\n",
       "      <td>25,1</td>\n",
       "      <td>14,14</td>\n",
       "      <td>17,12</td>\n",
       "      <td>16,33</td>\n",
       "      <td>4,85</td>\n",
       "      <td>2,215475611</td>\n",
       "      <td>0</td>\n",
       "      <td>3</td>\n",
       "      <td>1</td>\n",
       "      <td>0</td>\n",
       "      <td>2</td>\n",
       "      <td>0</td>\n",
       "      <td>0</td>\n",
       "      <td>0</td>\n",
       "      <td>2</td>\n",
       "      <td>2</td>\n",
       "      <td>1</td>\n",
       "      <td>2</td>\n",
       "      <td>1</td>\n",
       "      <td>1</td>\n",
       "      <td>0</td>\n",
       "      <td>2</td>\n",
       "      <td>1</td>\n",
       "      <td>1</td>\n",
       "      <td>1</td>\n",
       "      <td>0</td>\n",
       "      <td>2</td>\n",
       "      <td>0</td>\n",
       "      <td>0</td>\n",
       "      <td>0</td>\n",
       "    </tr>\n",
       "    <tr>\n",
       "      <th>3</th>\n",
       "      <td>Hombre</td>\n",
       "      <td>50</td>\n",
       "      <td>50-59a</td>\n",
       "      <td>secundarios</td>\n",
       "      <td>III</td>\n",
       "      <td>no</td>\n",
       "      <td>no</td>\n",
       "      <td>si</td>\n",
       "      <td>171</td>\n",
       "      <td>86</td>\n",
       "      <td>29,4</td>\n",
       "      <td>150</td>\n",
       "      <td>100</td>\n",
       "      <td>HTA 2</td>\n",
       "      <td>si</td>\n",
       "      <td>272</td>\n",
       "      <td>alto</td>\n",
       "      <td>47</td>\n",
       "      <td>206</td>\n",
       "      <td>muy alto</td>\n",
       "      <td>96</td>\n",
       "      <td>normal</td>\n",
       "      <td>110</td>\n",
       "      <td>prediabetes</td>\n",
       "      <td>no</td>\n",
       "      <td>79</td>\n",
       "      <td>90</td>\n",
       "      <td>0,47</td>\n",
       "      <td>normal</td>\n",
       "      <td>0,88</td>\n",
       "      <td>no</td>\n",
       "      <td>12,57</td>\n",
       "      <td>normal</td>\n",
       "      <td>22,25</td>\n",
       "      <td>sobrepeso</td>\n",
       "      <td>8,52</td>\n",
       "      <td>1,98</td>\n",
       "      <td>61,06</td>\n",
       "      <td>2,67</td>\n",
       "      <td>0,064</td>\n",
       "      <td>5,34</td>\n",
       "      <td>0,6</td>\n",
       "      <td>1,02</td>\n",
       "      <td>6,39</td>\n",
       "      <td>30,58</td>\n",
       "      <td>33,12</td>\n",
       "      <td>20,71</td>\n",
       "      <td>30,63</td>\n",
       "      <td>30,62</td>\n",
       "      <td>6,31</td>\n",
       "      <td>2,373087433</td>\n",
       "      <td>0</td>\n",
       "      <td>2</td>\n",
       "      <td>3</td>\n",
       "      <td>0</td>\n",
       "      <td>4</td>\n",
       "      <td>0</td>\n",
       "      <td>1</td>\n",
       "      <td>1</td>\n",
       "      <td>4</td>\n",
       "      <td>3</td>\n",
       "      <td>1</td>\n",
       "      <td>4</td>\n",
       "      <td>4</td>\n",
       "      <td>2</td>\n",
       "      <td>0</td>\n",
       "      <td>3</td>\n",
       "      <td>1</td>\n",
       "      <td>1</td>\n",
       "      <td>1</td>\n",
       "      <td>0</td>\n",
       "      <td>3</td>\n",
       "      <td>0</td>\n",
       "      <td>0</td>\n",
       "      <td>0</td>\n",
       "    </tr>\n",
       "    <tr>\n",
       "      <th>4</th>\n",
       "      <td>Mujer</td>\n",
       "      <td>33</td>\n",
       "      <td>30-39a</td>\n",
       "      <td>secundarios</td>\n",
       "      <td>II</td>\n",
       "      <td>si</td>\n",
       "      <td>no</td>\n",
       "      <td>no</td>\n",
       "      <td>154</td>\n",
       "      <td>45</td>\n",
       "      <td>19</td>\n",
       "      <td>100</td>\n",
       "      <td>60</td>\n",
       "      <td>normal</td>\n",
       "      <td>no</td>\n",
       "      <td>191</td>\n",
       "      <td>normal</td>\n",
       "      <td>58</td>\n",
       "      <td>112</td>\n",
       "      <td>normal</td>\n",
       "      <td>105</td>\n",
       "      <td>normal</td>\n",
       "      <td>81</td>\n",
       "      <td>normal</td>\n",
       "      <td>no</td>\n",
       "      <td>61</td>\n",
       "      <td>80</td>\n",
       "      <td>0,4</td>\n",
       "      <td>normal</td>\n",
       "      <td>0,76</td>\n",
       "      <td>no</td>\n",
       "      <td>7,69</td>\n",
       "      <td>normal</td>\n",
       "      <td>23,86</td>\n",
       "      <td>saludable</td>\n",
       "      <td>9,09</td>\n",
       "      <td>1,4</td>\n",
       "      <td>38,08</td>\n",
       "      <td>1,62</td>\n",
       "      <td>0,069</td>\n",
       "      <td>2,86</td>\n",
       "      <td>0,76</td>\n",
       "      <td>1,04</td>\n",
       "      <td>17,81</td>\n",
       "      <td>24,99</td>\n",
       "      <td>32,11</td>\n",
       "      <td>25,51</td>\n",
       "      <td>24,74</td>\n",
       "      <td>24,96</td>\n",
       "      <td>4,43</td>\n",
       "      <td>2,101171625</td>\n",
       "      <td>1</td>\n",
       "      <td>2</td>\n",
       "      <td>2</td>\n",
       "      <td>1</td>\n",
       "      <td>1</td>\n",
       "      <td>0</td>\n",
       "      <td>0</td>\n",
       "      <td>0</td>\n",
       "      <td>1</td>\n",
       "      <td>1</td>\n",
       "      <td>1</td>\n",
       "      <td>1</td>\n",
       "      <td>2</td>\n",
       "      <td>1</td>\n",
       "      <td>0</td>\n",
       "      <td>2</td>\n",
       "      <td>1</td>\n",
       "      <td>1</td>\n",
       "      <td>1</td>\n",
       "      <td>0</td>\n",
       "      <td>2</td>\n",
       "      <td>0</td>\n",
       "      <td>0</td>\n",
       "      <td>0</td>\n",
       "    </tr>\n",
       "  </tbody>\n",
       "</table>\n",
       "</div>"
      ],
      "text/plain": [
       "     sexo  edad  edad_A        estudios clasesocial ejercicio alimentación  \\\n",
       "0   Mujer    57  50-59a     secundarios         III        si           no   \n",
       "1  Hombre    28  20-29a       primarios         III        si           si   \n",
       "2  Hombre    25  20-29a  universitarios           I        no           no   \n",
       "3  Hombre    50  50-59a     secundarios         III        no           no   \n",
       "4   Mujer    33  30-39a     secundarios          II        si           no   \n",
       "\n",
       "  tabaco altura peso   IMC  TAS  TAD    TART HTA  COLESTEROL         CT  HDL  \\\n",
       "0     no    166   62  22,5  110   70  normal  no         185     normal   47   \n",
       "1     no  181,5   82  24,9  120   65  preHTA  no         197     normal   58   \n",
       "2     no    177   69    22  120   55  preHTA  no         229  limítrofe   50   \n",
       "3     si    171   86  29,4  150  100   HTA 2  si         272       alto   47   \n",
       "4     no    154   45    19  100   60  normal  no         191     normal   58   \n",
       "\n",
       "   LDL      LDL_A  TRIGLICERIDOS      TG  GLUCEMIA         GLUC DIABETES  \\\n",
       "0  126     normal             61  normal        84       normal       no   \n",
       "1  126     normal             66  normal        62       normal       no   \n",
       "2  159  limítrofe             98  normal        83       normal       no   \n",
       "3  206   muy alto             96  normal       110  prediabetes       no   \n",
       "4  112     normal            105  normal        81       normal       no   \n",
       "\n",
       "   CINTURA  CADERA CINTALTURA   ICALT CINTCADERA CINTCADERA_A    AVI   AVI_A  \\\n",
       "0       58      94       0,41  normal       0,62           no   7,64  normal   \n",
       "1       96      87       0,53    alto        1,1           no  18,49  normal   \n",
       "2       71      76       0,41  normal       0,93           no   10,1  normal   \n",
       "3       79      90       0,47  normal       0,88           no  12,57  normal   \n",
       "4       61      80        0,4  normal       0,76           no   7,69  normal   \n",
       "\n",
       "     BAI      BAI_A WWINDEX   BSA    BSI   BRI   ABSI   VAI   DAI    CI  \\\n",
       "0  25,95  saludable    7,37  1,69   47,7  0,97  0,057  1,79  0,46  0,87   \n",
       "1  17,58  saludable    10,6  2,03  57,56  3,92  0,084  3,61  0,46  1,31   \n",
       "2  14,27  saludable    8,55  1,85   50,7  1,69  0,068  4,67  0,65  1,04   \n",
       "3  22,25  sobrepeso    8,52  1,98  61,06  2,67  0,064  5,34   0,6  1,02   \n",
       "4  23,86  saludable    9,09   1,4  38,08  1,62  0,069  2,86  0,76  1,04   \n",
       "\n",
       "     BFI Deuremberg Palafolls    RFM  ECORE CUNBAE METSVF       MetsIR  \\\n",
       "0  13,33      34,71     36,38  18,76  33,77  34,71   5,03   2,21997653   \n",
       "1  17,33      20,12     27,49  26,19  21,95  21,66    6,4  2,083982426   \n",
       "2   0,52      15,95      25,1  14,14  17,12  16,33   4,85  2,215475611   \n",
       "3   6,39      30,58     33,12  20,71  30,63  30,62   6,31  2,373087433   \n",
       "4  17,81      24,99     32,11  25,51  24,74  24,96   4,43  2,101171625   \n",
       "\n",
       "   Sexo_num  estudios_num  clasesocial_num  ejercicio_num  CUNBAE_A  \\\n",
       "0         1             2                3              1         3   \n",
       "1         0             1                3              1         3   \n",
       "2         0             3                1              0         2   \n",
       "3         0             2                3              0         4   \n",
       "4         1             2                2              1         1   \n",
       "\n",
       "   alimentacion_num  tabaco_num  HTA_num  TART_num  CT_num  TG_num  LDL_A_num  \\\n",
       "0                 0           0        0         1       1       1          1   \n",
       "1                 1           0        0         2       1       1          1   \n",
       "2                 0           0        0         2       2       1          2   \n",
       "3                 0           1        1         4       3       1          4   \n",
       "4                 0           0        0         1       1       1          1   \n",
       "\n",
       "   edad_A_num  GLUC_num  DIABETES_num  IMC_A  ICALT_num  METSVF_A  \\\n",
       "0           4         1             0      2          1         1   \n",
       "1           1         1             0      2          2         1   \n",
       "2           1         1             0      2          1         1   \n",
       "3           4         2             0      3          1         1   \n",
       "4           2         1             0      2          1         1   \n",
       "\n",
       "   IMC_A_Kappa  IMC_obesidad  BAI_A_Num  BAI_A_obesidad  CUNBAE_A_Obesidad  \\\n",
       "0            1             0          2               0                  1   \n",
       "1            1             0          2               0                  1   \n",
       "2            1             0          2               0                  0   \n",
       "3            1             0          3               0                  0   \n",
       "4            1             0          2               0                  0   \n",
       "\n",
       "   METSVF_A_Obesidad  \n",
       "0                  0  \n",
       "1                  0  \n",
       "2                  0  \n",
       "3                  0  \n",
       "4                  0  "
      ]
     },
     "execution_count": 12,
     "metadata": {},
     "output_type": "execute_result"
    }
   ],
   "source": [
    "df.head()"
   ]
  },
  {
   "cell_type": "code",
   "execution_count": 13,
   "id": "170c68f1",
   "metadata": {},
   "outputs": [
    {
     "data": {
      "text/plain": [
       "Index(['sexo', 'edad', 'edad_A', 'estudios', 'clasesocial', 'ejercicio',\n",
       "       'alimentación', 'tabaco', 'altura', 'peso', 'IMC', 'TAS', 'TAD', 'TART',\n",
       "       'HTA', 'COLESTEROL', 'CT', 'HDL', 'LDL', 'LDL_A', 'TRIGLICERIDOS', 'TG',\n",
       "       'GLUCEMIA', 'GLUC', 'DIABETES', 'CINTURA', 'CADERA', 'CINTALTURA',\n",
       "       'ICALT', 'CINTCADERA', 'CINTCADERA_A', 'AVI', 'AVI_A', 'BAI', 'BAI_A',\n",
       "       'WWINDEX', 'BSA', 'BSI', 'BRI', 'ABSI', 'VAI', 'DAI', 'CI', 'BFI',\n",
       "       'Deuremberg', 'Palafolls', 'RFM', 'ECORE', 'CUNBAE', 'METSVF', 'MetsIR',\n",
       "       'Sexo_num', 'estudios_num', 'clasesocial_num', 'ejercicio_num',\n",
       "       'CUNBAE_A', 'alimentacion_num', 'tabaco_num', 'HTA_num', 'TART_num',\n",
       "       'CT_num', 'TG_num', 'LDL_A_num', 'edad_A_num', 'GLUC_num',\n",
       "       'DIABETES_num', 'IMC_A', 'ICALT_num', 'METSVF_A', 'IMC_A_Kappa',\n",
       "       'IMC_obesidad', 'BAI_A_Num', 'BAI_A_obesidad', 'CUNBAE_A_Obesidad',\n",
       "       'METSVF_A_Obesidad'],\n",
       "      dtype='object')"
      ]
     },
     "execution_count": 13,
     "metadata": {},
     "output_type": "execute_result"
    }
   ],
   "source": [
    "df.columns # Esto nos proporciona una enumeración de los nombres correspondientes a cada una de las columnas presentes en los datos."
   ]
  },
  {
   "cell_type": "code",
   "execution_count": 14,
   "id": "d93bb1be",
   "metadata": {},
   "outputs": [
    {
     "name": "stdout",
     "output_type": "stream",
     "text": [
      "<class 'pandas.core.frame.DataFrame'>\n",
      "RangeIndex: 58576 entries, 0 to 58575\n",
      "Data columns (total 75 columns):\n",
      " #   Column             Non-Null Count  Dtype \n",
      "---  ------             --------------  ----- \n",
      " 0   sexo               58576 non-null  object\n",
      " 1   edad               58576 non-null  int64 \n",
      " 2   edad_A             58576 non-null  object\n",
      " 3   estudios           58576 non-null  object\n",
      " 4   clasesocial        58576 non-null  object\n",
      " 5   ejercicio          58576 non-null  object\n",
      " 6   alimentación       58576 non-null  object\n",
      " 7   tabaco             58576 non-null  object\n",
      " 8   altura             58576 non-null  object\n",
      " 9   peso               58576 non-null  object\n",
      " 10  IMC                58576 non-null  object\n",
      " 11  TAS                58576 non-null  int64 \n",
      " 12  TAD                58576 non-null  int64 \n",
      " 13  TART               58576 non-null  object\n",
      " 14  HTA                58576 non-null  object\n",
      " 15  COLESTEROL         58576 non-null  int64 \n",
      " 16  CT                 58576 non-null  object\n",
      " 17  HDL                58576 non-null  int64 \n",
      " 18  LDL                58576 non-null  int64 \n",
      " 19  LDL_A              58576 non-null  object\n",
      " 20  TRIGLICERIDOS      58576 non-null  int64 \n",
      " 21  TG                 58576 non-null  object\n",
      " 22  GLUCEMIA           58576 non-null  int64 \n",
      " 23  GLUC               58576 non-null  object\n",
      " 24  DIABETES           58576 non-null  object\n",
      " 25  CINTURA            58576 non-null  int64 \n",
      " 26  CADERA             58576 non-null  int64 \n",
      " 27  CINTALTURA         58576 non-null  object\n",
      " 28  ICALT              58576 non-null  object\n",
      " 29  CINTCADERA         58576 non-null  object\n",
      " 30  CINTCADERA_A       58576 non-null  object\n",
      " 31  AVI                58576 non-null  object\n",
      " 32  AVI_A              58576 non-null  object\n",
      " 33  BAI                58576 non-null  object\n",
      " 34  BAI_A              58576 non-null  object\n",
      " 35  WWINDEX            58576 non-null  object\n",
      " 36  BSA                58576 non-null  object\n",
      " 37  BSI                58576 non-null  object\n",
      " 38  BRI                58576 non-null  object\n",
      " 39  ABSI               58576 non-null  object\n",
      " 40  VAI                58576 non-null  object\n",
      " 41  DAI                58576 non-null  object\n",
      " 42  CI                 58576 non-null  object\n",
      " 43  BFI                58576 non-null  object\n",
      " 44  Deuremberg         58576 non-null  object\n",
      " 45  Palafolls          58576 non-null  object\n",
      " 46  RFM                58576 non-null  object\n",
      " 47  ECORE              58576 non-null  object\n",
      " 48  CUNBAE             58576 non-null  object\n",
      " 49  METSVF             58576 non-null  object\n",
      " 50  MetsIR             58576 non-null  object\n",
      " 51  Sexo_num           58576 non-null  int64 \n",
      " 52  estudios_num       58576 non-null  int64 \n",
      " 53  clasesocial_num    58576 non-null  int64 \n",
      " 54  ejercicio_num      58576 non-null  int64 \n",
      " 55  CUNBAE_A           58576 non-null  int64 \n",
      " 56  alimentacion_num   58576 non-null  int64 \n",
      " 57  tabaco_num         58576 non-null  int64 \n",
      " 58  HTA_num            58576 non-null  int64 \n",
      " 59  TART_num           58576 non-null  int64 \n",
      " 60  CT_num             58576 non-null  int64 \n",
      " 61  TG_num             58576 non-null  int64 \n",
      " 62  LDL_A_num          58576 non-null  int64 \n",
      " 63  edad_A_num         58576 non-null  int64 \n",
      " 64  GLUC_num           58576 non-null  int64 \n",
      " 65  DIABETES_num       58576 non-null  int64 \n",
      " 66  IMC_A              58576 non-null  int64 \n",
      " 67  ICALT_num          58576 non-null  int64 \n",
      " 68  METSVF_A           58576 non-null  int64 \n",
      " 69  IMC_A_Kappa        58576 non-null  int64 \n",
      " 70  IMC_obesidad       58576 non-null  int64 \n",
      " 71  BAI_A_Num          58576 non-null  int64 \n",
      " 72  BAI_A_obesidad     58576 non-null  int64 \n",
      " 73  CUNBAE_A_Obesidad  58576 non-null  int64 \n",
      " 74  METSVF_A_Obesidad  58576 non-null  int64 \n",
      "dtypes: int64(34), object(41)\n",
      "memory usage: 33.5+ MB\n"
     ]
    }
   ],
   "source": [
    "df.info() # De este modo conzco el tipo de dato y los valores nulos que tiene cada una de las columnas."
   ]
  },
  {
   "cell_type": "markdown",
   "id": "4103b878",
   "metadata": {},
   "source": [
    "# 1.2. Eliminar duplicados."
   ]
  },
  {
   "cell_type": "markdown",
   "id": "a8e48ab4",
   "metadata": {},
   "source": [
    "Para iniciar el proceso de limpieza de los datos, tras llevar a cabo una exploración inicial de los mismos, debemos centrarnos y priorizar el número de duplicados con los que contamos. La presencia de estos no aporta ningún beneficio para el análisis, por lo que resulta aconsejable proceder a su eliminación."
   ]
  },
  {
   "cell_type": "code",
   "execution_count": 15,
   "id": "2a62a30b",
   "metadata": {},
   "outputs": [
    {
     "data": {
      "text/plain": [
       "True"
      ]
     },
     "execution_count": 15,
     "metadata": {},
     "output_type": "execute_result"
    }
   ],
   "source": [
    "df.duplicated().any() "
   ]
  },
  {
   "cell_type": "code",
   "execution_count": 16,
   "id": "cc457746",
   "metadata": {},
   "outputs": [],
   "source": [
    "df.drop_duplicates(inplace = True)"
   ]
  },
  {
   "cell_type": "code",
   "execution_count": 17,
   "id": "4ea5027e",
   "metadata": {},
   "outputs": [
    {
     "data": {
      "text/plain": [
       "(48358, 75)"
      ]
     },
     "execution_count": 17,
     "metadata": {},
     "output_type": "execute_result"
    }
   ],
   "source": [
    "df.shape"
   ]
  },
  {
   "cell_type": "markdown",
   "id": "5dfdd108",
   "metadata": {},
   "source": [
    "# 1.3. Limpieza y transformación."
   ]
  },
  {
   "cell_type": "markdown",
   "id": "cd05ed63",
   "metadata": {},
   "source": [
    "Tras un estudio de la tabla, decido eliminar todas aquellas columnas que no aporten ninguna información relevante con respecto al estudio que se está realizando o aquellas de las que desconozca su significado."
   ]
  },
  {
   "cell_type": "code",
   "execution_count": 18,
   "id": "f7c472d1",
   "metadata": {},
   "outputs": [
    {
     "data": {
      "text/html": [
       "<div>\n",
       "<style scoped>\n",
       "    .dataframe tbody tr th:only-of-type {\n",
       "        vertical-align: middle;\n",
       "    }\n",
       "\n",
       "    .dataframe tbody tr th {\n",
       "        vertical-align: top;\n",
       "    }\n",
       "\n",
       "    .dataframe thead th {\n",
       "        text-align: right;\n",
       "    }\n",
       "</style>\n",
       "<table border=\"1\" class=\"dataframe\">\n",
       "  <thead>\n",
       "    <tr style=\"text-align: right;\">\n",
       "      <th></th>\n",
       "      <th>sexo</th>\n",
       "      <th>edad</th>\n",
       "      <th>edad_A</th>\n",
       "      <th>estudios</th>\n",
       "      <th>clasesocial</th>\n",
       "      <th>ejercicio</th>\n",
       "      <th>alimentación</th>\n",
       "      <th>tabaco</th>\n",
       "      <th>altura</th>\n",
       "      <th>peso</th>\n",
       "      <th>IMC</th>\n",
       "      <th>TAS</th>\n",
       "      <th>TAD</th>\n",
       "      <th>TART</th>\n",
       "      <th>HTA</th>\n",
       "      <th>COLESTEROL</th>\n",
       "      <th>CT</th>\n",
       "      <th>HDL</th>\n",
       "      <th>LDL</th>\n",
       "      <th>LDL_A</th>\n",
       "      <th>TRIGLICERIDOS</th>\n",
       "      <th>TG</th>\n",
       "      <th>GLUCEMIA</th>\n",
       "      <th>GLUC</th>\n",
       "    </tr>\n",
       "  </thead>\n",
       "  <tbody>\n",
       "    <tr>\n",
       "      <th>0</th>\n",
       "      <td>Mujer</td>\n",
       "      <td>57</td>\n",
       "      <td>50-59a</td>\n",
       "      <td>secundarios</td>\n",
       "      <td>III</td>\n",
       "      <td>si</td>\n",
       "      <td>no</td>\n",
       "      <td>no</td>\n",
       "      <td>166</td>\n",
       "      <td>62</td>\n",
       "      <td>22,5</td>\n",
       "      <td>110</td>\n",
       "      <td>70</td>\n",
       "      <td>normal</td>\n",
       "      <td>no</td>\n",
       "      <td>185</td>\n",
       "      <td>normal</td>\n",
       "      <td>47</td>\n",
       "      <td>126</td>\n",
       "      <td>normal</td>\n",
       "      <td>61</td>\n",
       "      <td>normal</td>\n",
       "      <td>84</td>\n",
       "      <td>normal</td>\n",
       "    </tr>\n",
       "    <tr>\n",
       "      <th>1</th>\n",
       "      <td>Hombre</td>\n",
       "      <td>28</td>\n",
       "      <td>20-29a</td>\n",
       "      <td>primarios</td>\n",
       "      <td>III</td>\n",
       "      <td>si</td>\n",
       "      <td>si</td>\n",
       "      <td>no</td>\n",
       "      <td>181,5</td>\n",
       "      <td>82</td>\n",
       "      <td>24,9</td>\n",
       "      <td>120</td>\n",
       "      <td>65</td>\n",
       "      <td>preHTA</td>\n",
       "      <td>no</td>\n",
       "      <td>197</td>\n",
       "      <td>normal</td>\n",
       "      <td>58</td>\n",
       "      <td>126</td>\n",
       "      <td>normal</td>\n",
       "      <td>66</td>\n",
       "      <td>normal</td>\n",
       "      <td>62</td>\n",
       "      <td>normal</td>\n",
       "    </tr>\n",
       "    <tr>\n",
       "      <th>2</th>\n",
       "      <td>Hombre</td>\n",
       "      <td>25</td>\n",
       "      <td>20-29a</td>\n",
       "      <td>universitarios</td>\n",
       "      <td>I</td>\n",
       "      <td>no</td>\n",
       "      <td>no</td>\n",
       "      <td>no</td>\n",
       "      <td>177</td>\n",
       "      <td>69</td>\n",
       "      <td>22</td>\n",
       "      <td>120</td>\n",
       "      <td>55</td>\n",
       "      <td>preHTA</td>\n",
       "      <td>no</td>\n",
       "      <td>229</td>\n",
       "      <td>limítrofe</td>\n",
       "      <td>50</td>\n",
       "      <td>159</td>\n",
       "      <td>limítrofe</td>\n",
       "      <td>98</td>\n",
       "      <td>normal</td>\n",
       "      <td>83</td>\n",
       "      <td>normal</td>\n",
       "    </tr>\n",
       "    <tr>\n",
       "      <th>3</th>\n",
       "      <td>Hombre</td>\n",
       "      <td>50</td>\n",
       "      <td>50-59a</td>\n",
       "      <td>secundarios</td>\n",
       "      <td>III</td>\n",
       "      <td>no</td>\n",
       "      <td>no</td>\n",
       "      <td>si</td>\n",
       "      <td>171</td>\n",
       "      <td>86</td>\n",
       "      <td>29,4</td>\n",
       "      <td>150</td>\n",
       "      <td>100</td>\n",
       "      <td>HTA 2</td>\n",
       "      <td>si</td>\n",
       "      <td>272</td>\n",
       "      <td>alto</td>\n",
       "      <td>47</td>\n",
       "      <td>206</td>\n",
       "      <td>muy alto</td>\n",
       "      <td>96</td>\n",
       "      <td>normal</td>\n",
       "      <td>110</td>\n",
       "      <td>prediabetes</td>\n",
       "    </tr>\n",
       "    <tr>\n",
       "      <th>4</th>\n",
       "      <td>Mujer</td>\n",
       "      <td>33</td>\n",
       "      <td>30-39a</td>\n",
       "      <td>secundarios</td>\n",
       "      <td>II</td>\n",
       "      <td>si</td>\n",
       "      <td>no</td>\n",
       "      <td>no</td>\n",
       "      <td>154</td>\n",
       "      <td>45</td>\n",
       "      <td>19</td>\n",
       "      <td>100</td>\n",
       "      <td>60</td>\n",
       "      <td>normal</td>\n",
       "      <td>no</td>\n",
       "      <td>191</td>\n",
       "      <td>normal</td>\n",
       "      <td>58</td>\n",
       "      <td>112</td>\n",
       "      <td>normal</td>\n",
       "      <td>105</td>\n",
       "      <td>normal</td>\n",
       "      <td>81</td>\n",
       "      <td>normal</td>\n",
       "    </tr>\n",
       "    <tr>\n",
       "      <th>...</th>\n",
       "      <td>...</td>\n",
       "      <td>...</td>\n",
       "      <td>...</td>\n",
       "      <td>...</td>\n",
       "      <td>...</td>\n",
       "      <td>...</td>\n",
       "      <td>...</td>\n",
       "      <td>...</td>\n",
       "      <td>...</td>\n",
       "      <td>...</td>\n",
       "      <td>...</td>\n",
       "      <td>...</td>\n",
       "      <td>...</td>\n",
       "      <td>...</td>\n",
       "      <td>...</td>\n",
       "      <td>...</td>\n",
       "      <td>...</td>\n",
       "      <td>...</td>\n",
       "      <td>...</td>\n",
       "      <td>...</td>\n",
       "      <td>...</td>\n",
       "      <td>...</td>\n",
       "      <td>...</td>\n",
       "      <td>...</td>\n",
       "    </tr>\n",
       "    <tr>\n",
       "      <th>48361</th>\n",
       "      <td>Hombre</td>\n",
       "      <td>31</td>\n",
       "      <td>30-39a</td>\n",
       "      <td>secundarios</td>\n",
       "      <td>II</td>\n",
       "      <td>si</td>\n",
       "      <td>si</td>\n",
       "      <td>no</td>\n",
       "      <td>186</td>\n",
       "      <td>89,5</td>\n",
       "      <td>25,9</td>\n",
       "      <td>110</td>\n",
       "      <td>80</td>\n",
       "      <td>preHTA</td>\n",
       "      <td>no</td>\n",
       "      <td>148</td>\n",
       "      <td>normal</td>\n",
       "      <td>61</td>\n",
       "      <td>69</td>\n",
       "      <td>normal</td>\n",
       "      <td>90</td>\n",
       "      <td>normal</td>\n",
       "      <td>88</td>\n",
       "      <td>normal</td>\n",
       "    </tr>\n",
       "    <tr>\n",
       "      <th>48362</th>\n",
       "      <td>Mujer</td>\n",
       "      <td>31</td>\n",
       "      <td>30-39a</td>\n",
       "      <td>primarios</td>\n",
       "      <td>III</td>\n",
       "      <td>si</td>\n",
       "      <td>si</td>\n",
       "      <td>no</td>\n",
       "      <td>161</td>\n",
       "      <td>64</td>\n",
       "      <td>24,7</td>\n",
       "      <td>100</td>\n",
       "      <td>60</td>\n",
       "      <td>normal</td>\n",
       "      <td>no</td>\n",
       "      <td>207</td>\n",
       "      <td>limítrofe</td>\n",
       "      <td>55</td>\n",
       "      <td>132</td>\n",
       "      <td>limítrofe</td>\n",
       "      <td>100</td>\n",
       "      <td>normal</td>\n",
       "      <td>83</td>\n",
       "      <td>normal</td>\n",
       "    </tr>\n",
       "    <tr>\n",
       "      <th>48363</th>\n",
       "      <td>Mujer</td>\n",
       "      <td>41</td>\n",
       "      <td>40-49a</td>\n",
       "      <td>secundarios</td>\n",
       "      <td>I</td>\n",
       "      <td>si</td>\n",
       "      <td>si</td>\n",
       "      <td>no</td>\n",
       "      <td>165</td>\n",
       "      <td>68</td>\n",
       "      <td>25</td>\n",
       "      <td>130</td>\n",
       "      <td>80</td>\n",
       "      <td>preHTA</td>\n",
       "      <td>no</td>\n",
       "      <td>177</td>\n",
       "      <td>normal</td>\n",
       "      <td>57</td>\n",
       "      <td>108</td>\n",
       "      <td>normal</td>\n",
       "      <td>62</td>\n",
       "      <td>normal</td>\n",
       "      <td>68</td>\n",
       "      <td>normal</td>\n",
       "    </tr>\n",
       "    <tr>\n",
       "      <th>48364</th>\n",
       "      <td>Hombre</td>\n",
       "      <td>36</td>\n",
       "      <td>30-39a</td>\n",
       "      <td>secundarios</td>\n",
       "      <td>I</td>\n",
       "      <td>no</td>\n",
       "      <td>no</td>\n",
       "      <td>no</td>\n",
       "      <td>173</td>\n",
       "      <td>77</td>\n",
       "      <td>25,7</td>\n",
       "      <td>110</td>\n",
       "      <td>70</td>\n",
       "      <td>normal</td>\n",
       "      <td>no</td>\n",
       "      <td>244</td>\n",
       "      <td>alto</td>\n",
       "      <td>56</td>\n",
       "      <td>165</td>\n",
       "      <td>alto</td>\n",
       "      <td>113</td>\n",
       "      <td>normal</td>\n",
       "      <td>76</td>\n",
       "      <td>normal</td>\n",
       "    </tr>\n",
       "    <tr>\n",
       "      <th>48365</th>\n",
       "      <td>Hombre</td>\n",
       "      <td>42</td>\n",
       "      <td>40-49a</td>\n",
       "      <td>primarios</td>\n",
       "      <td>III</td>\n",
       "      <td>si</td>\n",
       "      <td>si</td>\n",
       "      <td>no</td>\n",
       "      <td>177,3</td>\n",
       "      <td>83</td>\n",
       "      <td>26,4</td>\n",
       "      <td>106</td>\n",
       "      <td>60</td>\n",
       "      <td>normal</td>\n",
       "      <td>no</td>\n",
       "      <td>198</td>\n",
       "      <td>normal</td>\n",
       "      <td>52</td>\n",
       "      <td>130</td>\n",
       "      <td>limítrofe</td>\n",
       "      <td>79</td>\n",
       "      <td>normal</td>\n",
       "      <td>86</td>\n",
       "      <td>normal</td>\n",
       "    </tr>\n",
       "  </tbody>\n",
       "</table>\n",
       "<p>48358 rows × 24 columns</p>\n",
       "</div>"
      ],
      "text/plain": [
       "         sexo  edad  edad_A        estudios clasesocial ejercicio  \\\n",
       "0       Mujer    57  50-59a     secundarios         III        si   \n",
       "1      Hombre    28  20-29a       primarios         III        si   \n",
       "2      Hombre    25  20-29a  universitarios           I        no   \n",
       "3      Hombre    50  50-59a     secundarios         III        no   \n",
       "4       Mujer    33  30-39a     secundarios          II        si   \n",
       "...       ...   ...     ...             ...         ...       ...   \n",
       "48361  Hombre    31  30-39a     secundarios          II        si   \n",
       "48362   Mujer    31  30-39a       primarios         III        si   \n",
       "48363   Mujer    41  40-49a     secundarios           I        si   \n",
       "48364  Hombre    36  30-39a     secundarios           I        no   \n",
       "48365  Hombre    42  40-49a       primarios         III        si   \n",
       "\n",
       "      alimentación tabaco altura  peso   IMC  TAS  TAD    TART HTA  \\\n",
       "0               no     no    166    62  22,5  110   70  normal  no   \n",
       "1               si     no  181,5    82  24,9  120   65  preHTA  no   \n",
       "2               no     no    177    69    22  120   55  preHTA  no   \n",
       "3               no     si    171    86  29,4  150  100   HTA 2  si   \n",
       "4               no     no    154    45    19  100   60  normal  no   \n",
       "...            ...    ...    ...   ...   ...  ...  ...     ...  ..   \n",
       "48361           si     no    186  89,5  25,9  110   80  preHTA  no   \n",
       "48362           si     no    161    64  24,7  100   60  normal  no   \n",
       "48363           si     no    165    68    25  130   80  preHTA  no   \n",
       "48364           no     no    173    77  25,7  110   70  normal  no   \n",
       "48365           si     no  177,3    83  26,4  106   60  normal  no   \n",
       "\n",
       "       COLESTEROL         CT  HDL  LDL      LDL_A  TRIGLICERIDOS      TG  \\\n",
       "0             185     normal   47  126     normal             61  normal   \n",
       "1             197     normal   58  126     normal             66  normal   \n",
       "2             229  limítrofe   50  159  limítrofe             98  normal   \n",
       "3             272       alto   47  206   muy alto             96  normal   \n",
       "4             191     normal   58  112     normal            105  normal   \n",
       "...           ...        ...  ...  ...        ...            ...     ...   \n",
       "48361         148     normal   61   69     normal             90  normal   \n",
       "48362         207  limítrofe   55  132  limítrofe            100  normal   \n",
       "48363         177     normal   57  108     normal             62  normal   \n",
       "48364         244       alto   56  165       alto            113  normal   \n",
       "48365         198     normal   52  130  limítrofe             79  normal   \n",
       "\n",
       "       GLUCEMIA         GLUC  \n",
       "0            84       normal  \n",
       "1            62       normal  \n",
       "2            83       normal  \n",
       "3           110  prediabetes  \n",
       "4            81       normal  \n",
       "...         ...          ...  \n",
       "48361        88       normal  \n",
       "48362        83       normal  \n",
       "48363        68       normal  \n",
       "48364        76       normal  \n",
       "48365        86       normal  \n",
       "\n",
       "[48358 rows x 24 columns]"
      ]
     },
     "execution_count": 18,
     "metadata": {},
     "output_type": "execute_result"
    }
   ],
   "source": [
    "df = df.iloc[:,:24] # Elimino en primer lugar el cojunto último de columnas, pues desconozco su significado o son de agrupaciones de las anteriores.\n",
    "df"
   ]
  },
  {
   "cell_type": "code",
   "execution_count": 19,
   "id": "0d0af31b",
   "metadata": {},
   "outputs": [],
   "source": [
    "columnas_a_eliminar = [\"edad_A\", \"TAS\", \"TAD\", \"TART\", \"HTA\", \"HDL\", \"LDL\", \"LDL_A\", \"TRIGLICERIDOS\", \"TG\"]\n"
   ]
  },
  {
   "cell_type": "code",
   "execution_count": 20,
   "id": "86ae2630",
   "metadata": {},
   "outputs": [
    {
     "data": {
      "text/html": [
       "<div>\n",
       "<style scoped>\n",
       "    .dataframe tbody tr th:only-of-type {\n",
       "        vertical-align: middle;\n",
       "    }\n",
       "\n",
       "    .dataframe tbody tr th {\n",
       "        vertical-align: top;\n",
       "    }\n",
       "\n",
       "    .dataframe thead th {\n",
       "        text-align: right;\n",
       "    }\n",
       "</style>\n",
       "<table border=\"1\" class=\"dataframe\">\n",
       "  <thead>\n",
       "    <tr style=\"text-align: right;\">\n",
       "      <th></th>\n",
       "      <th>sexo</th>\n",
       "      <th>edad</th>\n",
       "      <th>estudios</th>\n",
       "      <th>clasesocial</th>\n",
       "      <th>ejercicio</th>\n",
       "      <th>alimentación</th>\n",
       "      <th>tabaco</th>\n",
       "      <th>altura</th>\n",
       "      <th>peso</th>\n",
       "      <th>IMC</th>\n",
       "      <th>COLESTEROL</th>\n",
       "      <th>CT</th>\n",
       "      <th>GLUCEMIA</th>\n",
       "      <th>GLUC</th>\n",
       "    </tr>\n",
       "  </thead>\n",
       "  <tbody>\n",
       "    <tr>\n",
       "      <th>0</th>\n",
       "      <td>Mujer</td>\n",
       "      <td>57</td>\n",
       "      <td>secundarios</td>\n",
       "      <td>III</td>\n",
       "      <td>si</td>\n",
       "      <td>no</td>\n",
       "      <td>no</td>\n",
       "      <td>166</td>\n",
       "      <td>62</td>\n",
       "      <td>22,5</td>\n",
       "      <td>185</td>\n",
       "      <td>normal</td>\n",
       "      <td>84</td>\n",
       "      <td>normal</td>\n",
       "    </tr>\n",
       "    <tr>\n",
       "      <th>1</th>\n",
       "      <td>Hombre</td>\n",
       "      <td>28</td>\n",
       "      <td>primarios</td>\n",
       "      <td>III</td>\n",
       "      <td>si</td>\n",
       "      <td>si</td>\n",
       "      <td>no</td>\n",
       "      <td>181,5</td>\n",
       "      <td>82</td>\n",
       "      <td>24,9</td>\n",
       "      <td>197</td>\n",
       "      <td>normal</td>\n",
       "      <td>62</td>\n",
       "      <td>normal</td>\n",
       "    </tr>\n",
       "    <tr>\n",
       "      <th>2</th>\n",
       "      <td>Hombre</td>\n",
       "      <td>25</td>\n",
       "      <td>universitarios</td>\n",
       "      <td>I</td>\n",
       "      <td>no</td>\n",
       "      <td>no</td>\n",
       "      <td>no</td>\n",
       "      <td>177</td>\n",
       "      <td>69</td>\n",
       "      <td>22</td>\n",
       "      <td>229</td>\n",
       "      <td>limítrofe</td>\n",
       "      <td>83</td>\n",
       "      <td>normal</td>\n",
       "    </tr>\n",
       "    <tr>\n",
       "      <th>3</th>\n",
       "      <td>Hombre</td>\n",
       "      <td>50</td>\n",
       "      <td>secundarios</td>\n",
       "      <td>III</td>\n",
       "      <td>no</td>\n",
       "      <td>no</td>\n",
       "      <td>si</td>\n",
       "      <td>171</td>\n",
       "      <td>86</td>\n",
       "      <td>29,4</td>\n",
       "      <td>272</td>\n",
       "      <td>alto</td>\n",
       "      <td>110</td>\n",
       "      <td>prediabetes</td>\n",
       "    </tr>\n",
       "    <tr>\n",
       "      <th>4</th>\n",
       "      <td>Mujer</td>\n",
       "      <td>33</td>\n",
       "      <td>secundarios</td>\n",
       "      <td>II</td>\n",
       "      <td>si</td>\n",
       "      <td>no</td>\n",
       "      <td>no</td>\n",
       "      <td>154</td>\n",
       "      <td>45</td>\n",
       "      <td>19</td>\n",
       "      <td>191</td>\n",
       "      <td>normal</td>\n",
       "      <td>81</td>\n",
       "      <td>normal</td>\n",
       "    </tr>\n",
       "    <tr>\n",
       "      <th>...</th>\n",
       "      <td>...</td>\n",
       "      <td>...</td>\n",
       "      <td>...</td>\n",
       "      <td>...</td>\n",
       "      <td>...</td>\n",
       "      <td>...</td>\n",
       "      <td>...</td>\n",
       "      <td>...</td>\n",
       "      <td>...</td>\n",
       "      <td>...</td>\n",
       "      <td>...</td>\n",
       "      <td>...</td>\n",
       "      <td>...</td>\n",
       "      <td>...</td>\n",
       "    </tr>\n",
       "    <tr>\n",
       "      <th>48361</th>\n",
       "      <td>Hombre</td>\n",
       "      <td>31</td>\n",
       "      <td>secundarios</td>\n",
       "      <td>II</td>\n",
       "      <td>si</td>\n",
       "      <td>si</td>\n",
       "      <td>no</td>\n",
       "      <td>186</td>\n",
       "      <td>89,5</td>\n",
       "      <td>25,9</td>\n",
       "      <td>148</td>\n",
       "      <td>normal</td>\n",
       "      <td>88</td>\n",
       "      <td>normal</td>\n",
       "    </tr>\n",
       "    <tr>\n",
       "      <th>48362</th>\n",
       "      <td>Mujer</td>\n",
       "      <td>31</td>\n",
       "      <td>primarios</td>\n",
       "      <td>III</td>\n",
       "      <td>si</td>\n",
       "      <td>si</td>\n",
       "      <td>no</td>\n",
       "      <td>161</td>\n",
       "      <td>64</td>\n",
       "      <td>24,7</td>\n",
       "      <td>207</td>\n",
       "      <td>limítrofe</td>\n",
       "      <td>83</td>\n",
       "      <td>normal</td>\n",
       "    </tr>\n",
       "    <tr>\n",
       "      <th>48363</th>\n",
       "      <td>Mujer</td>\n",
       "      <td>41</td>\n",
       "      <td>secundarios</td>\n",
       "      <td>I</td>\n",
       "      <td>si</td>\n",
       "      <td>si</td>\n",
       "      <td>no</td>\n",
       "      <td>165</td>\n",
       "      <td>68</td>\n",
       "      <td>25</td>\n",
       "      <td>177</td>\n",
       "      <td>normal</td>\n",
       "      <td>68</td>\n",
       "      <td>normal</td>\n",
       "    </tr>\n",
       "    <tr>\n",
       "      <th>48364</th>\n",
       "      <td>Hombre</td>\n",
       "      <td>36</td>\n",
       "      <td>secundarios</td>\n",
       "      <td>I</td>\n",
       "      <td>no</td>\n",
       "      <td>no</td>\n",
       "      <td>no</td>\n",
       "      <td>173</td>\n",
       "      <td>77</td>\n",
       "      <td>25,7</td>\n",
       "      <td>244</td>\n",
       "      <td>alto</td>\n",
       "      <td>76</td>\n",
       "      <td>normal</td>\n",
       "    </tr>\n",
       "    <tr>\n",
       "      <th>48365</th>\n",
       "      <td>Hombre</td>\n",
       "      <td>42</td>\n",
       "      <td>primarios</td>\n",
       "      <td>III</td>\n",
       "      <td>si</td>\n",
       "      <td>si</td>\n",
       "      <td>no</td>\n",
       "      <td>177,3</td>\n",
       "      <td>83</td>\n",
       "      <td>26,4</td>\n",
       "      <td>198</td>\n",
       "      <td>normal</td>\n",
       "      <td>86</td>\n",
       "      <td>normal</td>\n",
       "    </tr>\n",
       "  </tbody>\n",
       "</table>\n",
       "<p>48358 rows × 14 columns</p>\n",
       "</div>"
      ],
      "text/plain": [
       "         sexo  edad        estudios clasesocial ejercicio alimentación tabaco  \\\n",
       "0       Mujer    57     secundarios         III        si           no     no   \n",
       "1      Hombre    28       primarios         III        si           si     no   \n",
       "2      Hombre    25  universitarios           I        no           no     no   \n",
       "3      Hombre    50     secundarios         III        no           no     si   \n",
       "4       Mujer    33     secundarios          II        si           no     no   \n",
       "...       ...   ...             ...         ...       ...          ...    ...   \n",
       "48361  Hombre    31     secundarios          II        si           si     no   \n",
       "48362   Mujer    31       primarios         III        si           si     no   \n",
       "48363   Mujer    41     secundarios           I        si           si     no   \n",
       "48364  Hombre    36     secundarios           I        no           no     no   \n",
       "48365  Hombre    42       primarios         III        si           si     no   \n",
       "\n",
       "      altura  peso   IMC  COLESTEROL         CT  GLUCEMIA         GLUC  \n",
       "0        166    62  22,5         185     normal        84       normal  \n",
       "1      181,5    82  24,9         197     normal        62       normal  \n",
       "2        177    69    22         229  limítrofe        83       normal  \n",
       "3        171    86  29,4         272       alto       110  prediabetes  \n",
       "4        154    45    19         191     normal        81       normal  \n",
       "...      ...   ...   ...         ...        ...       ...          ...  \n",
       "48361    186  89,5  25,9         148     normal        88       normal  \n",
       "48362    161    64  24,7         207  limítrofe        83       normal  \n",
       "48363    165    68    25         177     normal        68       normal  \n",
       "48364    173    77  25,7         244       alto        76       normal  \n",
       "48365  177,3    83  26,4         198     normal        86       normal  \n",
       "\n",
       "[48358 rows x 14 columns]"
      ]
     },
     "execution_count": 20,
     "metadata": {},
     "output_type": "execute_result"
    }
   ],
   "source": [
    "df = df.drop(columnas_a_eliminar, axis=1) # A continuación elimino otras que se encuentran en una parte anterior de la tabla pero que tampoco necesito tenerlas en cuenta de cara al estudio que se pretende realizar.\n",
    "df"
   ]
  },
  {
   "cell_type": "code",
   "execution_count": 21,
   "id": "9181451f",
   "metadata": {},
   "outputs": [
    {
     "name": "stdout",
     "output_type": "stream",
     "text": [
      "<class 'pandas.core.frame.DataFrame'>\n",
      "Int64Index: 48358 entries, 0 to 48365\n",
      "Data columns (total 14 columns):\n",
      " #   Column        Non-Null Count  Dtype \n",
      "---  ------        --------------  ----- \n",
      " 0   sexo          48358 non-null  object\n",
      " 1   edad          48358 non-null  int64 \n",
      " 2   estudios      48358 non-null  object\n",
      " 3   clasesocial   48358 non-null  object\n",
      " 4   ejercicio     48358 non-null  object\n",
      " 5   alimentación  48358 non-null  object\n",
      " 6   tabaco        48358 non-null  object\n",
      " 7   altura        48358 non-null  object\n",
      " 8   peso          48358 non-null  object\n",
      " 9   IMC           48358 non-null  object\n",
      " 10  COLESTEROL    48358 non-null  int64 \n",
      " 11  CT            48358 non-null  object\n",
      " 12  GLUCEMIA      48358 non-null  int64 \n",
      " 13  GLUC          48358 non-null  object\n",
      "dtypes: int64(3), object(11)\n",
      "memory usage: 5.5+ MB\n"
     ]
    }
   ],
   "source": [
    "df.info()"
   ]
  },
  {
   "cell_type": "markdown",
   "id": "e7ac86fc",
   "metadata": {},
   "source": [
    "Se procederá a modificar el tipo de dato en ciertas columnas con el objetivo de facilitar su manejo con respecto al estudio posterior.  \n",
    "\n",
    "Se comenzará, así, por las columnas de \"altura\", \"peso\" e \"IMC\", que se convertirán a tipo float. "
   ]
  },
  {
   "cell_type": "code",
   "execution_count": 22,
   "id": "f6bdd5f1",
   "metadata": {},
   "outputs": [],
   "source": [
    "df['altura'] = pd.to_numeric(df['altura'].str.replace(',', '.'))\n",
    "df['altura'] = df['altura'].astype('float64')"
   ]
  },
  {
   "cell_type": "code",
   "execution_count": 23,
   "id": "bc6620bb",
   "metadata": {},
   "outputs": [],
   "source": [
    "df['peso'] = pd.to_numeric(df['peso'].str.replace(',', '.'))\n",
    "df['peso'] = df['peso'].astype('float64')"
   ]
  },
  {
   "cell_type": "code",
   "execution_count": 24,
   "id": "178c8d1a",
   "metadata": {},
   "outputs": [],
   "source": [
    "df['IMC'] = pd.to_numeric(df['IMC'].str.replace(',', '.'))\n",
    "df['IMC'] = df['IMC'].astype('float64')"
   ]
  },
  {
   "cell_type": "code",
   "execution_count": 25,
   "id": "35a6f320",
   "metadata": {},
   "outputs": [],
   "source": [
    "df.columns = df.columns.str.lower() # Decido ahora cambiar todos los nombres de las columnas a minúscula."
   ]
  },
  {
   "cell_type": "markdown",
   "id": "8747a499",
   "metadata": {},
   "source": [
    "Ahora, resulta de interés determinar si alguna de las columnas contiene valores fuera de lo esperado. En caso de hallar dichos valores, se analizarán para tomar una decisión con respecto a los mismos."
   ]
  },
  {
   "cell_type": "code",
   "execution_count": 26,
   "id": "eaf26da1",
   "metadata": {},
   "outputs": [
    {
     "data": {
      "text/plain": [
       "array(['Mujer', 'Hombre'], dtype=object)"
      ]
     },
     "execution_count": 26,
     "metadata": {},
     "output_type": "execute_result"
    }
   ],
   "source": [
    "df.sexo.unique()"
   ]
  },
  {
   "cell_type": "code",
   "execution_count": 27,
   "id": "8f4de388",
   "metadata": {},
   "outputs": [],
   "source": [
    "df[\"sexo\"] = df[\"sexo\"].str.lower() # Cambio el contenido de la columna a minúsculas."
   ]
  },
  {
   "cell_type": "code",
   "execution_count": 28,
   "id": "3996cab3",
   "metadata": {},
   "outputs": [
    {
     "data": {
      "text/plain": [
       "array([57, 28, 25, 50, 33, 38, 42, 41, 26, 32, 47, 62, 39, 34, 43, 46, 30,\n",
       "       52, 24, 45, 36, 58, 21, 31, 35, 20, 29, 53, 44, 37, 48, 54, 27, 40,\n",
       "       51, 56, 55, 60, 59, 49, 22, 63, 23, 64, 61, 67, 70, 68, 69, 65, 66])"
      ]
     },
     "execution_count": 28,
     "metadata": {},
     "output_type": "execute_result"
    }
   ],
   "source": [
    "df.edad.unique()"
   ]
  },
  {
   "cell_type": "code",
   "execution_count": 29,
   "id": "d4b0a3c7",
   "metadata": {},
   "outputs": [],
   "source": [
    "#df.edad.value_counts()"
   ]
  },
  {
   "cell_type": "code",
   "execution_count": 30,
   "id": "5fb9d1c0",
   "metadata": {},
   "outputs": [
    {
     "data": {
      "text/plain": [
       "array(['secundarios', 'primarios', 'universitarios'], dtype=object)"
      ]
     },
     "execution_count": 30,
     "metadata": {},
     "output_type": "execute_result"
    }
   ],
   "source": [
    "df.estudios.unique()"
   ]
  },
  {
   "cell_type": "code",
   "execution_count": 31,
   "id": "468a8f94",
   "metadata": {},
   "outputs": [],
   "source": [
    "df = df.rename(columns={'clasesocial': 'clase_social'}) # Le cambio el nombre sutilmente para una mejor claridad."
   ]
  },
  {
   "cell_type": "code",
   "execution_count": 32,
   "id": "9b00ffbf",
   "metadata": {},
   "outputs": [
    {
     "data": {
      "text/plain": [
       "array(['III', 'I', 'II'], dtype=object)"
      ]
     },
     "execution_count": 32,
     "metadata": {},
     "output_type": "execute_result"
    }
   ],
   "source": [
    "df.clase_social.unique()"
   ]
  },
  {
   "cell_type": "code",
   "execution_count": 33,
   "id": "2c8fc151",
   "metadata": {},
   "outputs": [
    {
     "data": {
      "text/plain": [
       "array(['si', 'no'], dtype=object)"
      ]
     },
     "execution_count": 33,
     "metadata": {},
     "output_type": "execute_result"
    }
   ],
   "source": [
    "df.ejercicio.unique()"
   ]
  },
  {
   "cell_type": "code",
   "execution_count": 34,
   "id": "26ee2790",
   "metadata": {},
   "outputs": [],
   "source": [
    "df = df.rename(columns={'alimentación': 'dieta_mediterranea'}) # Le cambio también el nombre de la columna para que se entiendad aclarar su significado."
   ]
  },
  {
   "cell_type": "code",
   "execution_count": 35,
   "id": "9bb2ea61",
   "metadata": {},
   "outputs": [
    {
     "data": {
      "text/plain": [
       "array(['no', 'si'], dtype=object)"
      ]
     },
     "execution_count": 35,
     "metadata": {},
     "output_type": "execute_result"
    }
   ],
   "source": [
    "df.dieta_mediterranea.unique()"
   ]
  },
  {
   "cell_type": "code",
   "execution_count": 36,
   "id": "b2e49231",
   "metadata": {},
   "outputs": [],
   "source": [
    "df = df.rename(columns={'tabaco': 'consumo_tabaco'}) # Lo mismo con la columna \"tabaco\"."
   ]
  },
  {
   "cell_type": "code",
   "execution_count": 37,
   "id": "b828a0c1",
   "metadata": {},
   "outputs": [
    {
     "data": {
      "text/plain": [
       "array(['no', 'si'], dtype=object)"
      ]
     },
     "execution_count": 37,
     "metadata": {},
     "output_type": "execute_result"
    }
   ],
   "source": [
    "df.consumo_tabaco.unique()"
   ]
  },
  {
   "cell_type": "code",
   "execution_count": 38,
   "id": "14c01761",
   "metadata": {},
   "outputs": [],
   "source": [
    "#df.altura.unique()"
   ]
  },
  {
   "cell_type": "code",
   "execution_count": 39,
   "id": "8f8ee2f9",
   "metadata": {},
   "outputs": [],
   "source": [
    "#df.peso.unique()"
   ]
  },
  {
   "cell_type": "code",
   "execution_count": 40,
   "id": "7043128b",
   "metadata": {},
   "outputs": [
    {
     "data": {
      "text/plain": [
       "70.0    1412\n",
       "80.0    1295\n",
       "72.0    1168\n",
       "75.0    1156\n",
       "73.0    1125\n",
       "        ... \n",
       "83.7       1\n",
       "51.7       1\n",
       "72.4       1\n",
       "65.2       1\n",
       "75.3       1\n",
       "Name: peso, Length: 515, dtype: int64"
      ]
     },
     "execution_count": 40,
     "metadata": {},
     "output_type": "execute_result"
    }
   ],
   "source": [
    "df.peso.value_counts()"
   ]
  },
  {
   "cell_type": "code",
   "execution_count": 41,
   "id": "cb47c54a",
   "metadata": {},
   "outputs": [],
   "source": [
    "#df.imc.unique()"
   ]
  },
  {
   "cell_type": "code",
   "execution_count": 42,
   "id": "5ec694be",
   "metadata": {},
   "outputs": [
    {
     "data": {
      "text/plain": [
       "28.7    608\n",
       "28.4    578\n",
       "24.2    572\n",
       "24.7    541\n",
       "29.4    532\n",
       "       ... \n",
       "49.8      1\n",
       "49.6      1\n",
       "15.9      1\n",
       "47.7      1\n",
       "54.7      1\n",
       "Name: imc, Length: 354, dtype: int64"
      ]
     },
     "execution_count": 42,
     "metadata": {},
     "output_type": "execute_result"
    }
   ],
   "source": [
    "df.imc.value_counts()"
   ]
  },
  {
   "cell_type": "code",
   "execution_count": 43,
   "id": "1976ccf0",
   "metadata": {},
   "outputs": [],
   "source": [
    "#df.colesterol.unique()"
   ]
  },
  {
   "cell_type": "code",
   "execution_count": 44,
   "id": "d9acd7a9",
   "metadata": {},
   "outputs": [
    {
     "data": {
      "text/plain": [
       "195    575\n",
       "201    538\n",
       "192    534\n",
       "198    532\n",
       "188    528\n",
       "      ... \n",
       "379      1\n",
       "390      1\n",
       "352      1\n",
       "363      1\n",
       "341      1\n",
       "Name: colesterol, Length: 301, dtype: int64"
      ]
     },
     "execution_count": 44,
     "metadata": {},
     "output_type": "execute_result"
    }
   ],
   "source": [
    "df.colesterol.value_counts()"
   ]
  },
  {
   "cell_type": "code",
   "execution_count": 45,
   "id": "63878c88",
   "metadata": {},
   "outputs": [
    {
     "data": {
      "text/plain": [
       "array(['normal', 'limítrofe', 'alto'], dtype=object)"
      ]
     },
     "execution_count": 45,
     "metadata": {},
     "output_type": "execute_result"
    }
   ],
   "source": [
    "df.ct.unique()"
   ]
  },
  {
   "cell_type": "code",
   "execution_count": 46,
   "id": "02ba50b3",
   "metadata": {},
   "outputs": [],
   "source": [
    "df = df.replace([\"limítrofe\"], \"limitrofe\") # Quito la tilde."
   ]
  },
  {
   "cell_type": "code",
   "execution_count": 47,
   "id": "81780d54",
   "metadata": {},
   "outputs": [
    {
     "data": {
      "text/plain": [
       "array([ 84,  62,  83, 110,  81,  79,  82,  73,  66,  71,  91, 121,  88,\n",
       "        77,  98, 105,  94,  95,  72,  89,  97, 100,  76,  93,  70,  74,\n",
       "        92,  75,  87,  96,  90,  85,  78, 109, 128,  86,  38,  99, 134,\n",
       "       122, 149,  80, 102, 103, 113,  67,  68, 106, 112, 117, 111, 101,\n",
       "       104, 114, 142,  64,  28,  58, 107,  52, 120,  59, 116,  61, 115,\n",
       "        69, 145, 125, 130, 119, 131, 136,  63, 127, 108, 135,  65,  60,\n",
       "       126, 148, 118, 129, 139,  55, 146, 124,  53,  51, 138,  45,  57,\n",
       "       132, 143, 123, 133,  48,  44, 140, 137,  50, 156,  54, 147, 144,\n",
       "        56, 141,  43, 152, 154,  49,  41,  47, 248, 153,  35, 198,  26])"
      ]
     },
     "execution_count": 47,
     "metadata": {},
     "output_type": "execute_result"
    }
   ],
   "source": [
    "df.glucemia.unique()"
   ]
  },
  {
   "cell_type": "code",
   "execution_count": 48,
   "id": "e1385000",
   "metadata": {},
   "outputs": [
    {
     "data": {
      "text/plain": [
       "87     1707\n",
       "85     1670\n",
       "89     1620\n",
       "84     1583\n",
       "86     1571\n",
       "       ... \n",
       "154       1\n",
       "38        1\n",
       "28        1\n",
       "156       1\n",
       "26        1\n",
       "Name: glucemia, Length: 117, dtype: int64"
      ]
     },
     "execution_count": 48,
     "metadata": {},
     "output_type": "execute_result"
    }
   ],
   "source": [
    "df.glucemia.value_counts()"
   ]
  },
  {
   "cell_type": "code",
   "execution_count": 49,
   "id": "ed6ed7f7",
   "metadata": {},
   "outputs": [
    {
     "data": {
      "text/plain": [
       "array(['normal', 'prediabetes', 'diabetes'], dtype=object)"
      ]
     },
     "execution_count": 49,
     "metadata": {},
     "output_type": "execute_result"
    }
   ],
   "source": [
    "df.gluc.unique()"
   ]
  },
  {
   "cell_type": "markdown",
   "id": "b6ed95d8",
   "metadata": {},
   "source": [
    "Revisamos que no haya ningún valor especialemnte atípico para cada una de las columnas númericas de la tabla y observamos sus estadísticas."
   ]
  },
  {
   "cell_type": "code",
   "execution_count": 50,
   "id": "e78b05de",
   "metadata": {},
   "outputs": [
    {
     "data": {
      "text/html": [
       "<div>\n",
       "<style scoped>\n",
       "    .dataframe tbody tr th:only-of-type {\n",
       "        vertical-align: middle;\n",
       "    }\n",
       "\n",
       "    .dataframe tbody tr th {\n",
       "        vertical-align: top;\n",
       "    }\n",
       "\n",
       "    .dataframe thead th {\n",
       "        text-align: right;\n",
       "    }\n",
       "</style>\n",
       "<table border=\"1\" class=\"dataframe\">\n",
       "  <thead>\n",
       "    <tr style=\"text-align: right;\">\n",
       "      <th></th>\n",
       "      <th>count</th>\n",
       "      <th>mean</th>\n",
       "      <th>std</th>\n",
       "      <th>min</th>\n",
       "      <th>25%</th>\n",
       "      <th>50%</th>\n",
       "      <th>75%</th>\n",
       "      <th>max</th>\n",
       "    </tr>\n",
       "  </thead>\n",
       "  <tbody>\n",
       "    <tr>\n",
       "      <th>edad</th>\n",
       "      <td>48358.0</td>\n",
       "      <td>39.556289</td>\n",
       "      <td>10.265885</td>\n",
       "      <td>20.0</td>\n",
       "      <td>32.0</td>\n",
       "      <td>39.0</td>\n",
       "      <td>47.0</td>\n",
       "      <td>70.0</td>\n",
       "    </tr>\n",
       "    <tr>\n",
       "      <th>altura</th>\n",
       "      <td>48358.0</td>\n",
       "      <td>168.865946</td>\n",
       "      <td>9.275402</td>\n",
       "      <td>139.5</td>\n",
       "      <td>162.0</td>\n",
       "      <td>169.0</td>\n",
       "      <td>175.0</td>\n",
       "      <td>205.0</td>\n",
       "    </tr>\n",
       "    <tr>\n",
       "      <th>peso</th>\n",
       "      <td>48358.0</td>\n",
       "      <td>74.819203</td>\n",
       "      <td>15.647514</td>\n",
       "      <td>35.0</td>\n",
       "      <td>63.0</td>\n",
       "      <td>74.0</td>\n",
       "      <td>84.0</td>\n",
       "      <td>176.0</td>\n",
       "    </tr>\n",
       "    <tr>\n",
       "      <th>imc</th>\n",
       "      <td>48358.0</td>\n",
       "      <td>26.136548</td>\n",
       "      <td>4.572618</td>\n",
       "      <td>15.1</td>\n",
       "      <td>22.9</td>\n",
       "      <td>25.5</td>\n",
       "      <td>28.7</td>\n",
       "      <td>56.2</td>\n",
       "    </tr>\n",
       "    <tr>\n",
       "      <th>colesterol</th>\n",
       "      <td>48358.0</td>\n",
       "      <td>194.990012</td>\n",
       "      <td>37.942506</td>\n",
       "      <td>80.0</td>\n",
       "      <td>168.0</td>\n",
       "      <td>193.0</td>\n",
       "      <td>218.0</td>\n",
       "      <td>579.0</td>\n",
       "    </tr>\n",
       "    <tr>\n",
       "      <th>glucemia</th>\n",
       "      <td>48358.0</td>\n",
       "      <td>86.508520</td>\n",
       "      <td>12.528603</td>\n",
       "      <td>26.0</td>\n",
       "      <td>78.0</td>\n",
       "      <td>86.0</td>\n",
       "      <td>94.0</td>\n",
       "      <td>248.0</td>\n",
       "    </tr>\n",
       "  </tbody>\n",
       "</table>\n",
       "</div>"
      ],
      "text/plain": [
       "              count        mean        std    min    25%    50%    75%    max\n",
       "edad        48358.0   39.556289  10.265885   20.0   32.0   39.0   47.0   70.0\n",
       "altura      48358.0  168.865946   9.275402  139.5  162.0  169.0  175.0  205.0\n",
       "peso        48358.0   74.819203  15.647514   35.0   63.0   74.0   84.0  176.0\n",
       "imc         48358.0   26.136548   4.572618   15.1   22.9   25.5   28.7   56.2\n",
       "colesterol  48358.0  194.990012  37.942506   80.0  168.0  193.0  218.0  579.0\n",
       "glucemia    48358.0   86.508520  12.528603   26.0   78.0   86.0   94.0  248.0"
      ]
     },
     "execution_count": 50,
     "metadata": {},
     "output_type": "execute_result"
    }
   ],
   "source": [
    "df.describe().T"
   ]
  },
  {
   "cell_type": "markdown",
   "id": "f846f8b7",
   "metadata": {},
   "source": [
    "Ahora hacemos el mismo procedimiento con las columnas no numéricas."
   ]
  },
  {
   "cell_type": "code",
   "execution_count": 51,
   "id": "e5bcc730",
   "metadata": {},
   "outputs": [
    {
     "data": {
      "text/html": [
       "<div>\n",
       "<style scoped>\n",
       "    .dataframe tbody tr th:only-of-type {\n",
       "        vertical-align: middle;\n",
       "    }\n",
       "\n",
       "    .dataframe tbody tr th {\n",
       "        vertical-align: top;\n",
       "    }\n",
       "\n",
       "    .dataframe thead th {\n",
       "        text-align: right;\n",
       "    }\n",
       "</style>\n",
       "<table border=\"1\" class=\"dataframe\">\n",
       "  <thead>\n",
       "    <tr style=\"text-align: right;\">\n",
       "      <th></th>\n",
       "      <th>sexo</th>\n",
       "      <th>estudios</th>\n",
       "      <th>clase_social</th>\n",
       "      <th>ejercicio</th>\n",
       "      <th>dieta_mediterranea</th>\n",
       "      <th>consumo_tabaco</th>\n",
       "      <th>ct</th>\n",
       "      <th>gluc</th>\n",
       "    </tr>\n",
       "  </thead>\n",
       "  <tbody>\n",
       "    <tr>\n",
       "      <th>count</th>\n",
       "      <td>48358</td>\n",
       "      <td>48358</td>\n",
       "      <td>48358</td>\n",
       "      <td>48358</td>\n",
       "      <td>48358</td>\n",
       "      <td>48358</td>\n",
       "      <td>48358</td>\n",
       "      <td>48358</td>\n",
       "    </tr>\n",
       "    <tr>\n",
       "      <th>unique</th>\n",
       "      <td>2</td>\n",
       "      <td>3</td>\n",
       "      <td>3</td>\n",
       "      <td>2</td>\n",
       "      <td>2</td>\n",
       "      <td>2</td>\n",
       "      <td>3</td>\n",
       "      <td>3</td>\n",
       "    </tr>\n",
       "    <tr>\n",
       "      <th>top</th>\n",
       "      <td>hombre</td>\n",
       "      <td>primarios</td>\n",
       "      <td>III</td>\n",
       "      <td>no</td>\n",
       "      <td>no</td>\n",
       "      <td>no</td>\n",
       "      <td>normal</td>\n",
       "      <td>normal</td>\n",
       "    </tr>\n",
       "    <tr>\n",
       "      <th>freq</th>\n",
       "      <td>29097</td>\n",
       "      <td>27782</td>\n",
       "      <td>33998</td>\n",
       "      <td>25059</td>\n",
       "      <td>26533</td>\n",
       "      <td>31219</td>\n",
       "      <td>27264</td>\n",
       "      <td>42193</td>\n",
       "    </tr>\n",
       "  </tbody>\n",
       "</table>\n",
       "</div>"
      ],
      "text/plain": [
       "          sexo   estudios clase_social ejercicio dieta_mediterranea  \\\n",
       "count    48358      48358        48358     48358              48358   \n",
       "unique       2          3            3         2                  2   \n",
       "top     hombre  primarios          III        no                 no   \n",
       "freq     29097      27782        33998     25059              26533   \n",
       "\n",
       "       consumo_tabaco      ct    gluc  \n",
       "count           48358   48358   48358  \n",
       "unique              2       3       3  \n",
       "top                no  normal  normal  \n",
       "freq            31219   27264   42193  "
      ]
     },
     "execution_count": 51,
     "metadata": {},
     "output_type": "execute_result"
    }
   ],
   "source": [
    "df.describe(include = \"object\")"
   ]
  },
  {
   "cell_type": "code",
   "execution_count": 52,
   "id": "7d180c26",
   "metadata": {},
   "outputs": [
    {
     "data": {
      "image/png": "[encoded data removed]",
      "text/plain": [
       "<Figure size 1500x800 with 1 Axes>"
      ]
     },
     "metadata": {},
     "output_type": "display_data"
    }
   ],
   "source": [
    "df.boxplot(figsize=(15, 8));"
   ]
  },
  {
   "cell_type": "markdown",
   "id": "c9fa460c",
   "metadata": {},
   "source": [
    "Observamos, que la columna \"colesterol\" es la que más outliers o datos atípicos tiene. En el resto de columnas los registros están todos cercanos al rango intercuartil. \n",
    "\n",
    "Pese a ello, damos por hecho que no son fallos del registro y lo dejamos tal y como está. Lo que debería hacerse en este caso es estudiar a las personas correspondientes con esos valores por seperado. Sin embargo, no cuento con esa información."
   ]
  },
  {
   "cell_type": "markdown",
   "id": "b6c32f1d",
   "metadata": {},
   "source": [
    "# 2. Fuente 2- CSV: Población total española."
   ]
  },
  {
   "cell_type": "markdown",
   "id": "4de878e8",
   "metadata": {},
   "source": [
    "# 2.1. Exploración inicial."
   ]
  },
  {
   "cell_type": "code",
   "execution_count": 53,
   "id": "e2b406c4",
   "metadata": {},
   "outputs": [],
   "source": [
    "df2_original = pd.read_csv('/Users/karmelealonsoaia/Desktop/ironhack_labs/PROYECTOS/3.-project_etl/notebook/poblacion_total_español_edad_sexo.csv', sep=';', encoding='ISO-8859-1')\n",
    "\n",
    "df2 = df2_original.copy()"
   ]
  },
  {
   "cell_type": "code",
   "execution_count": 54,
   "id": "2921477b",
   "metadata": {},
   "outputs": [
    {
     "data": {
      "text/plain": [
       "(1484, 7)"
      ]
     },
     "execution_count": 54,
     "metadata": {},
     "output_type": "execute_result"
    }
   ],
   "source": [
    "dim2_original = df2.shape # Se guardan las dimensiones del data frame original.\n",
    "\n",
    "df2.shape"
   ]
  },
  {
   "cell_type": "code",
   "execution_count": 55,
   "id": "2e21cb33",
   "metadata": {},
   "outputs": [
    {
     "data": {
      "text/html": [
       "<div>\n",
       "<style scoped>\n",
       "    .dataframe tbody tr th:only-of-type {\n",
       "        vertical-align: middle;\n",
       "    }\n",
       "\n",
       "    .dataframe tbody tr th {\n",
       "        vertical-align: top;\n",
       "    }\n",
       "\n",
       "    .dataframe thead th {\n",
       "        text-align: right;\n",
       "    }\n",
       "</style>\n",
       "<table border=\"1\" class=\"dataframe\">\n",
       "  <thead>\n",
       "    <tr style=\"text-align: right;\">\n",
       "      <th></th>\n",
       "      <th>Total Nacional</th>\n",
       "      <th>Comunidades y Ciudades Autónomas</th>\n",
       "      <th>Edad (año a año)</th>\n",
       "      <th>Españoles/Extranjeros</th>\n",
       "      <th>Sexo</th>\n",
       "      <th>Año</th>\n",
       "      <th>Total</th>\n",
       "    </tr>\n",
       "  </thead>\n",
       "  <tbody>\n",
       "    <tr>\n",
       "      <th>0</th>\n",
       "      <td>Total Nacional</td>\n",
       "      <td>NaN</td>\n",
       "      <td>18 años</td>\n",
       "      <td>Españoles</td>\n",
       "      <td>Hombres</td>\n",
       "      <td>2006</td>\n",
       "      <td>221.811</td>\n",
       "    </tr>\n",
       "    <tr>\n",
       "      <th>1</th>\n",
       "      <td>Total Nacional</td>\n",
       "      <td>NaN</td>\n",
       "      <td>18 años</td>\n",
       "      <td>Españoles</td>\n",
       "      <td>Hombres</td>\n",
       "      <td>2005</td>\n",
       "      <td>227.872</td>\n",
       "    </tr>\n",
       "    <tr>\n",
       "      <th>2</th>\n",
       "      <td>Total Nacional</td>\n",
       "      <td>NaN</td>\n",
       "      <td>18 años</td>\n",
       "      <td>Españoles</td>\n",
       "      <td>Hombres</td>\n",
       "      <td>2004</td>\n",
       "      <td>236.595</td>\n",
       "    </tr>\n",
       "    <tr>\n",
       "      <th>3</th>\n",
       "      <td>Total Nacional</td>\n",
       "      <td>NaN</td>\n",
       "      <td>18 años</td>\n",
       "      <td>Españoles</td>\n",
       "      <td>Hombres</td>\n",
       "      <td>2003</td>\n",
       "      <td>246.163</td>\n",
       "    </tr>\n",
       "    <tr>\n",
       "      <th>4</th>\n",
       "      <td>Total Nacional</td>\n",
       "      <td>NaN</td>\n",
       "      <td>18 años</td>\n",
       "      <td>Españoles</td>\n",
       "      <td>Hombres</td>\n",
       "      <td>2002</td>\n",
       "      <td>254.126</td>\n",
       "    </tr>\n",
       "  </tbody>\n",
       "</table>\n",
       "</div>"
      ],
      "text/plain": [
       "   Total Nacional  Comunidades y Ciudades Autónomas Edad (año a año)  \\\n",
       "0  Total Nacional                               NaN          18 años   \n",
       "1  Total Nacional                               NaN          18 años   \n",
       "2  Total Nacional                               NaN          18 años   \n",
       "3  Total Nacional                               NaN          18 años   \n",
       "4  Total Nacional                               NaN          18 años   \n",
       "\n",
       "  Españoles/Extranjeros     Sexo   Año    Total  \n",
       "0             Españoles  Hombres  2006  221.811  \n",
       "1             Españoles  Hombres  2005  227.872  \n",
       "2             Españoles  Hombres  2004  236.595  \n",
       "3             Españoles  Hombres  2003  246.163  \n",
       "4             Españoles  Hombres  2002  254.126  "
      ]
     },
     "execution_count": 55,
     "metadata": {},
     "output_type": "execute_result"
    }
   ],
   "source": [
    "df2.head()"
   ]
  },
  {
   "cell_type": "code",
   "execution_count": 56,
   "id": "2f222293",
   "metadata": {},
   "outputs": [
    {
     "data": {
      "text/plain": [
       "Index(['Total Nacional', 'Comunidades y Ciudades Autónomas',\n",
       "       'Edad (año a año)', 'Españoles/Extranjeros', 'Sexo', 'Año', 'Total'],\n",
       "      dtype='object')"
      ]
     },
     "execution_count": 56,
     "metadata": {},
     "output_type": "execute_result"
    }
   ],
   "source": [
    "df2.columns # Inspecciono los nombres de las columnas, aunque en este caso son pocas y podían observarse a simple vista."
   ]
  },
  {
   "cell_type": "code",
   "execution_count": 57,
   "id": "c62bf17c",
   "metadata": {},
   "outputs": [
    {
     "name": "stdout",
     "output_type": "stream",
     "text": [
      "<class 'pandas.core.frame.DataFrame'>\n",
      "RangeIndex: 1484 entries, 0 to 1483\n",
      "Data columns (total 7 columns):\n",
      " #   Column                            Non-Null Count  Dtype  \n",
      "---  ------                            --------------  -----  \n",
      " 0   Total Nacional                    1484 non-null   object \n",
      " 1   Comunidades y Ciudades Autónomas  0 non-null      float64\n",
      " 2   Edad (año a año)                  1484 non-null   object \n",
      " 3   Españoles/Extranjeros             1484 non-null   object \n",
      " 4   Sexo                              1484 non-null   object \n",
      " 5   Año                               1484 non-null   int64  \n",
      " 6   Total                             1484 non-null   float64\n",
      "dtypes: float64(2), int64(1), object(4)\n",
      "memory usage: 81.3+ KB\n"
     ]
    }
   ],
   "source": [
    "df2.info() # Lo mismo con el tipo de dato y los valores nulos que tiene cada una de las columnas."
   ]
  },
  {
   "cell_type": "markdown",
   "id": "688ef204",
   "metadata": {},
   "source": [
    "Observamos ahora si hay valores duplicados:"
   ]
  },
  {
   "cell_type": "code",
   "execution_count": 58,
   "id": "cc76d2b2",
   "metadata": {},
   "outputs": [
    {
     "data": {
      "text/plain": [
       "False"
      ]
     },
     "execution_count": 58,
     "metadata": {},
     "output_type": "execute_result"
    }
   ],
   "source": [
    "df2.duplicated().any() # En este caso, no nos encontramos con ninguno."
   ]
  },
  {
   "cell_type": "markdown",
   "id": "f50240d8",
   "metadata": {},
   "source": [
    "# 2.2. Limpieza y transformación. "
   ]
  },
  {
   "cell_type": "markdown",
   "id": "7af12368",
   "metadata": {},
   "source": [
    "Al igual que con el DataFrame anterior, decido eliminar todas aquellas columnas que no aporten ninguna información relevante con respecto al estudio que se está realizando o aquellas de las que desconozca su significado."
   ]
  },
  {
   "cell_type": "code",
   "execution_count": 59,
   "id": "dccb9eeb",
   "metadata": {},
   "outputs": [],
   "source": [
    "columnas_a_eliminar = [\"Total Nacional\", \"Comunidades y Ciudades Autónomas\", \"Españoles/Extranjeros\"]"
   ]
  },
  {
   "cell_type": "code",
   "execution_count": 60,
   "id": "638b747b",
   "metadata": {},
   "outputs": [
    {
     "data": {
      "text/html": [
       "<div>\n",
       "<style scoped>\n",
       "    .dataframe tbody tr th:only-of-type {\n",
       "        vertical-align: middle;\n",
       "    }\n",
       "\n",
       "    .dataframe tbody tr th {\n",
       "        vertical-align: top;\n",
       "    }\n",
       "\n",
       "    .dataframe thead th {\n",
       "        text-align: right;\n",
       "    }\n",
       "</style>\n",
       "<table border=\"1\" class=\"dataframe\">\n",
       "  <thead>\n",
       "    <tr style=\"text-align: right;\">\n",
       "      <th></th>\n",
       "      <th>Edad (año a año)</th>\n",
       "      <th>Sexo</th>\n",
       "      <th>Año</th>\n",
       "      <th>Total</th>\n",
       "    </tr>\n",
       "  </thead>\n",
       "  <tbody>\n",
       "    <tr>\n",
       "      <th>0</th>\n",
       "      <td>18 años</td>\n",
       "      <td>Hombres</td>\n",
       "      <td>2006</td>\n",
       "      <td>221.811</td>\n",
       "    </tr>\n",
       "    <tr>\n",
       "      <th>1</th>\n",
       "      <td>18 años</td>\n",
       "      <td>Hombres</td>\n",
       "      <td>2005</td>\n",
       "      <td>227.872</td>\n",
       "    </tr>\n",
       "    <tr>\n",
       "      <th>2</th>\n",
       "      <td>18 años</td>\n",
       "      <td>Hombres</td>\n",
       "      <td>2004</td>\n",
       "      <td>236.595</td>\n",
       "    </tr>\n",
       "    <tr>\n",
       "      <th>3</th>\n",
       "      <td>18 años</td>\n",
       "      <td>Hombres</td>\n",
       "      <td>2003</td>\n",
       "      <td>246.163</td>\n",
       "    </tr>\n",
       "    <tr>\n",
       "      <th>4</th>\n",
       "      <td>18 años</td>\n",
       "      <td>Hombres</td>\n",
       "      <td>2002</td>\n",
       "      <td>254.126</td>\n",
       "    </tr>\n",
       "    <tr>\n",
       "      <th>...</th>\n",
       "      <td>...</td>\n",
       "      <td>...</td>\n",
       "      <td>...</td>\n",
       "      <td>...</td>\n",
       "    </tr>\n",
       "    <tr>\n",
       "      <th>1479</th>\n",
       "      <td>70 años</td>\n",
       "      <td>Mujeres</td>\n",
       "      <td>2004</td>\n",
       "      <td>4.450</td>\n",
       "    </tr>\n",
       "    <tr>\n",
       "      <th>1480</th>\n",
       "      <td>70 años</td>\n",
       "      <td>Mujeres</td>\n",
       "      <td>2003</td>\n",
       "      <td>4.572</td>\n",
       "    </tr>\n",
       "    <tr>\n",
       "      <th>1481</th>\n",
       "      <td>70 años</td>\n",
       "      <td>Mujeres</td>\n",
       "      <td>2002</td>\n",
       "      <td>3.688</td>\n",
       "    </tr>\n",
       "    <tr>\n",
       "      <th>1482</th>\n",
       "      <td>70 años</td>\n",
       "      <td>Mujeres</td>\n",
       "      <td>2001</td>\n",
       "      <td>3.563</td>\n",
       "    </tr>\n",
       "    <tr>\n",
       "      <th>1483</th>\n",
       "      <td>70 años</td>\n",
       "      <td>Mujeres</td>\n",
       "      <td>2000</td>\n",
       "      <td>2.965</td>\n",
       "    </tr>\n",
       "  </tbody>\n",
       "</table>\n",
       "<p>1484 rows × 4 columns</p>\n",
       "</div>"
      ],
      "text/plain": [
       "     Edad (año a año)     Sexo   Año    Total\n",
       "0             18 años  Hombres  2006  221.811\n",
       "1             18 años  Hombres  2005  227.872\n",
       "2             18 años  Hombres  2004  236.595\n",
       "3             18 años  Hombres  2003  246.163\n",
       "4             18 años  Hombres  2002  254.126\n",
       "...               ...      ...   ...      ...\n",
       "1479          70 años  Mujeres  2004    4.450\n",
       "1480          70 años  Mujeres  2003    4.572\n",
       "1481          70 años  Mujeres  2002    3.688\n",
       "1482          70 años  Mujeres  2001    3.563\n",
       "1483          70 años  Mujeres  2000    2.965\n",
       "\n",
       "[1484 rows x 4 columns]"
      ]
     },
     "execution_count": 60,
     "metadata": {},
     "output_type": "execute_result"
    }
   ],
   "source": [
    "df2 = df2.drop(columnas_a_eliminar, axis=1)\n",
    "df2"
   ]
  },
  {
   "cell_type": "markdown",
   "id": "16a44885",
   "metadata": {},
   "source": [
    "Con el fin de que el formato y el contenido de este dataframe encaje con el anterior (así como con los consecutivos), y pueda así realizarse un estudio posterior, me dispongo a modificarlo a continuación."
   ]
  },
  {
   "cell_type": "code",
   "execution_count": 61,
   "id": "28082ffd",
   "metadata": {},
   "outputs": [],
   "source": [
    "df2.columns = df2.columns.str.lower() # Cambio, en primer lugar, los nombres de columnas a minuscula."
   ]
  },
  {
   "cell_type": "code",
   "execution_count": 62,
   "id": "aafe175f",
   "metadata": {},
   "outputs": [],
   "source": [
    "df2 = df2.rename(columns=lambda x: x.replace(\" \", \"_\"))"
   ]
  },
  {
   "cell_type": "code",
   "execution_count": 63,
   "id": "85f8df48",
   "metadata": {},
   "outputs": [
    {
     "data": {
      "text/html": [
       "<div>\n",
       "<style scoped>\n",
       "    .dataframe tbody tr th:only-of-type {\n",
       "        vertical-align: middle;\n",
       "    }\n",
       "\n",
       "    .dataframe tbody tr th {\n",
       "        vertical-align: top;\n",
       "    }\n",
       "\n",
       "    .dataframe thead th {\n",
       "        text-align: right;\n",
       "    }\n",
       "</style>\n",
       "<table border=\"1\" class=\"dataframe\">\n",
       "  <thead>\n",
       "    <tr style=\"text-align: right;\">\n",
       "      <th></th>\n",
       "      <th>edad_(año_a_año)</th>\n",
       "      <th>sexo</th>\n",
       "      <th>año</th>\n",
       "      <th>total</th>\n",
       "    </tr>\n",
       "  </thead>\n",
       "  <tbody>\n",
       "    <tr>\n",
       "      <th>0</th>\n",
       "      <td>18 años</td>\n",
       "      <td>Hombres</td>\n",
       "      <td>2006</td>\n",
       "      <td>221.811</td>\n",
       "    </tr>\n",
       "    <tr>\n",
       "      <th>1</th>\n",
       "      <td>18 años</td>\n",
       "      <td>Hombres</td>\n",
       "      <td>2005</td>\n",
       "      <td>227.872</td>\n",
       "    </tr>\n",
       "    <tr>\n",
       "      <th>2</th>\n",
       "      <td>18 años</td>\n",
       "      <td>Hombres</td>\n",
       "      <td>2004</td>\n",
       "      <td>236.595</td>\n",
       "    </tr>\n",
       "    <tr>\n",
       "      <th>3</th>\n",
       "      <td>18 años</td>\n",
       "      <td>Hombres</td>\n",
       "      <td>2003</td>\n",
       "      <td>246.163</td>\n",
       "    </tr>\n",
       "    <tr>\n",
       "      <th>4</th>\n",
       "      <td>18 años</td>\n",
       "      <td>Hombres</td>\n",
       "      <td>2002</td>\n",
       "      <td>254.126</td>\n",
       "    </tr>\n",
       "  </tbody>\n",
       "</table>\n",
       "</div>"
      ],
      "text/plain": [
       "  edad_(año_a_año)     sexo   año    total\n",
       "0          18 años  Hombres  2006  221.811\n",
       "1          18 años  Hombres  2005  227.872\n",
       "2          18 años  Hombres  2004  236.595\n",
       "3          18 años  Hombres  2003  246.163\n",
       "4          18 años  Hombres  2002  254.126"
      ]
     },
     "execution_count": 63,
     "metadata": {},
     "output_type": "execute_result"
    }
   ],
   "source": [
    "df2.head()"
   ]
  },
  {
   "cell_type": "code",
   "execution_count": 64,
   "id": "18d98f0b",
   "metadata": {},
   "outputs": [],
   "source": [
    "df2 = df2.rename(columns={\"edad_(año_a_año)\": 'edad'}) # Le cambio el nombre a esta columna concretamente, para que sea igual al anterior también."
   ]
  },
  {
   "cell_type": "markdown",
   "id": "7b73873e",
   "metadata": {},
   "source": [
    "También modifico el contenido del interior de las columnas. \n",
    "\n",
    "En el caso de la columna \"edad\", pretendo quitar todo aquello que no pueda, más adelante, modificarse a formato integer, con el fin de que en el estudio pueda manipularse y estudiarse de forma sencilla."
   ]
  },
  {
   "cell_type": "code",
   "execution_count": 65,
   "id": "b3eb71bd",
   "metadata": {},
   "outputs": [],
   "source": [
    "df2[\"edad\"] = df2[\"edad\"].str.replace(\" años\", \"\", regex=False) "
   ]
  },
  {
   "cell_type": "code",
   "execution_count": 66,
   "id": "4e3bc17a",
   "metadata": {},
   "outputs": [],
   "source": [
    "df2['edad'] = pd.to_numeric(df2['edad'].str.replace(',', '.'))\n",
    "df2['edad'] = df2['edad'].astype('int64')"
   ]
  },
  {
   "cell_type": "code",
   "execution_count": 67,
   "id": "ee163bec",
   "metadata": {},
   "outputs": [],
   "source": [
    "df2 = df2.replace([\"Hombres\"], \"hombre\") # Modifico el contenido para que coincida con el anterior.\n",
    "df2 = df2.replace([\"Mujeres\"], \"mujer\")"
   ]
  },
  {
   "cell_type": "code",
   "execution_count": 68,
   "id": "c2069c7b",
   "metadata": {},
   "outputs": [
    {
     "data": {
      "text/plain": [
       "array([18, 19, 20, 21, 22, 23, 24, 25, 26, 27, 28, 29, 30, 31, 32, 33, 34,\n",
       "       35, 36, 37, 38, 39, 40, 41, 42, 43, 44, 45, 46, 47, 48, 49, 50, 51,\n",
       "       52, 53, 54, 55, 56, 57, 58, 59, 60, 61, 62, 63, 64, 65, 66, 67, 68,\n",
       "       69, 70])"
      ]
     },
     "execution_count": 68,
     "metadata": {},
     "output_type": "execute_result"
    }
   ],
   "source": [
    "df2.edad.unique()"
   ]
  },
  {
   "cell_type": "code",
   "execution_count": 69,
   "id": "41ce3024",
   "metadata": {},
   "outputs": [
    {
     "data": {
      "text/plain": [
       "array(['hombre', 'mujer'], dtype=object)"
      ]
     },
     "execution_count": 69,
     "metadata": {},
     "output_type": "execute_result"
    }
   ],
   "source": [
    "df2.sexo.unique()"
   ]
  },
  {
   "cell_type": "code",
   "execution_count": 70,
   "id": "05564fdd",
   "metadata": {},
   "outputs": [
    {
     "data": {
      "text/plain": [
       "array([2006, 2005, 2004, 2003, 2002, 2001, 2000])"
      ]
     },
     "execution_count": 70,
     "metadata": {},
     "output_type": "execute_result"
    }
   ],
   "source": [
    "df2.año.unique()"
   ]
  },
  {
   "cell_type": "markdown",
   "id": "1ae9f0e8",
   "metadata": {},
   "source": [
    "Dado que el estudio de la tabla anterior se llevó a cabo en el período de 2004 a 2006, procederé a eliminar todas las filas que no correspondan a estos años. \n",
    "Esto se debe a que no sería coherente incluir datos que estén fuera del rango temporal del estudio anterior, pues los resultados que obtendríamos no tendrían coherencia alguna, por lo que no podrían obtenerse conclusiones de los mismos."
   ]
  },
  {
   "cell_type": "markdown",
   "id": "06d37f30",
   "metadata": {},
   "source": [
    "Del mismo modo, en relación con las edades, el rango previamente mencionado abarca desde los 21 hasta los 70 años.\n",
    "En consecuencia, se eliminarán las filas que contengan edades fuera de este intervalo, ya que, por el mimso motivo que el caso anterior, sería un sinsentido incluir datos que no se ajusten al rango especificado."
   ]
  },
  {
   "cell_type": "code",
   "execution_count": 71,
   "id": "eb641493",
   "metadata": {},
   "outputs": [],
   "source": [
    "df2 = df2.loc[(df2['año'] >= 2004) & (df2['año'] <= 2006)] # Utilizo df.loc para seleccionar las filas que cumplen con la condición de que el año esté en el intervalo 2004-2006. ."
   ]
  },
  {
   "cell_type": "code",
   "execution_count": 72,
   "id": "b0addc89",
   "metadata": {},
   "outputs": [],
   "source": [
    "df2 = df2.loc[(df2['edad'] >= 21) & (df2['edad'] <= 70)] # Lo mismo pero con la condición de que la edad esté entre los 21 y los 70."
   ]
  },
  {
   "cell_type": "code",
   "execution_count": 73,
   "id": "4ca9a177",
   "metadata": {},
   "outputs": [
    {
     "data": {
      "text/plain": [
       "array([21, 22, 23, 24, 25, 26, 27, 28, 29, 30, 31, 32, 33, 34, 35, 36, 37,\n",
       "       38, 39, 40, 41, 42, 43, 44, 45, 46, 47, 48, 49, 50, 51, 52, 53, 54,\n",
       "       55, 56, 57, 58, 59, 60, 61, 62, 63, 64, 65, 66, 67, 68, 69, 70])"
      ]
     },
     "execution_count": 73,
     "metadata": {},
     "output_type": "execute_result"
    }
   ],
   "source": [
    "df2.edad.unique()"
   ]
  },
  {
   "cell_type": "code",
   "execution_count": 74,
   "id": "2ccc0e37",
   "metadata": {},
   "outputs": [
    {
     "data": {
      "text/plain": [
       "array([2006, 2005, 2004])"
      ]
     },
     "execution_count": 74,
     "metadata": {},
     "output_type": "execute_result"
    }
   ],
   "source": [
    "df2.año.unique()"
   ]
  },
  {
   "cell_type": "markdown",
   "id": "662e073b",
   "metadata": {},
   "source": [
    "Revisamos aquí también que no haya ningún valor especialemnte atípico para cada una de las columnas númericas de la tabla y observamos sus estadísticas."
   ]
  },
  {
   "cell_type": "code",
   "execution_count": 75,
   "id": "159dacc5",
   "metadata": {},
   "outputs": [
    {
     "data": {
      "text/html": [
       "<div>\n",
       "<style scoped>\n",
       "    .dataframe tbody tr th:only-of-type {\n",
       "        vertical-align: middle;\n",
       "    }\n",
       "\n",
       "    .dataframe tbody tr th {\n",
       "        vertical-align: top;\n",
       "    }\n",
       "\n",
       "    .dataframe thead th {\n",
       "        text-align: right;\n",
       "    }\n",
       "</style>\n",
       "<table border=\"1\" class=\"dataframe\">\n",
       "  <thead>\n",
       "    <tr style=\"text-align: right;\">\n",
       "      <th></th>\n",
       "      <th>count</th>\n",
       "      <th>mean</th>\n",
       "      <th>std</th>\n",
       "      <th>min</th>\n",
       "      <th>25%</th>\n",
       "      <th>50%</th>\n",
       "      <th>75%</th>\n",
       "      <th>max</th>\n",
       "    </tr>\n",
       "  </thead>\n",
       "  <tbody>\n",
       "    <tr>\n",
       "      <th>edad</th>\n",
       "      <td>600.0</td>\n",
       "      <td>45.500000</td>\n",
       "      <td>14.442910</td>\n",
       "      <td>21.00</td>\n",
       "      <td>33.000</td>\n",
       "      <td>45.5000</td>\n",
       "      <td>58.00000</td>\n",
       "      <td>70.000</td>\n",
       "    </tr>\n",
       "    <tr>\n",
       "      <th>año</th>\n",
       "      <td>600.0</td>\n",
       "      <td>2005.000000</td>\n",
       "      <td>0.817178</td>\n",
       "      <td>2004.00</td>\n",
       "      <td>2004.000</td>\n",
       "      <td>2005.0000</td>\n",
       "      <td>2006.00000</td>\n",
       "      <td>2006.000</td>\n",
       "    </tr>\n",
       "    <tr>\n",
       "      <th>total</th>\n",
       "      <td>600.0</td>\n",
       "      <td>149.039437</td>\n",
       "      <td>127.758379</td>\n",
       "      <td>4.45</td>\n",
       "      <td>23.344</td>\n",
       "      <td>103.7505</td>\n",
       "      <td>271.01325</td>\n",
       "      <td>346.671</td>\n",
       "    </tr>\n",
       "  </tbody>\n",
       "</table>\n",
       "</div>"
      ],
      "text/plain": [
       "       count         mean         std      min       25%        50%  \\\n",
       "edad   600.0    45.500000   14.442910    21.00    33.000    45.5000   \n",
       "año    600.0  2005.000000    0.817178  2004.00  2004.000  2005.0000   \n",
       "total  600.0   149.039437  127.758379     4.45    23.344   103.7505   \n",
       "\n",
       "              75%       max  \n",
       "edad     58.00000    70.000  \n",
       "año    2006.00000  2006.000  \n",
       "total   271.01325   346.671  "
      ]
     },
     "execution_count": 75,
     "metadata": {},
     "output_type": "execute_result"
    }
   ],
   "source": [
    "df2.describe().T"
   ]
  },
  {
   "cell_type": "markdown",
   "id": "fe2f8485",
   "metadata": {},
   "source": [
    "Lo mismo con las columnas no numéricas."
   ]
  },
  {
   "cell_type": "code",
   "execution_count": 76,
   "id": "02a07dd3",
   "metadata": {},
   "outputs": [
    {
     "data": {
      "text/html": [
       "<div>\n",
       "<style scoped>\n",
       "    .dataframe tbody tr th:only-of-type {\n",
       "        vertical-align: middle;\n",
       "    }\n",
       "\n",
       "    .dataframe tbody tr th {\n",
       "        vertical-align: top;\n",
       "    }\n",
       "\n",
       "    .dataframe thead th {\n",
       "        text-align: right;\n",
       "    }\n",
       "</style>\n",
       "<table border=\"1\" class=\"dataframe\">\n",
       "  <thead>\n",
       "    <tr style=\"text-align: right;\">\n",
       "      <th></th>\n",
       "      <th>sexo</th>\n",
       "    </tr>\n",
       "  </thead>\n",
       "  <tbody>\n",
       "    <tr>\n",
       "      <th>count</th>\n",
       "      <td>600</td>\n",
       "    </tr>\n",
       "    <tr>\n",
       "      <th>unique</th>\n",
       "      <td>2</td>\n",
       "    </tr>\n",
       "    <tr>\n",
       "      <th>top</th>\n",
       "      <td>hombre</td>\n",
       "    </tr>\n",
       "    <tr>\n",
       "      <th>freq</th>\n",
       "      <td>300</td>\n",
       "    </tr>\n",
       "  </tbody>\n",
       "</table>\n",
       "</div>"
      ],
      "text/plain": [
       "          sexo\n",
       "count      600\n",
       "unique       2\n",
       "top     hombre\n",
       "freq       300"
      ]
     },
     "execution_count": 76,
     "metadata": {},
     "output_type": "execute_result"
    }
   ],
   "source": [
    "df2.describe(include = \"object\")"
   ]
  },
  {
   "cell_type": "markdown",
   "id": "90e197f7",
   "metadata": {},
   "source": [
    "# 3. Fuente 3- Web Scraping con Beautiful Soup: Estudio poblacional sobre la Resistencia a la Insulina (RI)."
   ]
  },
  {
   "cell_type": "code",
   "execution_count": 77,
   "id": "d1d34e1b",
   "metadata": {},
   "outputs": [],
   "source": [
    "# URL of the website you want to extract HTML from\n",
    "url = 'https://www.elsevier.es/es-revista-endocrinologia-nutricion-12-articulo-relacion-resistencia-insulina-con-diferentes-S1575092211002403'"
   ]
  },
  {
   "cell_type": "code",
   "execution_count": 78,
   "id": "c586b4e9",
   "metadata": {},
   "outputs": [],
   "source": [
    "# Send a GET request to the URL\n",
    "html = req.get(url)"
   ]
  },
  {
   "cell_type": "code",
   "execution_count": 79,
   "id": "fd01a954",
   "metadata": {},
   "outputs": [],
   "source": [
    "# Parse the HTML content of the page\n",
    "soup = bs(html.content, 'html.parser')"
   ]
  },
  {
   "cell_type": "code",
   "execution_count": 80,
   "id": "24d2c000",
   "metadata": {},
   "outputs": [],
   "source": [
    "# Find all elements with the class name 'elsevierItemMultimediaTablaTabla'\n",
    "elements = soup.find_all(class_='elsevierItemMultimediaTablaTabla')\n"
   ]
  },
  {
   "cell_type": "markdown",
   "id": "a93fd934",
   "metadata": {},
   "source": [
    "# 3.1. Tabla 1."
   ]
  },
  {
   "cell_type": "code",
   "execution_count": 81,
   "id": "7d9786b9",
   "metadata": {},
   "outputs": [],
   "source": [
    "# Itero sobre los elementos para imprimir su contenido HTML.\n",
    "for elem in elements[2:3]:\n",
    "    table = elem.find('table')\n",
    "    table_rows = table.find_all('tr') # Dentro del elemento \"table\", localizo los elementos \"tr\".\n",
    "    data = []\n",
    "\n",
    "    # Itero los elementos 'tr' con el fin de extraer los datos de los elementos 'td' y 'th'.\n",
    "    for tr in table_rows:\n",
    "        row = tr.find_all(['td', 'th'])\n",
    "        \n",
    "        clean_row = [e.text.strip() for e in row] #Quito cualquier espacio o salto de linea para dejar limpia la tabla\n",
    "        data.append(clean_row)\n",
    "\n",
    "    df3 = pd.DataFrame(data)\n",
    "    "
   ]
  },
  {
   "cell_type": "code",
   "execution_count": 82,
   "id": "82bdd7a3",
   "metadata": {},
   "outputs": [
    {
     "data": {
      "text/html": [
       "<div>\n",
       "<style scoped>\n",
       "    .dataframe tbody tr th:only-of-type {\n",
       "        vertical-align: middle;\n",
       "    }\n",
       "\n",
       "    .dataframe tbody tr th {\n",
       "        vertical-align: top;\n",
       "    }\n",
       "\n",
       "    .dataframe thead th {\n",
       "        text-align: right;\n",
       "    }\n",
       "</style>\n",
       "<table border=\"1\" class=\"dataframe\">\n",
       "  <thead>\n",
       "    <tr style=\"text-align: right;\">\n",
       "      <th></th>\n",
       "      <th>0</th>\n",
       "      <th>1</th>\n",
       "      <th>2</th>\n",
       "      <th>3</th>\n",
       "    </tr>\n",
       "  </thead>\n",
       "  <tbody>\n",
       "    <tr>\n",
       "      <th>0</th>\n",
       "      <td>Edad (años)</td>\n",
       "      <td>Total</td>\n",
       "      <td>Mujeres</td>\n",
       "      <td>Varones</td>\n",
       "    </tr>\n",
       "    <tr>\n",
       "      <th>1</th>\n",
       "      <td>Menores de 31</td>\n",
       "      <td>26,3%</td>\n",
       "      <td>21,2%</td>\n",
       "      <td>33,3%</td>\n",
       "    </tr>\n",
       "    <tr>\n",
       "      <th>2</th>\n",
       "      <td>31- 42</td>\n",
       "      <td>26,5%</td>\n",
       "      <td>19,3%</td>\n",
       "      <td>36,5%</td>\n",
       "    </tr>\n",
       "    <tr>\n",
       "      <th>3</th>\n",
       "      <td>43-54</td>\n",
       "      <td>38,1%</td>\n",
       "      <td>31,3%</td>\n",
       "      <td>46,3%</td>\n",
       "    </tr>\n",
       "    <tr>\n",
       "      <th>4</th>\n",
       "      <td>55-65</td>\n",
       "      <td>52,0%</td>\n",
       "      <td>53,0%</td>\n",
       "      <td>50,8%</td>\n",
       "    </tr>\n",
       "    <tr>\n",
       "      <th>5</th>\n",
       "      <td>Mayores de 65</td>\n",
       "      <td>49,1%</td>\n",
       "      <td>51,9%</td>\n",
       "      <td>44,1%</td>\n",
       "    </tr>\n",
       "    <tr>\n",
       "      <th>6</th>\n",
       "      <td>Total</td>\n",
       "      <td>39,8%</td>\n",
       "      <td>37,1%</td>\n",
       "      <td>43,6%</td>\n",
       "    </tr>\n",
       "    <tr>\n",
       "      <th>7</th>\n",
       "      <td>P</td>\n",
       "      <td>&lt; 0,001</td>\n",
       "      <td>&lt; 0,001</td>\n",
       "      <td>0,427</td>\n",
       "    </tr>\n",
       "  </tbody>\n",
       "</table>\n",
       "</div>"
      ],
      "text/plain": [
       "               0        1        2        3\n",
       "0    Edad (años)    Total  Mujeres  Varones\n",
       "1  Menores de 31    26,3%    21,2%    33,3%\n",
       "2         31- 42    26,5%    19,3%    36,5%\n",
       "3          43-54    38,1%    31,3%    46,3%\n",
       "4          55-65    52,0%    53,0%    50,8%\n",
       "5  Mayores de 65    49,1%    51,9%    44,1%\n",
       "6          Total    39,8%    37,1%    43,6%\n",
       "7              P  < 0,001  < 0,001    0,427"
      ]
     },
     "execution_count": 82,
     "metadata": {},
     "output_type": "execute_result"
    }
   ],
   "source": [
    "df3"
   ]
  },
  {
   "cell_type": "code",
   "execution_count": 83,
   "id": "743182e2",
   "metadata": {},
   "outputs": [],
   "source": [
    "df3.columns = df3.iloc[0] #Utlizo los valores de la primera fila como los nombres de las columnas.\n",
    "df3 = df3.iloc[1:] #Elimino la primera fila (que ahora se ha convertido en la fila de nombres de columna)."
   ]
  },
  {
   "cell_type": "code",
   "execution_count": 84,
   "id": "c1cc71dc",
   "metadata": {},
   "outputs": [],
   "source": [
    "df3 = df3.reset_index(drop=True) # Restablezo el índice."
   ]
  },
  {
   "cell_type": "code",
   "execution_count": 85,
   "id": "94f810be",
   "metadata": {},
   "outputs": [
    {
     "data": {
      "text/html": [
       "<div>\n",
       "<style scoped>\n",
       "    .dataframe tbody tr th:only-of-type {\n",
       "        vertical-align: middle;\n",
       "    }\n",
       "\n",
       "    .dataframe tbody tr th {\n",
       "        vertical-align: top;\n",
       "    }\n",
       "\n",
       "    .dataframe thead th {\n",
       "        text-align: right;\n",
       "    }\n",
       "</style>\n",
       "<table border=\"1\" class=\"dataframe\">\n",
       "  <thead>\n",
       "    <tr style=\"text-align: right;\">\n",
       "      <th></th>\n",
       "      <th>Edad (años)</th>\n",
       "      <th>Total</th>\n",
       "      <th>Mujeres</th>\n",
       "      <th>Varones</th>\n",
       "    </tr>\n",
       "  </thead>\n",
       "  <tbody>\n",
       "    <tr>\n",
       "      <th>0</th>\n",
       "      <td>Menores de 31</td>\n",
       "      <td>26,3%</td>\n",
       "      <td>21,2%</td>\n",
       "      <td>33,3%</td>\n",
       "    </tr>\n",
       "    <tr>\n",
       "      <th>1</th>\n",
       "      <td>31- 42</td>\n",
       "      <td>26,5%</td>\n",
       "      <td>19,3%</td>\n",
       "      <td>36,5%</td>\n",
       "    </tr>\n",
       "    <tr>\n",
       "      <th>2</th>\n",
       "      <td>43-54</td>\n",
       "      <td>38,1%</td>\n",
       "      <td>31,3%</td>\n",
       "      <td>46,3%</td>\n",
       "    </tr>\n",
       "    <tr>\n",
       "      <th>3</th>\n",
       "      <td>55-65</td>\n",
       "      <td>52,0%</td>\n",
       "      <td>53,0%</td>\n",
       "      <td>50,8%</td>\n",
       "    </tr>\n",
       "    <tr>\n",
       "      <th>4</th>\n",
       "      <td>Mayores de 65</td>\n",
       "      <td>49,1%</td>\n",
       "      <td>51,9%</td>\n",
       "      <td>44,1%</td>\n",
       "    </tr>\n",
       "    <tr>\n",
       "      <th>5</th>\n",
       "      <td>Total</td>\n",
       "      <td>39,8%</td>\n",
       "      <td>37,1%</td>\n",
       "      <td>43,6%</td>\n",
       "    </tr>\n",
       "    <tr>\n",
       "      <th>6</th>\n",
       "      <td>P</td>\n",
       "      <td>&lt; 0,001</td>\n",
       "      <td>&lt; 0,001</td>\n",
       "      <td>0,427</td>\n",
       "    </tr>\n",
       "  </tbody>\n",
       "</table>\n",
       "</div>"
      ],
      "text/plain": [
       "0    Edad (años)    Total  Mujeres Varones\n",
       "0  Menores de 31    26,3%    21,2%   33,3%\n",
       "1         31- 42    26,5%    19,3%   36,5%\n",
       "2          43-54    38,1%    31,3%   46,3%\n",
       "3          55-65    52,0%    53,0%   50,8%\n",
       "4  Mayores de 65    49,1%    51,9%   44,1%\n",
       "5          Total    39,8%    37,1%   43,6%\n",
       "6              P  < 0,001  < 0,001   0,427"
      ]
     },
     "execution_count": 85,
     "metadata": {},
     "output_type": "execute_result"
    }
   ],
   "source": [
    "df3"
   ]
  },
  {
   "cell_type": "code",
   "execution_count": 86,
   "id": "adeef7bc",
   "metadata": {},
   "outputs": [
    {
     "name": "stdout",
     "output_type": "stream",
     "text": [
      "<class 'pandas.core.frame.DataFrame'>\n",
      "RangeIndex: 7 entries, 0 to 6\n",
      "Data columns (total 4 columns):\n",
      " #   Column       Non-Null Count  Dtype \n",
      "---  ------       --------------  ----- \n",
      " 0   Edad (años)  7 non-null      object\n",
      " 1   Total        7 non-null      object\n",
      " 2   Mujeres      7 non-null      object\n",
      " 3   Varones      7 non-null      object\n",
      "dtypes: object(4)\n",
      "memory usage: 356.0+ bytes\n"
     ]
    }
   ],
   "source": [
    "df3.info()"
   ]
  },
  {
   "cell_type": "code",
   "execution_count": 87,
   "id": "f5093095",
   "metadata": {},
   "outputs": [],
   "source": [
    "df3.columns = df3.columns.str.lower() # Modifico todos los nombres de columnas a minuscula."
   ]
  },
  {
   "cell_type": "code",
   "execution_count": 88,
   "id": "09ceb2d1",
   "metadata": {},
   "outputs": [],
   "source": [
    "df3 = df3.rename(columns={\"edad (años)\": 'edad'}) # Cambio algunos nombres de columnas por comodidad.\n",
    "df3 = df3.rename(columns={\"varones\": 'hombres'})"
   ]
  },
  {
   "cell_type": "code",
   "execution_count": 89,
   "id": "aa13ca26",
   "metadata": {},
   "outputs": [],
   "source": [
    "df3 = df3.replace([\"Menores de 31\"], \"< 31\") # Y también algunos valores de la columna \"edad\".\n",
    "df3 = df3.replace([\"Mayores de 65\"], \"65 +\")\n",
    "df3 = df3.replace([\"Total\"], \"total\")\n",
    "df3 = df3.replace([\"P\"], \"p\")"
   ]
  },
  {
   "cell_type": "code",
   "execution_count": 90,
   "id": "d5659f91",
   "metadata": {},
   "outputs": [
    {
     "data": {
      "text/html": [
       "<div>\n",
       "<style scoped>\n",
       "    .dataframe tbody tr th:only-of-type {\n",
       "        vertical-align: middle;\n",
       "    }\n",
       "\n",
       "    .dataframe tbody tr th {\n",
       "        vertical-align: top;\n",
       "    }\n",
       "\n",
       "    .dataframe thead th {\n",
       "        text-align: right;\n",
       "    }\n",
       "</style>\n",
       "<table border=\"1\" class=\"dataframe\">\n",
       "  <thead>\n",
       "    <tr style=\"text-align: right;\">\n",
       "      <th></th>\n",
       "      <th>edad</th>\n",
       "      <th>total</th>\n",
       "      <th>mujeres</th>\n",
       "      <th>hombres</th>\n",
       "    </tr>\n",
       "  </thead>\n",
       "  <tbody>\n",
       "    <tr>\n",
       "      <th>0</th>\n",
       "      <td>&lt; 31</td>\n",
       "      <td>26,3%</td>\n",
       "      <td>21,2%</td>\n",
       "      <td>33,3%</td>\n",
       "    </tr>\n",
       "    <tr>\n",
       "      <th>1</th>\n",
       "      <td>31- 42</td>\n",
       "      <td>26,5%</td>\n",
       "      <td>19,3%</td>\n",
       "      <td>36,5%</td>\n",
       "    </tr>\n",
       "    <tr>\n",
       "      <th>2</th>\n",
       "      <td>43-54</td>\n",
       "      <td>38,1%</td>\n",
       "      <td>31,3%</td>\n",
       "      <td>46,3%</td>\n",
       "    </tr>\n",
       "    <tr>\n",
       "      <th>3</th>\n",
       "      <td>55-65</td>\n",
       "      <td>52,0%</td>\n",
       "      <td>53,0%</td>\n",
       "      <td>50,8%</td>\n",
       "    </tr>\n",
       "    <tr>\n",
       "      <th>4</th>\n",
       "      <td>65 +</td>\n",
       "      <td>49,1%</td>\n",
       "      <td>51,9%</td>\n",
       "      <td>44,1%</td>\n",
       "    </tr>\n",
       "    <tr>\n",
       "      <th>5</th>\n",
       "      <td>total</td>\n",
       "      <td>39,8%</td>\n",
       "      <td>37,1%</td>\n",
       "      <td>43,6%</td>\n",
       "    </tr>\n",
       "    <tr>\n",
       "      <th>6</th>\n",
       "      <td>p</td>\n",
       "      <td>&lt; 0,001</td>\n",
       "      <td>&lt; 0,001</td>\n",
       "      <td>0,427</td>\n",
       "    </tr>\n",
       "  </tbody>\n",
       "</table>\n",
       "</div>"
      ],
      "text/plain": [
       "0    edad    total  mujeres hombres\n",
       "0    < 31    26,3%    21,2%   33,3%\n",
       "1  31- 42    26,5%    19,3%   36,5%\n",
       "2   43-54    38,1%    31,3%   46,3%\n",
       "3   55-65    52,0%    53,0%   50,8%\n",
       "4    65 +    49,1%    51,9%   44,1%\n",
       "5   total    39,8%    37,1%   43,6%\n",
       "6       p  < 0,001  < 0,001   0,427"
      ]
     },
     "execution_count": 90,
     "metadata": {},
     "output_type": "execute_result"
    }
   ],
   "source": [
    "df3"
   ]
  },
  {
   "cell_type": "markdown",
   "id": "a368f78f",
   "metadata": {},
   "source": [
    "# 3.2. Tabla 2."
   ]
  },
  {
   "cell_type": "code",
   "execution_count": 91,
   "id": "fe0941d9",
   "metadata": {},
   "outputs": [],
   "source": [
    "for elem in elements[3:4]: #Realizo lo mismo que en el caso anterior.\n",
    "    table = elem.find('table')\n",
    "    table_rows = table.find_all('tr')\n",
    "    data = []\n",
    "\n",
    "    for tr in table_rows:\n",
    "        row = tr.find_all(['td', 'th'])\n",
    "        clean_row = [e.text.strip() for e in row]\n",
    "        data.append(clean_row)\n",
    "\n",
    "    df4 = pd.DataFrame(data)"
   ]
  },
  {
   "cell_type": "code",
   "execution_count": 92,
   "id": "f725e0f1",
   "metadata": {},
   "outputs": [
    {
     "data": {
      "text/html": [
       "<div>\n",
       "<style scoped>\n",
       "    .dataframe tbody tr th:only-of-type {\n",
       "        vertical-align: middle;\n",
       "    }\n",
       "\n",
       "    .dataframe tbody tr th {\n",
       "        vertical-align: top;\n",
       "    }\n",
       "\n",
       "    .dataframe thead th {\n",
       "        text-align: right;\n",
       "    }\n",
       "</style>\n",
       "<table border=\"1\" class=\"dataframe\">\n",
       "  <thead>\n",
       "    <tr style=\"text-align: right;\">\n",
       "      <th></th>\n",
       "      <th>0</th>\n",
       "      <th>1</th>\n",
       "      <th>2</th>\n",
       "      <th>3</th>\n",
       "    </tr>\n",
       "  </thead>\n",
       "  <tbody>\n",
       "    <tr>\n",
       "      <th>0</th>\n",
       "      <td></td>\n",
       "      <td>RI (n=270)</td>\n",
       "      <td>No RI (n=408)</td>\n",
       "      <td>P</td>\n",
       "    </tr>\n",
       "    <tr>\n",
       "      <th>1</th>\n",
       "      <td>Peso (kg)</td>\n",
       "      <td>80,1 (15,6)</td>\n",
       "      <td>62,3 (13,1)</td>\n",
       "      <td>&lt; 0,001</td>\n",
       "    </tr>\n",
       "    <tr>\n",
       "      <th>2</th>\n",
       "      <td>IMC (kg/m2)</td>\n",
       "      <td>30,5 (4,7)</td>\n",
       "      <td>26,2 (4,4)</td>\n",
       "      <td>&lt; 0,001</td>\n",
       "    </tr>\n",
       "    <tr>\n",
       "      <th>3</th>\n",
       "      <td>PCB (cm)</td>\n",
       "      <td>102,0 (12,1)</td>\n",
       "      <td>89,7 (12,2)</td>\n",
       "      <td>&lt; 0,001</td>\n",
       "    </tr>\n",
       "    <tr>\n",
       "      <th>4</th>\n",
       "      <td>PCD (cm)</td>\n",
       "      <td>101,1 (11,9)</td>\n",
       "      <td>88,4 (12,4)</td>\n",
       "      <td>&lt; 0,001</td>\n",
       "    </tr>\n",
       "    <tr>\n",
       "      <th>5</th>\n",
       "      <td>DSA (cm)</td>\n",
       "      <td>24,4 (4,3)</td>\n",
       "      <td>20,3 (3,9)</td>\n",
       "      <td>&lt; 0,001</td>\n",
       "    </tr>\n",
       "    <tr>\n",
       "      <th>6</th>\n",
       "      <td>Edad (años)</td>\n",
       "      <td>55,6 (16,2)</td>\n",
       "      <td>49,3 (16,8)</td>\n",
       "      <td>&lt; 0,001</td>\n",
       "    </tr>\n",
       "    <tr>\n",
       "      <th>7</th>\n",
       "      <td>HTA</td>\n",
       "      <td>56,3% (n=143)</td>\n",
       "      <td>43,7% (n=111)</td>\n",
       "      <td>&lt; 0,001</td>\n",
       "    </tr>\n",
       "    <tr>\n",
       "      <th>8</th>\n",
       "      <td>cHDL (mg/dl)</td>\n",
       "      <td>56,4 (12,8)</td>\n",
       "      <td>65,4 (15,4)</td>\n",
       "      <td>&lt; 0,001</td>\n",
       "    </tr>\n",
       "    <tr>\n",
       "      <th>9</th>\n",
       "      <td>Colesterol no HDL (mg/dl)</td>\n",
       "      <td>126,6 (32,4)</td>\n",
       "      <td>112,6 (31,9)</td>\n",
       "      <td>&lt; 0,001</td>\n",
       "    </tr>\n",
       "    <tr>\n",
       "      <th>10</th>\n",
       "      <td>Triglicéridos (mg/dl)</td>\n",
       "      <td>135,0 (86,9)</td>\n",
       "      <td>100,1 (78,7)</td>\n",
       "      <td>&lt; 0,001</td>\n",
       "    </tr>\n",
       "  </tbody>\n",
       "</table>\n",
       "</div>"
      ],
      "text/plain": [
       "                            0              1              2        3\n",
       "0                                 RI (n=270)  No RI (n=408)        P\n",
       "1                   Peso (kg)    80,1 (15,6)    62,3 (13,1)  < 0,001\n",
       "2                 IMC (kg/m2)     30,5 (4,7)     26,2 (4,4)  < 0,001\n",
       "3                    PCB (cm)   102,0 (12,1)    89,7 (12,2)  < 0,001\n",
       "4                    PCD (cm)   101,1 (11,9)    88,4 (12,4)  < 0,001\n",
       "5                    DSA (cm)     24,4 (4,3)     20,3 (3,9)  < 0,001\n",
       "6                 Edad (años)    55,6 (16,2)    49,3 (16,8)  < 0,001\n",
       "7                         HTA  56,3% (n=143)  43,7% (n=111)  < 0,001\n",
       "8                cHDL (mg/dl)    56,4 (12,8)    65,4 (15,4)  < 0,001\n",
       "9   Colesterol no HDL (mg/dl)   126,6 (32,4)   112,6 (31,9)  < 0,001\n",
       "10      Triglicéridos (mg/dl)   135,0 (86,9)   100,1 (78,7)  < 0,001"
      ]
     },
     "execution_count": 92,
     "metadata": {},
     "output_type": "execute_result"
    }
   ],
   "source": [
    "df4"
   ]
  },
  {
   "cell_type": "code",
   "execution_count": 93,
   "id": "2b2445d3",
   "metadata": {},
   "outputs": [],
   "source": [
    "df4.columns = df4.iloc[0] # #Utlizo los valores de la primera fila como los nombres de las columnas.\n",
    "df4 = df4.iloc[1:] # Cambio algunos nombres de columnas por comodidad."
   ]
  },
  {
   "cell_type": "code",
   "execution_count": 94,
   "id": "c173fd94",
   "metadata": {},
   "outputs": [],
   "source": [
    "df4 = df4.reset_index(drop=True) # Restablezco el índice."
   ]
  },
  {
   "cell_type": "code",
   "execution_count": 95,
   "id": "39d57621",
   "metadata": {},
   "outputs": [
    {
     "data": {
      "text/html": [
       "<div>\n",
       "<style scoped>\n",
       "    .dataframe tbody tr th:only-of-type {\n",
       "        vertical-align: middle;\n",
       "    }\n",
       "\n",
       "    .dataframe tbody tr th {\n",
       "        vertical-align: top;\n",
       "    }\n",
       "\n",
       "    .dataframe thead th {\n",
       "        text-align: right;\n",
       "    }\n",
       "</style>\n",
       "<table border=\"1\" class=\"dataframe\">\n",
       "  <thead>\n",
       "    <tr style=\"text-align: right;\">\n",
       "      <th></th>\n",
       "      <th></th>\n",
       "      <th>RI (n=270)</th>\n",
       "      <th>No RI (n=408)</th>\n",
       "      <th>P</th>\n",
       "    </tr>\n",
       "  </thead>\n",
       "  <tbody>\n",
       "    <tr>\n",
       "      <th>0</th>\n",
       "      <td>Peso (kg)</td>\n",
       "      <td>80,1 (15,6)</td>\n",
       "      <td>62,3 (13,1)</td>\n",
       "      <td>&lt; 0,001</td>\n",
       "    </tr>\n",
       "    <tr>\n",
       "      <th>1</th>\n",
       "      <td>IMC (kg/m2)</td>\n",
       "      <td>30,5 (4,7)</td>\n",
       "      <td>26,2 (4,4)</td>\n",
       "      <td>&lt; 0,001</td>\n",
       "    </tr>\n",
       "    <tr>\n",
       "      <th>2</th>\n",
       "      <td>PCB (cm)</td>\n",
       "      <td>102,0 (12,1)</td>\n",
       "      <td>89,7 (12,2)</td>\n",
       "      <td>&lt; 0,001</td>\n",
       "    </tr>\n",
       "    <tr>\n",
       "      <th>3</th>\n",
       "      <td>PCD (cm)</td>\n",
       "      <td>101,1 (11,9)</td>\n",
       "      <td>88,4 (12,4)</td>\n",
       "      <td>&lt; 0,001</td>\n",
       "    </tr>\n",
       "    <tr>\n",
       "      <th>4</th>\n",
       "      <td>DSA (cm)</td>\n",
       "      <td>24,4 (4,3)</td>\n",
       "      <td>20,3 (3,9)</td>\n",
       "      <td>&lt; 0,001</td>\n",
       "    </tr>\n",
       "    <tr>\n",
       "      <th>5</th>\n",
       "      <td>Edad (años)</td>\n",
       "      <td>55,6 (16,2)</td>\n",
       "      <td>49,3 (16,8)</td>\n",
       "      <td>&lt; 0,001</td>\n",
       "    </tr>\n",
       "    <tr>\n",
       "      <th>6</th>\n",
       "      <td>HTA</td>\n",
       "      <td>56,3% (n=143)</td>\n",
       "      <td>43,7% (n=111)</td>\n",
       "      <td>&lt; 0,001</td>\n",
       "    </tr>\n",
       "    <tr>\n",
       "      <th>7</th>\n",
       "      <td>cHDL (mg/dl)</td>\n",
       "      <td>56,4 (12,8)</td>\n",
       "      <td>65,4 (15,4)</td>\n",
       "      <td>&lt; 0,001</td>\n",
       "    </tr>\n",
       "    <tr>\n",
       "      <th>8</th>\n",
       "      <td>Colesterol no HDL (mg/dl)</td>\n",
       "      <td>126,6 (32,4)</td>\n",
       "      <td>112,6 (31,9)</td>\n",
       "      <td>&lt; 0,001</td>\n",
       "    </tr>\n",
       "    <tr>\n",
       "      <th>9</th>\n",
       "      <td>Triglicéridos (mg/dl)</td>\n",
       "      <td>135,0 (86,9)</td>\n",
       "      <td>100,1 (78,7)</td>\n",
       "      <td>&lt; 0,001</td>\n",
       "    </tr>\n",
       "  </tbody>\n",
       "</table>\n",
       "</div>"
      ],
      "text/plain": [
       "0                                RI (n=270)  No RI (n=408)        P\n",
       "0                  Peso (kg)    80,1 (15,6)    62,3 (13,1)  < 0,001\n",
       "1                IMC (kg/m2)     30,5 (4,7)     26,2 (4,4)  < 0,001\n",
       "2                   PCB (cm)   102,0 (12,1)    89,7 (12,2)  < 0,001\n",
       "3                   PCD (cm)   101,1 (11,9)    88,4 (12,4)  < 0,001\n",
       "4                   DSA (cm)     24,4 (4,3)     20,3 (3,9)  < 0,001\n",
       "5                Edad (años)    55,6 (16,2)    49,3 (16,8)  < 0,001\n",
       "6                        HTA  56,3% (n=143)  43,7% (n=111)  < 0,001\n",
       "7               cHDL (mg/dl)    56,4 (12,8)    65,4 (15,4)  < 0,001\n",
       "8  Colesterol no HDL (mg/dl)   126,6 (32,4)   112,6 (31,9)  < 0,001\n",
       "9      Triglicéridos (mg/dl)   135,0 (86,9)   100,1 (78,7)  < 0,001"
      ]
     },
     "execution_count": 95,
     "metadata": {},
     "output_type": "execute_result"
    }
   ],
   "source": [
    "df4"
   ]
  },
  {
   "cell_type": "code",
   "execution_count": 96,
   "id": "1b4021e8",
   "metadata": {},
   "outputs": [
    {
     "data": {
      "text/plain": [
       "(10, 4)"
      ]
     },
     "execution_count": 96,
     "metadata": {},
     "output_type": "execute_result"
    }
   ],
   "source": [
    "df4.shape"
   ]
  },
  {
   "cell_type": "code",
   "execution_count": 97,
   "id": "7c9a8e65",
   "metadata": {},
   "outputs": [
    {
     "name": "stdout",
     "output_type": "stream",
     "text": [
      "<class 'pandas.core.frame.DataFrame'>\n",
      "RangeIndex: 10 entries, 0 to 9\n",
      "Data columns (total 4 columns):\n",
      " #   Column         Non-Null Count  Dtype \n",
      "---  ------         --------------  ----- \n",
      " 0                  10 non-null     object\n",
      " 1   RI (n=270)     10 non-null     object\n",
      " 2   No RI (n=408)  10 non-null     object\n",
      " 3   P              10 non-null     object\n",
      "dtypes: object(4)\n",
      "memory usage: 452.0+ bytes\n"
     ]
    }
   ],
   "source": [
    "df4.info()"
   ]
  },
  {
   "cell_type": "code",
   "execution_count": 98,
   "id": "d2288119",
   "metadata": {},
   "outputs": [],
   "source": [
    "indices_eliminar4 = [2, 3, 4, 6, 9] # Voy a eliminar en primer lugar las filas que no me interesan"
   ]
  },
  {
   "cell_type": "code",
   "execution_count": 99,
   "id": "f28b7678",
   "metadata": {},
   "outputs": [],
   "source": [
    "df4 = df4.drop(indices_eliminar4, axis=0)"
   ]
  },
  {
   "cell_type": "code",
   "execution_count": 100,
   "id": "6f60a6fa",
   "metadata": {},
   "outputs": [
    {
     "data": {
      "text/html": [
       "<div>\n",
       "<style scoped>\n",
       "    .dataframe tbody tr th:only-of-type {\n",
       "        vertical-align: middle;\n",
       "    }\n",
       "\n",
       "    .dataframe tbody tr th {\n",
       "        vertical-align: top;\n",
       "    }\n",
       "\n",
       "    .dataframe thead th {\n",
       "        text-align: right;\n",
       "    }\n",
       "</style>\n",
       "<table border=\"1\" class=\"dataframe\">\n",
       "  <thead>\n",
       "    <tr style=\"text-align: right;\">\n",
       "      <th></th>\n",
       "      <th></th>\n",
       "      <th>RI (n=270)</th>\n",
       "      <th>No RI (n=408)</th>\n",
       "      <th>P</th>\n",
       "    </tr>\n",
       "  </thead>\n",
       "  <tbody>\n",
       "    <tr>\n",
       "      <th>0</th>\n",
       "      <td>Peso (kg)</td>\n",
       "      <td>80,1 (15,6)</td>\n",
       "      <td>62,3 (13,1)</td>\n",
       "      <td>&lt; 0,001</td>\n",
       "    </tr>\n",
       "    <tr>\n",
       "      <th>1</th>\n",
       "      <td>IMC (kg/m2)</td>\n",
       "      <td>30,5 (4,7)</td>\n",
       "      <td>26,2 (4,4)</td>\n",
       "      <td>&lt; 0,001</td>\n",
       "    </tr>\n",
       "    <tr>\n",
       "      <th>5</th>\n",
       "      <td>Edad (años)</td>\n",
       "      <td>55,6 (16,2)</td>\n",
       "      <td>49,3 (16,8)</td>\n",
       "      <td>&lt; 0,001</td>\n",
       "    </tr>\n",
       "    <tr>\n",
       "      <th>7</th>\n",
       "      <td>cHDL (mg/dl)</td>\n",
       "      <td>56,4 (12,8)</td>\n",
       "      <td>65,4 (15,4)</td>\n",
       "      <td>&lt; 0,001</td>\n",
       "    </tr>\n",
       "    <tr>\n",
       "      <th>8</th>\n",
       "      <td>Colesterol no HDL (mg/dl)</td>\n",
       "      <td>126,6 (32,4)</td>\n",
       "      <td>112,6 (31,9)</td>\n",
       "      <td>&lt; 0,001</td>\n",
       "    </tr>\n",
       "  </tbody>\n",
       "</table>\n",
       "</div>"
      ],
      "text/plain": [
       "0                               RI (n=270) No RI (n=408)        P\n",
       "0                  Peso (kg)   80,1 (15,6)   62,3 (13,1)  < 0,001\n",
       "1                IMC (kg/m2)    30,5 (4,7)    26,2 (4,4)  < 0,001\n",
       "5                Edad (años)   55,6 (16,2)   49,3 (16,8)  < 0,001\n",
       "7               cHDL (mg/dl)   56,4 (12,8)   65,4 (15,4)  < 0,001\n",
       "8  Colesterol no HDL (mg/dl)  126,6 (32,4)  112,6 (31,9)  < 0,001"
      ]
     },
     "execution_count": 100,
     "metadata": {},
     "output_type": "execute_result"
    }
   ],
   "source": [
    "df4"
   ]
  },
  {
   "cell_type": "code",
   "execution_count": 101,
   "id": "0417cc75",
   "metadata": {},
   "outputs": [],
   "source": [
    "df4 = df4.replace(r'\\(.*\\)', '', regex=True) # Elimino aquí todo el contenido entre paréntesis."
   ]
  },
  {
   "cell_type": "code",
   "execution_count": 102,
   "id": "40f51c46",
   "metadata": {},
   "outputs": [
    {
     "data": {
      "text/html": [
       "<div>\n",
       "<style scoped>\n",
       "    .dataframe tbody tr th:only-of-type {\n",
       "        vertical-align: middle;\n",
       "    }\n",
       "\n",
       "    .dataframe tbody tr th {\n",
       "        vertical-align: top;\n",
       "    }\n",
       "\n",
       "    .dataframe thead th {\n",
       "        text-align: right;\n",
       "    }\n",
       "</style>\n",
       "<table border=\"1\" class=\"dataframe\">\n",
       "  <thead>\n",
       "    <tr style=\"text-align: right;\">\n",
       "      <th></th>\n",
       "      <th></th>\n",
       "      <th>RI (n=270)</th>\n",
       "      <th>No RI (n=408)</th>\n",
       "      <th>P</th>\n",
       "    </tr>\n",
       "  </thead>\n",
       "  <tbody>\n",
       "    <tr>\n",
       "      <th>0</th>\n",
       "      <td>Peso</td>\n",
       "      <td>80,1</td>\n",
       "      <td>62,3</td>\n",
       "      <td>&lt; 0,001</td>\n",
       "    </tr>\n",
       "    <tr>\n",
       "      <th>1</th>\n",
       "      <td>IMC</td>\n",
       "      <td>30,5</td>\n",
       "      <td>26,2</td>\n",
       "      <td>&lt; 0,001</td>\n",
       "    </tr>\n",
       "    <tr>\n",
       "      <th>5</th>\n",
       "      <td>Edad</td>\n",
       "      <td>55,6</td>\n",
       "      <td>49,3</td>\n",
       "      <td>&lt; 0,001</td>\n",
       "    </tr>\n",
       "    <tr>\n",
       "      <th>7</th>\n",
       "      <td>cHDL</td>\n",
       "      <td>56,4</td>\n",
       "      <td>65,4</td>\n",
       "      <td>&lt; 0,001</td>\n",
       "    </tr>\n",
       "    <tr>\n",
       "      <th>8</th>\n",
       "      <td>Colesterol no HDL</td>\n",
       "      <td>126,6</td>\n",
       "      <td>112,6</td>\n",
       "      <td>&lt; 0,001</td>\n",
       "    </tr>\n",
       "  </tbody>\n",
       "</table>\n",
       "</div>"
      ],
      "text/plain": [
       "0                     RI (n=270) No RI (n=408)        P\n",
       "0               Peso       80,1          62,3   < 0,001\n",
       "1                IMC       30,5          26,2   < 0,001\n",
       "5               Edad       55,6          49,3   < 0,001\n",
       "7               cHDL       56,4          65,4   < 0,001\n",
       "8  Colesterol no HDL      126,6         112,6   < 0,001"
      ]
     },
     "execution_count": 102,
     "metadata": {},
     "output_type": "execute_result"
    }
   ],
   "source": [
    "df4"
   ]
  },
  {
   "cell_type": "code",
   "execution_count": 103,
   "id": "1feda3e1",
   "metadata": {},
   "outputs": [],
   "source": [
    "df4 = df4.rename(columns={\"\": 'indicadores'})\n",
    "df4 = df4.rename(columns={\"RI (n=270)\": 'RI'}) #le cambio el nombre de la columna por comodidad.\n",
    "df4 = df4.rename(columns={\"No RI (n=408)\": 'no_RI'})\n",
    "df4 = df4.rename(columns={\"P\": 'p'})\n"
   ]
  },
  {
   "cell_type": "code",
   "execution_count": 104,
   "id": "53b7d78b",
   "metadata": {},
   "outputs": [],
   "source": [
    "df4['indicadores'] = df4['indicadores'].replace({\n",
    "    'Peso ': 'peso',\n",
    "    'Edad ': 'edad',\n",
    "    'cHDL ': 'colesterol_HDL',\n",
    "    'Colesterol no HDL ': 'colesterol_no_HDL'\n",
    "    })"
   ]
  },
  {
   "cell_type": "code",
   "execution_count": 105,
   "id": "ec7a18ad",
   "metadata": {},
   "outputs": [
    {
     "data": {
      "text/html": [
       "<div>\n",
       "<style scoped>\n",
       "    .dataframe tbody tr th:only-of-type {\n",
       "        vertical-align: middle;\n",
       "    }\n",
       "\n",
       "    .dataframe tbody tr th {\n",
       "        vertical-align: top;\n",
       "    }\n",
       "\n",
       "    .dataframe thead th {\n",
       "        text-align: right;\n",
       "    }\n",
       "</style>\n",
       "<table border=\"1\" class=\"dataframe\">\n",
       "  <thead>\n",
       "    <tr style=\"text-align: right;\">\n",
       "      <th></th>\n",
       "      <th>indicadores</th>\n",
       "      <th>RI</th>\n",
       "      <th>no_RI</th>\n",
       "      <th>p</th>\n",
       "    </tr>\n",
       "  </thead>\n",
       "  <tbody>\n",
       "    <tr>\n",
       "      <th>0</th>\n",
       "      <td>peso</td>\n",
       "      <td>80,1</td>\n",
       "      <td>62,3</td>\n",
       "      <td>&lt; 0,001</td>\n",
       "    </tr>\n",
       "    <tr>\n",
       "      <th>1</th>\n",
       "      <td>IMC</td>\n",
       "      <td>30,5</td>\n",
       "      <td>26,2</td>\n",
       "      <td>&lt; 0,001</td>\n",
       "    </tr>\n",
       "    <tr>\n",
       "      <th>5</th>\n",
       "      <td>edad</td>\n",
       "      <td>55,6</td>\n",
       "      <td>49,3</td>\n",
       "      <td>&lt; 0,001</td>\n",
       "    </tr>\n",
       "    <tr>\n",
       "      <th>7</th>\n",
       "      <td>colesterol_HDL</td>\n",
       "      <td>56,4</td>\n",
       "      <td>65,4</td>\n",
       "      <td>&lt; 0,001</td>\n",
       "    </tr>\n",
       "    <tr>\n",
       "      <th>8</th>\n",
       "      <td>colesterol_no_HDL</td>\n",
       "      <td>126,6</td>\n",
       "      <td>112,6</td>\n",
       "      <td>&lt; 0,001</td>\n",
       "    </tr>\n",
       "  </tbody>\n",
       "</table>\n",
       "</div>"
      ],
      "text/plain": [
       "0        indicadores      RI   no_RI        p\n",
       "0               peso   80,1    62,3   < 0,001\n",
       "1               IMC    30,5    26,2   < 0,001\n",
       "5               edad   55,6    49,3   < 0,001\n",
       "7     colesterol_HDL   56,4    65,4   < 0,001\n",
       "8  colesterol_no_HDL  126,6   112,6   < 0,001"
      ]
     },
     "execution_count": 105,
     "metadata": {},
     "output_type": "execute_result"
    }
   ],
   "source": [
    "df4"
   ]
  },
  {
   "cell_type": "markdown",
   "id": "d9f75835",
   "metadata": {},
   "source": [
    "Para informar al lector y a cualquiera que no esté muy familiarizado con términos médicos, el colesterol HDL se conoce comúnmente como el 'colesterol bueno' porque ayuda a eliminar el exceso de colesterol de las arterias, reduciendo así el riesgo de enfermedades cardíacas. Por otro lado, el 'colesterol no HDL' es una medida que incluye todo el colesterol que no es HDL y generalmente se considera un indicador del 'colesterol malo' o dañino para la salud cardíaca. Esta distinción es útil para evaluar el riesgo de enfermedades cardiovasculares."
   ]
  },
  {
   "cell_type": "code",
   "execution_count": 106,
   "id": "0bf18c85",
   "metadata": {},
   "outputs": [],
   "source": [
    "df4['RI'] = pd.to_numeric(df4['RI'].str.replace(',', '.'))\n",
    "df4['RI'] = df4['RI'].astype('float64')"
   ]
  },
  {
   "cell_type": "code",
   "execution_count": 107,
   "id": "a5159395",
   "metadata": {},
   "outputs": [],
   "source": [
    "df4['no_RI'] = pd.to_numeric(df4['no_RI'].str.replace(',', '.')) #Para estudios posteriores, igual que en los casos anteriores, convierto estas dos columnas a tipo float.\n",
    "df4['no_RI'] = df4['no_RI'].astype('float64')"
   ]
  },
  {
   "cell_type": "code",
   "execution_count": 108,
   "id": "a4d50928",
   "metadata": {},
   "outputs": [],
   "source": [
    "df4 = df4.reset_index(drop=True) #Restablezco de nuevo el índice."
   ]
  },
  {
   "cell_type": "code",
   "execution_count": 109,
   "id": "3c9fd2c0",
   "metadata": {},
   "outputs": [
    {
     "data": {
      "text/html": [
       "<div>\n",
       "<style scoped>\n",
       "    .dataframe tbody tr th:only-of-type {\n",
       "        vertical-align: middle;\n",
       "    }\n",
       "\n",
       "    .dataframe tbody tr th {\n",
       "        vertical-align: top;\n",
       "    }\n",
       "\n",
       "    .dataframe thead th {\n",
       "        text-align: right;\n",
       "    }\n",
       "</style>\n",
       "<table border=\"1\" class=\"dataframe\">\n",
       "  <thead>\n",
       "    <tr style=\"text-align: right;\">\n",
       "      <th></th>\n",
       "      <th>indicadores</th>\n",
       "      <th>RI</th>\n",
       "      <th>no_RI</th>\n",
       "      <th>p</th>\n",
       "    </tr>\n",
       "  </thead>\n",
       "  <tbody>\n",
       "    <tr>\n",
       "      <th>0</th>\n",
       "      <td>peso</td>\n",
       "      <td>80.1</td>\n",
       "      <td>62.3</td>\n",
       "      <td>&lt; 0,001</td>\n",
       "    </tr>\n",
       "    <tr>\n",
       "      <th>1</th>\n",
       "      <td>IMC</td>\n",
       "      <td>30.5</td>\n",
       "      <td>26.2</td>\n",
       "      <td>&lt; 0,001</td>\n",
       "    </tr>\n",
       "    <tr>\n",
       "      <th>2</th>\n",
       "      <td>edad</td>\n",
       "      <td>55.6</td>\n",
       "      <td>49.3</td>\n",
       "      <td>&lt; 0,001</td>\n",
       "    </tr>\n",
       "    <tr>\n",
       "      <th>3</th>\n",
       "      <td>colesterol_HDL</td>\n",
       "      <td>56.4</td>\n",
       "      <td>65.4</td>\n",
       "      <td>&lt; 0,001</td>\n",
       "    </tr>\n",
       "    <tr>\n",
       "      <th>4</th>\n",
       "      <td>colesterol_no_HDL</td>\n",
       "      <td>126.6</td>\n",
       "      <td>112.6</td>\n",
       "      <td>&lt; 0,001</td>\n",
       "    </tr>\n",
       "  </tbody>\n",
       "</table>\n",
       "</div>"
      ],
      "text/plain": [
       "0        indicadores     RI  no_RI        p\n",
       "0               peso   80.1   62.3  < 0,001\n",
       "1               IMC    30.5   26.2  < 0,001\n",
       "2               edad   55.6   49.3  < 0,001\n",
       "3     colesterol_HDL   56.4   65.4  < 0,001\n",
       "4  colesterol_no_HDL  126.6  112.6  < 0,001"
      ]
     },
     "execution_count": 109,
     "metadata": {},
     "output_type": "execute_result"
    }
   ],
   "source": [
    "df4"
   ]
  },
  {
   "cell_type": "markdown",
   "id": "c9a1e698",
   "metadata": {},
   "source": [
    "# 3.3. Tabla 3."
   ]
  },
  {
   "cell_type": "code",
   "execution_count": 110,
   "id": "c7e400dc",
   "metadata": {},
   "outputs": [],
   "source": [
    "for elem in elements[4:5]:\n",
    "    table = elem.find('table')\n",
    "    table_rows = table.find_all('tr')\n",
    "    data = []\n",
    "\n",
    "    for tr in table_rows:\n",
    "        row = tr.find_all(['td', 'th'])\n",
    "        clean_row = [e.text.strip() for e in row]\n",
    "        data.append(clean_row)\n",
    "\n",
    "    df5 = pd.DataFrame(data)"
   ]
  },
  {
   "cell_type": "code",
   "execution_count": 111,
   "id": "d0cf463a",
   "metadata": {},
   "outputs": [
    {
     "data": {
      "text/html": [
       "<div>\n",
       "<style scoped>\n",
       "    .dataframe tbody tr th:only-of-type {\n",
       "        vertical-align: middle;\n",
       "    }\n",
       "\n",
       "    .dataframe tbody tr th {\n",
       "        vertical-align: top;\n",
       "    }\n",
       "\n",
       "    .dataframe thead th {\n",
       "        text-align: right;\n",
       "    }\n",
       "</style>\n",
       "<table border=\"1\" class=\"dataframe\">\n",
       "  <thead>\n",
       "    <tr style=\"text-align: right;\">\n",
       "      <th></th>\n",
       "      <th>0</th>\n",
       "      <th>1</th>\n",
       "      <th>2</th>\n",
       "    </tr>\n",
       "  </thead>\n",
       "  <tbody>\n",
       "    <tr>\n",
       "      <th>0</th>\n",
       "      <td></td>\n",
       "      <td>Coeficiente de correlación</td>\n",
       "      <td>P</td>\n",
       "    </tr>\n",
       "    <tr>\n",
       "      <th>1</th>\n",
       "      <td>Peso</td>\n",
       "      <td>0,421</td>\n",
       "      <td>&lt;0,001</td>\n",
       "    </tr>\n",
       "    <tr>\n",
       "      <th>2</th>\n",
       "      <td>IMC</td>\n",
       "      <td>0,447</td>\n",
       "      <td>&lt;0,001</td>\n",
       "    </tr>\n",
       "    <tr>\n",
       "      <th>3</th>\n",
       "      <td>PCB</td>\n",
       "      <td>0,451</td>\n",
       "      <td>&lt;0,001</td>\n",
       "    </tr>\n",
       "    <tr>\n",
       "      <th>4</th>\n",
       "      <td>PCD</td>\n",
       "      <td>0,458</td>\n",
       "      <td>&lt;0,001</td>\n",
       "    </tr>\n",
       "    <tr>\n",
       "      <th>5</th>\n",
       "      <td>DSA</td>\n",
       "      <td>0,474</td>\n",
       "      <td>&lt;0,001</td>\n",
       "    </tr>\n",
       "  </tbody>\n",
       "</table>\n",
       "</div>"
      ],
      "text/plain": [
       "      0                           1       2\n",
       "0        Coeficiente de correlación       P\n",
       "1  Peso                       0,421  <0,001\n",
       "2   IMC                       0,447  <0,001\n",
       "3   PCB                       0,451  <0,001\n",
       "4   PCD                       0,458  <0,001\n",
       "5   DSA                       0,474  <0,001"
      ]
     },
     "execution_count": 111,
     "metadata": {},
     "output_type": "execute_result"
    }
   ],
   "source": [
    "df5"
   ]
  },
  {
   "cell_type": "code",
   "execution_count": 112,
   "id": "cf9cd300",
   "metadata": {},
   "outputs": [],
   "source": [
    "df5.columns = df5.iloc[0] # #Utlizo los valores de la primera fila como los nombres de las columnas.\n",
    "df5 = df5.iloc[1:] # Cambio algunos nombres de columnas por comodidad."
   ]
  },
  {
   "cell_type": "code",
   "execution_count": 113,
   "id": "d64b93c9",
   "metadata": {},
   "outputs": [],
   "source": [
    "df5 = df5.reset_index(drop=True) #Restablezco el índice."
   ]
  },
  {
   "cell_type": "code",
   "execution_count": 114,
   "id": "81bdbe42",
   "metadata": {},
   "outputs": [
    {
     "data": {
      "text/html": [
       "<div>\n",
       "<style scoped>\n",
       "    .dataframe tbody tr th:only-of-type {\n",
       "        vertical-align: middle;\n",
       "    }\n",
       "\n",
       "    .dataframe tbody tr th {\n",
       "        vertical-align: top;\n",
       "    }\n",
       "\n",
       "    .dataframe thead th {\n",
       "        text-align: right;\n",
       "    }\n",
       "</style>\n",
       "<table border=\"1\" class=\"dataframe\">\n",
       "  <thead>\n",
       "    <tr style=\"text-align: right;\">\n",
       "      <th></th>\n",
       "      <th></th>\n",
       "      <th>Coeficiente de correlación</th>\n",
       "      <th>P</th>\n",
       "    </tr>\n",
       "  </thead>\n",
       "  <tbody>\n",
       "    <tr>\n",
       "      <th>0</th>\n",
       "      <td>Peso</td>\n",
       "      <td>0,421</td>\n",
       "      <td>&lt;0,001</td>\n",
       "    </tr>\n",
       "    <tr>\n",
       "      <th>1</th>\n",
       "      <td>IMC</td>\n",
       "      <td>0,447</td>\n",
       "      <td>&lt;0,001</td>\n",
       "    </tr>\n",
       "    <tr>\n",
       "      <th>2</th>\n",
       "      <td>PCB</td>\n",
       "      <td>0,451</td>\n",
       "      <td>&lt;0,001</td>\n",
       "    </tr>\n",
       "    <tr>\n",
       "      <th>3</th>\n",
       "      <td>PCD</td>\n",
       "      <td>0,458</td>\n",
       "      <td>&lt;0,001</td>\n",
       "    </tr>\n",
       "    <tr>\n",
       "      <th>4</th>\n",
       "      <td>DSA</td>\n",
       "      <td>0,474</td>\n",
       "      <td>&lt;0,001</td>\n",
       "    </tr>\n",
       "  </tbody>\n",
       "</table>\n",
       "</div>"
      ],
      "text/plain": [
       "0       Coeficiente de correlación       P\n",
       "0  Peso                      0,421  <0,001\n",
       "1   IMC                      0,447  <0,001\n",
       "2   PCB                      0,451  <0,001\n",
       "3   PCD                      0,458  <0,001\n",
       "4   DSA                      0,474  <0,001"
      ]
     },
     "execution_count": 114,
     "metadata": {},
     "output_type": "execute_result"
    }
   ],
   "source": [
    "df5"
   ]
  },
  {
   "cell_type": "code",
   "execution_count": 115,
   "id": "bba9c784",
   "metadata": {},
   "outputs": [
    {
     "data": {
      "text/plain": [
       "(5, 3)"
      ]
     },
     "execution_count": 115,
     "metadata": {},
     "output_type": "execute_result"
    }
   ],
   "source": [
    "df5.shape"
   ]
  },
  {
   "cell_type": "code",
   "execution_count": 116,
   "id": "a4f13049",
   "metadata": {},
   "outputs": [
    {
     "name": "stdout",
     "output_type": "stream",
     "text": [
      "<class 'pandas.core.frame.DataFrame'>\n",
      "RangeIndex: 5 entries, 0 to 4\n",
      "Data columns (total 3 columns):\n",
      " #   Column                      Non-Null Count  Dtype \n",
      "---  ------                      --------------  ----- \n",
      " 0                               5 non-null      object\n",
      " 1   Coeficiente de correlación  5 non-null      object\n",
      " 2   P                           5 non-null      object\n",
      "dtypes: object(3)\n",
      "memory usage: 252.0+ bytes\n"
     ]
    }
   ],
   "source": [
    "df5.info()"
   ]
  },
  {
   "cell_type": "code",
   "execution_count": 117,
   "id": "dff837d4",
   "metadata": {},
   "outputs": [],
   "source": [
    "indices_eliminar5 = [2, 3, 4] # Elimino en primer lugar las filas que no me interesan."
   ]
  },
  {
   "cell_type": "code",
   "execution_count": 118,
   "id": "7517caa7",
   "metadata": {},
   "outputs": [],
   "source": [
    "df5 = df5.drop(indices_eliminar5, axis=0)"
   ]
  },
  {
   "cell_type": "code",
   "execution_count": 119,
   "id": "679c6978",
   "metadata": {},
   "outputs": [],
   "source": [
    "df5.columns = df5.columns.str.lower() # Cambio todos los nombres de columnas a minuscula."
   ]
  },
  {
   "cell_type": "code",
   "execution_count": 120,
   "id": "85002d5d",
   "metadata": {},
   "outputs": [],
   "source": [
    "df5 = df5.rename(columns={\"coeficiente de correlación\": 'coeficiente_correlación'}) # Le cambio el nombre a esta columna en concreto."
   ]
  },
  {
   "cell_type": "code",
   "execution_count": 121,
   "id": "8bf27c0c",
   "metadata": {},
   "outputs": [],
   "source": [
    "df5['coeficiente_correlación'] = pd.to_numeric(df5['coeficiente_correlación'].str.replace(',', '.')) # Y convierto esta columna en tipo float para el estudio posterior.\n",
    "df5['coeficiente_correlación'] = df5['coeficiente_correlación'].astype('float64')"
   ]
  },
  {
   "cell_type": "code",
   "execution_count": 122,
   "id": "4593c548",
   "metadata": {},
   "outputs": [
    {
     "data": {
      "text/html": [
       "<div>\n",
       "<style scoped>\n",
       "    .dataframe tbody tr th:only-of-type {\n",
       "        vertical-align: middle;\n",
       "    }\n",
       "\n",
       "    .dataframe tbody tr th {\n",
       "        vertical-align: top;\n",
       "    }\n",
       "\n",
       "    .dataframe thead th {\n",
       "        text-align: right;\n",
       "    }\n",
       "</style>\n",
       "<table border=\"1\" class=\"dataframe\">\n",
       "  <thead>\n",
       "    <tr style=\"text-align: right;\">\n",
       "      <th></th>\n",
       "      <th></th>\n",
       "      <th>coeficiente_correlación</th>\n",
       "      <th>p</th>\n",
       "    </tr>\n",
       "  </thead>\n",
       "  <tbody>\n",
       "    <tr>\n",
       "      <th>0</th>\n",
       "      <td>Peso</td>\n",
       "      <td>0.421</td>\n",
       "      <td>&lt;0,001</td>\n",
       "    </tr>\n",
       "    <tr>\n",
       "      <th>1</th>\n",
       "      <td>IMC</td>\n",
       "      <td>0.447</td>\n",
       "      <td>&lt;0,001</td>\n",
       "    </tr>\n",
       "  </tbody>\n",
       "</table>\n",
       "</div>"
      ],
      "text/plain": [
       "0        coeficiente_correlación       p\n",
       "0  Peso                    0.421  <0,001\n",
       "1   IMC                    0.447  <0,001"
      ]
     },
     "execution_count": 122,
     "metadata": {},
     "output_type": "execute_result"
    }
   ],
   "source": [
    "df5"
   ]
  },
  {
   "cell_type": "markdown",
   "id": "f861518d",
   "metadata": {},
   "source": [
    "# 4. DataFrames Resultantes."
   ]
  },
  {
   "cell_type": "code",
   "execution_count": 123,
   "id": "fe68b17c",
   "metadata": {},
   "outputs": [
    {
     "data": {
      "text/html": [
       "<div>\n",
       "<style scoped>\n",
       "    .dataframe tbody tr th:only-of-type {\n",
       "        vertical-align: middle;\n",
       "    }\n",
       "\n",
       "    .dataframe tbody tr th {\n",
       "        vertical-align: top;\n",
       "    }\n",
       "\n",
       "    .dataframe thead th {\n",
       "        text-align: right;\n",
       "    }\n",
       "</style>\n",
       "<table border=\"1\" class=\"dataframe\">\n",
       "  <thead>\n",
       "    <tr style=\"text-align: right;\">\n",
       "      <th></th>\n",
       "      <th>sexo</th>\n",
       "      <th>edad</th>\n",
       "      <th>estudios</th>\n",
       "      <th>clase_social</th>\n",
       "      <th>ejercicio</th>\n",
       "      <th>dieta_mediterranea</th>\n",
       "      <th>consumo_tabaco</th>\n",
       "      <th>altura</th>\n",
       "      <th>peso</th>\n",
       "      <th>imc</th>\n",
       "      <th>colesterol</th>\n",
       "      <th>ct</th>\n",
       "      <th>glucemia</th>\n",
       "      <th>gluc</th>\n",
       "    </tr>\n",
       "  </thead>\n",
       "  <tbody>\n",
       "    <tr>\n",
       "      <th>0</th>\n",
       "      <td>mujer</td>\n",
       "      <td>57</td>\n",
       "      <td>secundarios</td>\n",
       "      <td>III</td>\n",
       "      <td>si</td>\n",
       "      <td>no</td>\n",
       "      <td>no</td>\n",
       "      <td>166.0</td>\n",
       "      <td>62.0</td>\n",
       "      <td>22.5</td>\n",
       "      <td>185</td>\n",
       "      <td>normal</td>\n",
       "      <td>84</td>\n",
       "      <td>normal</td>\n",
       "    </tr>\n",
       "    <tr>\n",
       "      <th>1</th>\n",
       "      <td>hombre</td>\n",
       "      <td>28</td>\n",
       "      <td>primarios</td>\n",
       "      <td>III</td>\n",
       "      <td>si</td>\n",
       "      <td>si</td>\n",
       "      <td>no</td>\n",
       "      <td>181.5</td>\n",
       "      <td>82.0</td>\n",
       "      <td>24.9</td>\n",
       "      <td>197</td>\n",
       "      <td>normal</td>\n",
       "      <td>62</td>\n",
       "      <td>normal</td>\n",
       "    </tr>\n",
       "    <tr>\n",
       "      <th>2</th>\n",
       "      <td>hombre</td>\n",
       "      <td>25</td>\n",
       "      <td>universitarios</td>\n",
       "      <td>I</td>\n",
       "      <td>no</td>\n",
       "      <td>no</td>\n",
       "      <td>no</td>\n",
       "      <td>177.0</td>\n",
       "      <td>69.0</td>\n",
       "      <td>22.0</td>\n",
       "      <td>229</td>\n",
       "      <td>limitrofe</td>\n",
       "      <td>83</td>\n",
       "      <td>normal</td>\n",
       "    </tr>\n",
       "    <tr>\n",
       "      <th>3</th>\n",
       "      <td>hombre</td>\n",
       "      <td>50</td>\n",
       "      <td>secundarios</td>\n",
       "      <td>III</td>\n",
       "      <td>no</td>\n",
       "      <td>no</td>\n",
       "      <td>si</td>\n",
       "      <td>171.0</td>\n",
       "      <td>86.0</td>\n",
       "      <td>29.4</td>\n",
       "      <td>272</td>\n",
       "      <td>alto</td>\n",
       "      <td>110</td>\n",
       "      <td>prediabetes</td>\n",
       "    </tr>\n",
       "    <tr>\n",
       "      <th>4</th>\n",
       "      <td>mujer</td>\n",
       "      <td>33</td>\n",
       "      <td>secundarios</td>\n",
       "      <td>II</td>\n",
       "      <td>si</td>\n",
       "      <td>no</td>\n",
       "      <td>no</td>\n",
       "      <td>154.0</td>\n",
       "      <td>45.0</td>\n",
       "      <td>19.0</td>\n",
       "      <td>191</td>\n",
       "      <td>normal</td>\n",
       "      <td>81</td>\n",
       "      <td>normal</td>\n",
       "    </tr>\n",
       "    <tr>\n",
       "      <th>...</th>\n",
       "      <td>...</td>\n",
       "      <td>...</td>\n",
       "      <td>...</td>\n",
       "      <td>...</td>\n",
       "      <td>...</td>\n",
       "      <td>...</td>\n",
       "      <td>...</td>\n",
       "      <td>...</td>\n",
       "      <td>...</td>\n",
       "      <td>...</td>\n",
       "      <td>...</td>\n",
       "      <td>...</td>\n",
       "      <td>...</td>\n",
       "      <td>...</td>\n",
       "    </tr>\n",
       "    <tr>\n",
       "      <th>48361</th>\n",
       "      <td>hombre</td>\n",
       "      <td>31</td>\n",
       "      <td>secundarios</td>\n",
       "      <td>II</td>\n",
       "      <td>si</td>\n",
       "      <td>si</td>\n",
       "      <td>no</td>\n",
       "      <td>186.0</td>\n",
       "      <td>89.5</td>\n",
       "      <td>25.9</td>\n",
       "      <td>148</td>\n",
       "      <td>normal</td>\n",
       "      <td>88</td>\n",
       "      <td>normal</td>\n",
       "    </tr>\n",
       "    <tr>\n",
       "      <th>48362</th>\n",
       "      <td>mujer</td>\n",
       "      <td>31</td>\n",
       "      <td>primarios</td>\n",
       "      <td>III</td>\n",
       "      <td>si</td>\n",
       "      <td>si</td>\n",
       "      <td>no</td>\n",
       "      <td>161.0</td>\n",
       "      <td>64.0</td>\n",
       "      <td>24.7</td>\n",
       "      <td>207</td>\n",
       "      <td>limitrofe</td>\n",
       "      <td>83</td>\n",
       "      <td>normal</td>\n",
       "    </tr>\n",
       "    <tr>\n",
       "      <th>48363</th>\n",
       "      <td>mujer</td>\n",
       "      <td>41</td>\n",
       "      <td>secundarios</td>\n",
       "      <td>I</td>\n",
       "      <td>si</td>\n",
       "      <td>si</td>\n",
       "      <td>no</td>\n",
       "      <td>165.0</td>\n",
       "      <td>68.0</td>\n",
       "      <td>25.0</td>\n",
       "      <td>177</td>\n",
       "      <td>normal</td>\n",
       "      <td>68</td>\n",
       "      <td>normal</td>\n",
       "    </tr>\n",
       "    <tr>\n",
       "      <th>48364</th>\n",
       "      <td>hombre</td>\n",
       "      <td>36</td>\n",
       "      <td>secundarios</td>\n",
       "      <td>I</td>\n",
       "      <td>no</td>\n",
       "      <td>no</td>\n",
       "      <td>no</td>\n",
       "      <td>173.0</td>\n",
       "      <td>77.0</td>\n",
       "      <td>25.7</td>\n",
       "      <td>244</td>\n",
       "      <td>alto</td>\n",
       "      <td>76</td>\n",
       "      <td>normal</td>\n",
       "    </tr>\n",
       "    <tr>\n",
       "      <th>48365</th>\n",
       "      <td>hombre</td>\n",
       "      <td>42</td>\n",
       "      <td>primarios</td>\n",
       "      <td>III</td>\n",
       "      <td>si</td>\n",
       "      <td>si</td>\n",
       "      <td>no</td>\n",
       "      <td>177.3</td>\n",
       "      <td>83.0</td>\n",
       "      <td>26.4</td>\n",
       "      <td>198</td>\n",
       "      <td>normal</td>\n",
       "      <td>86</td>\n",
       "      <td>normal</td>\n",
       "    </tr>\n",
       "  </tbody>\n",
       "</table>\n",
       "<p>48358 rows × 14 columns</p>\n",
       "</div>"
      ],
      "text/plain": [
       "         sexo  edad        estudios clase_social ejercicio dieta_mediterranea  \\\n",
       "0       mujer    57     secundarios          III        si                 no   \n",
       "1      hombre    28       primarios          III        si                 si   \n",
       "2      hombre    25  universitarios            I        no                 no   \n",
       "3      hombre    50     secundarios          III        no                 no   \n",
       "4       mujer    33     secundarios           II        si                 no   \n",
       "...       ...   ...             ...          ...       ...                ...   \n",
       "48361  hombre    31     secundarios           II        si                 si   \n",
       "48362   mujer    31       primarios          III        si                 si   \n",
       "48363   mujer    41     secundarios            I        si                 si   \n",
       "48364  hombre    36     secundarios            I        no                 no   \n",
       "48365  hombre    42       primarios          III        si                 si   \n",
       "\n",
       "      consumo_tabaco  altura  peso   imc  colesterol         ct  glucemia  \\\n",
       "0                 no   166.0  62.0  22.5         185     normal        84   \n",
       "1                 no   181.5  82.0  24.9         197     normal        62   \n",
       "2                 no   177.0  69.0  22.0         229  limitrofe        83   \n",
       "3                 si   171.0  86.0  29.4         272       alto       110   \n",
       "4                 no   154.0  45.0  19.0         191     normal        81   \n",
       "...              ...     ...   ...   ...         ...        ...       ...   \n",
       "48361             no   186.0  89.5  25.9         148     normal        88   \n",
       "48362             no   161.0  64.0  24.7         207  limitrofe        83   \n",
       "48363             no   165.0  68.0  25.0         177     normal        68   \n",
       "48364             no   173.0  77.0  25.7         244       alto        76   \n",
       "48365             no   177.3  83.0  26.4         198     normal        86   \n",
       "\n",
       "              gluc  \n",
       "0           normal  \n",
       "1           normal  \n",
       "2           normal  \n",
       "3      prediabetes  \n",
       "4           normal  \n",
       "...            ...  \n",
       "48361       normal  \n",
       "48362       normal  \n",
       "48363       normal  \n",
       "48364       normal  \n",
       "48365       normal  \n",
       "\n",
       "[48358 rows x 14 columns]"
      ]
     },
     "execution_count": 123,
     "metadata": {},
     "output_type": "execute_result"
    }
   ],
   "source": [
    "df"
   ]
  },
  {
   "cell_type": "code",
   "execution_count": 124,
   "id": "b967b34a",
   "metadata": {},
   "outputs": [
    {
     "data": {
      "text/html": [
       "<div>\n",
       "<style scoped>\n",
       "    .dataframe tbody tr th:only-of-type {\n",
       "        vertical-align: middle;\n",
       "    }\n",
       "\n",
       "    .dataframe tbody tr th {\n",
       "        vertical-align: top;\n",
       "    }\n",
       "\n",
       "    .dataframe thead th {\n",
       "        text-align: right;\n",
       "    }\n",
       "</style>\n",
       "<table border=\"1\" class=\"dataframe\">\n",
       "  <thead>\n",
       "    <tr style=\"text-align: right;\">\n",
       "      <th></th>\n",
       "      <th>edad</th>\n",
       "      <th>sexo</th>\n",
       "      <th>año</th>\n",
       "      <th>total</th>\n",
       "    </tr>\n",
       "  </thead>\n",
       "  <tbody>\n",
       "    <tr>\n",
       "      <th>84</th>\n",
       "      <td>21</td>\n",
       "      <td>hombre</td>\n",
       "      <td>2006</td>\n",
       "      <td>248.031</td>\n",
       "    </tr>\n",
       "    <tr>\n",
       "      <th>85</th>\n",
       "      <td>21</td>\n",
       "      <td>hombre</td>\n",
       "      <td>2005</td>\n",
       "      <td>256.159</td>\n",
       "    </tr>\n",
       "    <tr>\n",
       "      <th>86</th>\n",
       "      <td>21</td>\n",
       "      <td>hombre</td>\n",
       "      <td>2004</td>\n",
       "      <td>270.677</td>\n",
       "    </tr>\n",
       "    <tr>\n",
       "      <th>91</th>\n",
       "      <td>21</td>\n",
       "      <td>mujer</td>\n",
       "      <td>2006</td>\n",
       "      <td>235.545</td>\n",
       "    </tr>\n",
       "    <tr>\n",
       "      <th>92</th>\n",
       "      <td>21</td>\n",
       "      <td>mujer</td>\n",
       "      <td>2005</td>\n",
       "      <td>243.919</td>\n",
       "    </tr>\n",
       "    <tr>\n",
       "      <th>...</th>\n",
       "      <td>...</td>\n",
       "      <td>...</td>\n",
       "      <td>...</td>\n",
       "      <td>...</td>\n",
       "    </tr>\n",
       "    <tr>\n",
       "      <th>1471</th>\n",
       "      <td>70</td>\n",
       "      <td>hombre</td>\n",
       "      <td>2005</td>\n",
       "      <td>5.844</td>\n",
       "    </tr>\n",
       "    <tr>\n",
       "      <th>1472</th>\n",
       "      <td>70</td>\n",
       "      <td>hombre</td>\n",
       "      <td>2004</td>\n",
       "      <td>4.475</td>\n",
       "    </tr>\n",
       "    <tr>\n",
       "      <th>1477</th>\n",
       "      <td>70</td>\n",
       "      <td>mujer</td>\n",
       "      <td>2006</td>\n",
       "      <td>6.239</td>\n",
       "    </tr>\n",
       "    <tr>\n",
       "      <th>1478</th>\n",
       "      <td>70</td>\n",
       "      <td>mujer</td>\n",
       "      <td>2005</td>\n",
       "      <td>5.515</td>\n",
       "    </tr>\n",
       "    <tr>\n",
       "      <th>1479</th>\n",
       "      <td>70</td>\n",
       "      <td>mujer</td>\n",
       "      <td>2004</td>\n",
       "      <td>4.450</td>\n",
       "    </tr>\n",
       "  </tbody>\n",
       "</table>\n",
       "<p>600 rows × 4 columns</p>\n",
       "</div>"
      ],
      "text/plain": [
       "      edad    sexo   año    total\n",
       "84      21  hombre  2006  248.031\n",
       "85      21  hombre  2005  256.159\n",
       "86      21  hombre  2004  270.677\n",
       "91      21   mujer  2006  235.545\n",
       "92      21   mujer  2005  243.919\n",
       "...    ...     ...   ...      ...\n",
       "1471    70  hombre  2005    5.844\n",
       "1472    70  hombre  2004    4.475\n",
       "1477    70   mujer  2006    6.239\n",
       "1478    70   mujer  2005    5.515\n",
       "1479    70   mujer  2004    4.450\n",
       "\n",
       "[600 rows x 4 columns]"
      ]
     },
     "execution_count": 124,
     "metadata": {},
     "output_type": "execute_result"
    }
   ],
   "source": [
    "df2"
   ]
  },
  {
   "cell_type": "code",
   "execution_count": 125,
   "id": "680859ac",
   "metadata": {},
   "outputs": [
    {
     "data": {
      "text/html": [
       "<div>\n",
       "<style scoped>\n",
       "    .dataframe tbody tr th:only-of-type {\n",
       "        vertical-align: middle;\n",
       "    }\n",
       "\n",
       "    .dataframe tbody tr th {\n",
       "        vertical-align: top;\n",
       "    }\n",
       "\n",
       "    .dataframe thead th {\n",
       "        text-align: right;\n",
       "    }\n",
       "</style>\n",
       "<table border=\"1\" class=\"dataframe\">\n",
       "  <thead>\n",
       "    <tr style=\"text-align: right;\">\n",
       "      <th></th>\n",
       "      <th>edad</th>\n",
       "      <th>total</th>\n",
       "      <th>mujeres</th>\n",
       "      <th>hombres</th>\n",
       "    </tr>\n",
       "  </thead>\n",
       "  <tbody>\n",
       "    <tr>\n",
       "      <th>0</th>\n",
       "      <td>&lt; 31</td>\n",
       "      <td>26,3%</td>\n",
       "      <td>21,2%</td>\n",
       "      <td>33,3%</td>\n",
       "    </tr>\n",
       "    <tr>\n",
       "      <th>1</th>\n",
       "      <td>31- 42</td>\n",
       "      <td>26,5%</td>\n",
       "      <td>19,3%</td>\n",
       "      <td>36,5%</td>\n",
       "    </tr>\n",
       "    <tr>\n",
       "      <th>2</th>\n",
       "      <td>43-54</td>\n",
       "      <td>38,1%</td>\n",
       "      <td>31,3%</td>\n",
       "      <td>46,3%</td>\n",
       "    </tr>\n",
       "    <tr>\n",
       "      <th>3</th>\n",
       "      <td>55-65</td>\n",
       "      <td>52,0%</td>\n",
       "      <td>53,0%</td>\n",
       "      <td>50,8%</td>\n",
       "    </tr>\n",
       "    <tr>\n",
       "      <th>4</th>\n",
       "      <td>65 +</td>\n",
       "      <td>49,1%</td>\n",
       "      <td>51,9%</td>\n",
       "      <td>44,1%</td>\n",
       "    </tr>\n",
       "    <tr>\n",
       "      <th>5</th>\n",
       "      <td>total</td>\n",
       "      <td>39,8%</td>\n",
       "      <td>37,1%</td>\n",
       "      <td>43,6%</td>\n",
       "    </tr>\n",
       "    <tr>\n",
       "      <th>6</th>\n",
       "      <td>p</td>\n",
       "      <td>&lt; 0,001</td>\n",
       "      <td>&lt; 0,001</td>\n",
       "      <td>0,427</td>\n",
       "    </tr>\n",
       "  </tbody>\n",
       "</table>\n",
       "</div>"
      ],
      "text/plain": [
       "0    edad    total  mujeres hombres\n",
       "0    < 31    26,3%    21,2%   33,3%\n",
       "1  31- 42    26,5%    19,3%   36,5%\n",
       "2   43-54    38,1%    31,3%   46,3%\n",
       "3   55-65    52,0%    53,0%   50,8%\n",
       "4    65 +    49,1%    51,9%   44,1%\n",
       "5   total    39,8%    37,1%   43,6%\n",
       "6       p  < 0,001  < 0,001   0,427"
      ]
     },
     "execution_count": 125,
     "metadata": {},
     "output_type": "execute_result"
    }
   ],
   "source": [
    "df3"
   ]
  },
  {
   "cell_type": "code",
   "execution_count": 126,
   "id": "a9b36bc6",
   "metadata": {},
   "outputs": [
    {
     "data": {
      "text/html": [
       "<div>\n",
       "<style scoped>\n",
       "    .dataframe tbody tr th:only-of-type {\n",
       "        vertical-align: middle;\n",
       "    }\n",
       "\n",
       "    .dataframe tbody tr th {\n",
       "        vertical-align: top;\n",
       "    }\n",
       "\n",
       "    .dataframe thead th {\n",
       "        text-align: right;\n",
       "    }\n",
       "</style>\n",
       "<table border=\"1\" class=\"dataframe\">\n",
       "  <thead>\n",
       "    <tr style=\"text-align: right;\">\n",
       "      <th></th>\n",
       "      <th>indicadores</th>\n",
       "      <th>RI</th>\n",
       "      <th>no_RI</th>\n",
       "      <th>p</th>\n",
       "    </tr>\n",
       "  </thead>\n",
       "  <tbody>\n",
       "    <tr>\n",
       "      <th>0</th>\n",
       "      <td>peso</td>\n",
       "      <td>80.1</td>\n",
       "      <td>62.3</td>\n",
       "      <td>&lt; 0,001</td>\n",
       "    </tr>\n",
       "    <tr>\n",
       "      <th>1</th>\n",
       "      <td>IMC</td>\n",
       "      <td>30.5</td>\n",
       "      <td>26.2</td>\n",
       "      <td>&lt; 0,001</td>\n",
       "    </tr>\n",
       "    <tr>\n",
       "      <th>2</th>\n",
       "      <td>edad</td>\n",
       "      <td>55.6</td>\n",
       "      <td>49.3</td>\n",
       "      <td>&lt; 0,001</td>\n",
       "    </tr>\n",
       "    <tr>\n",
       "      <th>3</th>\n",
       "      <td>colesterol_HDL</td>\n",
       "      <td>56.4</td>\n",
       "      <td>65.4</td>\n",
       "      <td>&lt; 0,001</td>\n",
       "    </tr>\n",
       "    <tr>\n",
       "      <th>4</th>\n",
       "      <td>colesterol_no_HDL</td>\n",
       "      <td>126.6</td>\n",
       "      <td>112.6</td>\n",
       "      <td>&lt; 0,001</td>\n",
       "    </tr>\n",
       "  </tbody>\n",
       "</table>\n",
       "</div>"
      ],
      "text/plain": [
       "0        indicadores     RI  no_RI        p\n",
       "0               peso   80.1   62.3  < 0,001\n",
       "1               IMC    30.5   26.2  < 0,001\n",
       "2               edad   55.6   49.3  < 0,001\n",
       "3     colesterol_HDL   56.4   65.4  < 0,001\n",
       "4  colesterol_no_HDL  126.6  112.6  < 0,001"
      ]
     },
     "execution_count": 126,
     "metadata": {},
     "output_type": "execute_result"
    }
   ],
   "source": [
    "df4"
   ]
  },
  {
   "cell_type": "code",
   "execution_count": 127,
   "id": "51650fa0",
   "metadata": {},
   "outputs": [
    {
     "data": {
      "text/html": [
       "<div>\n",
       "<style scoped>\n",
       "    .dataframe tbody tr th:only-of-type {\n",
       "        vertical-align: middle;\n",
       "    }\n",
       "\n",
       "    .dataframe tbody tr th {\n",
       "        vertical-align: top;\n",
       "    }\n",
       "\n",
       "    .dataframe thead th {\n",
       "        text-align: right;\n",
       "    }\n",
       "</style>\n",
       "<table border=\"1\" class=\"dataframe\">\n",
       "  <thead>\n",
       "    <tr style=\"text-align: right;\">\n",
       "      <th></th>\n",
       "      <th></th>\n",
       "      <th>coeficiente_correlación</th>\n",
       "      <th>p</th>\n",
       "    </tr>\n",
       "  </thead>\n",
       "  <tbody>\n",
       "    <tr>\n",
       "      <th>0</th>\n",
       "      <td>Peso</td>\n",
       "      <td>0.421</td>\n",
       "      <td>&lt;0,001</td>\n",
       "    </tr>\n",
       "    <tr>\n",
       "      <th>1</th>\n",
       "      <td>IMC</td>\n",
       "      <td>0.447</td>\n",
       "      <td>&lt;0,001</td>\n",
       "    </tr>\n",
       "  </tbody>\n",
       "</table>\n",
       "</div>"
      ],
      "text/plain": [
       "0        coeficiente_correlación       p\n",
       "0  Peso                    0.421  <0,001\n",
       "1   IMC                    0.447  <0,001"
      ]
     },
     "execution_count": 127,
     "metadata": {},
     "output_type": "execute_result"
    }
   ],
   "source": [
    "df5"
   ]
  },
  {
   "cell_type": "markdown",
   "id": "56ad543f",
   "metadata": {},
   "source": [
    "# 5. Exportación de los data frames limpios."
   ]
  },
  {
   "cell_type": "code",
   "execution_count": 128,
   "id": "6fea4e0c",
   "metadata": {},
   "outputs": [],
   "source": [
    "df.to_csv('df_clean.csv', index=False)"
   ]
  },
  {
   "cell_type": "code",
   "execution_count": 129,
   "id": "be8d20a1",
   "metadata": {},
   "outputs": [],
   "source": [
    "df2.to_csv('df2_clean.csv', index=False)"
   ]
  },
  {
   "cell_type": "code",
   "execution_count": 130,
   "id": "629db7f3",
   "metadata": {},
   "outputs": [],
   "source": [
    "df3.to_csv('df3_clean.csv', index=False)"
   ]
  },
  {
   "cell_type": "code",
   "execution_count": 131,
   "id": "f421b2bb",
   "metadata": {},
   "outputs": [],
   "source": [
    "df4.to_csv('df4_clean.csv', index=False)"
   ]
  },
  {
   "cell_type": "code",
   "execution_count": 132,
   "id": "c772fa2c",
   "metadata": {},
   "outputs": [],
   "source": [
    "df5.to_csv('df5_clean.csv', index=False)"
   ]
  }
 ],
 "metadata": {
  "kernelspec": {
   "display_name": "Python 3 (ipykernel)",
   "language": "python",
   "name": "python3"
  },
  "language_info": {
   "codemirror_mode": {
    "name": "ipython",
    "version": 3
   },
   "file_extension": ".py",
   "mimetype": "text/x-python",
   "name": "python",
   "nbconvert_exporter": "python",
   "pygments_lexer": "ipython3",
   "version": "3.11.4"
  }
 },
 "nbformat": 4,
 "nbformat_minor": 5
}
