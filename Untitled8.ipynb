{
 "cells": [
  {
   "cell_type": "markdown",
   "id": "29de80c3",
   "metadata": {},
   "source": [
    "ESTUDIO SALUD "
   ]
  },
  {
   "cell_type": "code",
   "execution_count": 1,
   "id": "92bdbccd",
   "metadata": {},
   "outputs": [],
   "source": [
    "import pandas as pd\n",
    "pd.set_option('display.max_columns', None)\n",
    "\n",
    "\n",
    "import numpy as np\n",
    "\n",
    "import warnings\n",
    "warnings.filterwarnings('ignore')\n",
    "\n",
    "\n",
    "import pylab as plt  # import matplotlib.pyplot as plt\n",
    "import seaborn as sns\n",
    "\n",
    "# para la grafica\n",
    "#%matplotlib inline"
   ]
  },
  {
   "cell_type": "code",
   "execution_count": 2,
   "id": "67cef66a",
   "metadata": {},
   "outputs": [
    {
     "name": "stdout",
     "output_type": "stream",
     "text": [
      "Requirement already satisfied: pytesseract in /Users/karmelealonsoaia/anaconda3/lib/python3.11/site-packages (0.3.10)\n",
      "Requirement already satisfied: packaging>=21.3 in /Users/karmelealonsoaia/anaconda3/lib/python3.11/site-packages (from pytesseract) (23.0)\n",
      "Requirement already satisfied: Pillow>=8.0.0 in /Users/karmelealonsoaia/anaconda3/lib/python3.11/site-packages (from pytesseract) (9.4.0)\n",
      "Note: you may need to restart the kernel to use updated packages.\n"
     ]
    }
   ],
   "source": [
    "%pip install pytesseract"
   ]
  },
  {
   "cell_type": "code",
   "execution_count": 3,
   "id": "1c5bed35",
   "metadata": {},
   "outputs": [],
   "source": [
    "import pytesseract"
   ]
  },
  {
   "cell_type": "code",
   "execution_count": 4,
   "id": "ff90d21c",
   "metadata": {},
   "outputs": [],
   "source": [
    "from PIL import Image"
   ]
  },
  {
   "cell_type": "code",
   "execution_count": 5,
   "id": "64428df7",
   "metadata": {},
   "outputs": [],
   "source": [
    "import requests as req\n",
    "from bs4 import BeautifulSoup as bs"
   ]
  },
  {
   "cell_type": "code",
   "execution_count": 6,
   "id": "2d12d1e8",
   "metadata": {},
   "outputs": [],
   "source": [
    "from selenium.webdriver.chrome.options import Options\n",
    "from webdriver_manager.chrome import ChromeDriverManager"
   ]
  },
  {
   "cell_type": "code",
   "execution_count": 7,
   "id": "a30f7d4c",
   "metadata": {},
   "outputs": [],
   "source": [
    "import time\n",
    "\n",
    "import warnings\n",
    "warnings.filterwarnings('ignore')\n",
    "\n",
    "from selenium.webdriver.common.by import By"
   ]
  },
  {
   "cell_type": "code",
   "execution_count": 8,
   "id": "9ff71326",
   "metadata": {},
   "outputs": [],
   "source": [
    "#driver configuration\n",
    "opciones=Options()\n",
    "\n",
    "opciones.add_experimental_option('excludeSwitches', ['enable-automation'])\n",
    "opciones.add_experimental_option('useAutomationExtension', False)\n",
    "opciones.headless=False    # si True, no aperece la ventana (headless=no visible)\n",
    "opciones.add_argument('--start-maximized')         # comienza maximizado\n",
    "#opciones.add_argument('user-data-dir=selenium')    # mantiene las cookies\n",
    "#opciones.add_extension('driver_folder/adblock.crx')       # adblocker\n",
    "opciones.add_argument('--incognito')"
   ]
  },
  {
   "cell_type": "code",
   "execution_count": 9,
   "id": "51ab9706",
   "metadata": {},
   "outputs": [],
   "source": [
    "from selenium import webdriver\n",
    "\n",
    "PATH = \"driver/chromedriver\" \n",
    "driver = webdriver.Chrome(options = opciones)\n",
    "driver.get('https://www.google.es')"
   ]
  },
  {
   "cell_type": "markdown",
   "id": "cda9a4c4",
   "metadata": {},
   "source": [
    "# 1. Exploración CSV 1. "
   ]
  },
  {
   "cell_type": "code",
   "execution_count": 10,
   "id": "dd2f3c0b",
   "metadata": {},
   "outputs": [],
   "source": [
    "df_original = pd.read_csv('data/estudio_poblacional_palma_mallorca.csv', sep=';')\n",
    "\n",
    "df = df_original.copy()"
   ]
  },
  {
   "cell_type": "code",
   "execution_count": 11,
   "id": "78ee7a43",
   "metadata": {},
   "outputs": [
    {
     "data": {
      "text/plain": [
       "(58576, 75)"
      ]
     },
     "execution_count": 11,
     "metadata": {},
     "output_type": "execute_result"
    }
   ],
   "source": [
    "dim_original = df.shape # De esta forma guardo las dimensiones del data frame original.\n",
    "\n",
    "df.shape"
   ]
  },
  {
   "cell_type": "code",
   "execution_count": 12,
   "id": "f044789e",
   "metadata": {},
   "outputs": [
    {
     "data": {
      "text/html": [
       "<div>\n",
       "<style scoped>\n",
       "    .dataframe tbody tr th:only-of-type {\n",
       "        vertical-align: middle;\n",
       "    }\n",
       "\n",
       "    .dataframe tbody tr th {\n",
       "        vertical-align: top;\n",
       "    }\n",
       "\n",
       "    .dataframe thead th {\n",
       "        text-align: right;\n",
       "    }\n",
       "</style>\n",
       "<table border=\"1\" class=\"dataframe\">\n",
       "  <thead>\n",
       "    <tr style=\"text-align: right;\">\n",
       "      <th></th>\n",
       "      <th>sexo</th>\n",
       "      <th>edad</th>\n",
       "      <th>edad_A</th>\n",
       "      <th>estudios</th>\n",
       "      <th>clasesocial</th>\n",
       "      <th>ejercicio</th>\n",
       "      <th>alimentación</th>\n",
       "      <th>tabaco</th>\n",
       "      <th>altura</th>\n",
       "      <th>peso</th>\n",
       "      <th>IMC</th>\n",
       "      <th>TAS</th>\n",
       "      <th>TAD</th>\n",
       "      <th>TART</th>\n",
       "      <th>HTA</th>\n",
       "      <th>COLESTEROL</th>\n",
       "      <th>CT</th>\n",
       "      <th>HDL</th>\n",
       "      <th>LDL</th>\n",
       "      <th>LDL_A</th>\n",
       "      <th>TRIGLICERIDOS</th>\n",
       "      <th>TG</th>\n",
       "      <th>GLUCEMIA</th>\n",
       "      <th>GLUC</th>\n",
       "      <th>DIABETES</th>\n",
       "      <th>CINTURA</th>\n",
       "      <th>CADERA</th>\n",
       "      <th>CINTALTURA</th>\n",
       "      <th>ICALT</th>\n",
       "      <th>CINTCADERA</th>\n",
       "      <th>CINTCADERA_A</th>\n",
       "      <th>AVI</th>\n",
       "      <th>AVI_A</th>\n",
       "      <th>BAI</th>\n",
       "      <th>BAI_A</th>\n",
       "      <th>WWINDEX</th>\n",
       "      <th>BSA</th>\n",
       "      <th>BSI</th>\n",
       "      <th>BRI</th>\n",
       "      <th>ABSI</th>\n",
       "      <th>VAI</th>\n",
       "      <th>DAI</th>\n",
       "      <th>CI</th>\n",
       "      <th>BFI</th>\n",
       "      <th>Deuremberg</th>\n",
       "      <th>Palafolls</th>\n",
       "      <th>RFM</th>\n",
       "      <th>ECORE</th>\n",
       "      <th>CUNBAE</th>\n",
       "      <th>METSVF</th>\n",
       "      <th>MetsIR</th>\n",
       "      <th>Sexo_num</th>\n",
       "      <th>estudios_num</th>\n",
       "      <th>clasesocial_num</th>\n",
       "      <th>ejercicio_num</th>\n",
       "      <th>CUNBAE_A</th>\n",
       "      <th>alimentacion_num</th>\n",
       "      <th>tabaco_num</th>\n",
       "      <th>HTA_num</th>\n",
       "      <th>TART_num</th>\n",
       "      <th>CT_num</th>\n",
       "      <th>TG_num</th>\n",
       "      <th>LDL_A_num</th>\n",
       "      <th>edad_A_num</th>\n",
       "      <th>GLUC_num</th>\n",
       "      <th>DIABETES_num</th>\n",
       "      <th>IMC_A</th>\n",
       "      <th>ICALT_num</th>\n",
       "      <th>METSVF_A</th>\n",
       "      <th>IMC_A_Kappa</th>\n",
       "      <th>IMC_obesidad</th>\n",
       "      <th>BAI_A_Num</th>\n",
       "      <th>BAI_A_obesidad</th>\n",
       "      <th>CUNBAE_A_Obesidad</th>\n",
       "      <th>METSVF_A_Obesidad</th>\n",
       "    </tr>\n",
       "  </thead>\n",
       "  <tbody>\n",
       "    <tr>\n",
       "      <th>0</th>\n",
       "      <td>Mujer</td>\n",
       "      <td>57</td>\n",
       "      <td>50-59a</td>\n",
       "      <td>secundarios</td>\n",
       "      <td>III</td>\n",
       "      <td>si</td>\n",
       "      <td>no</td>\n",
       "      <td>no</td>\n",
       "      <td>166</td>\n",
       "      <td>62</td>\n",
       "      <td>22,5</td>\n",
       "      <td>110</td>\n",
       "      <td>70</td>\n",
       "      <td>normal</td>\n",
       "      <td>no</td>\n",
       "      <td>185</td>\n",
       "      <td>normal</td>\n",
       "      <td>47</td>\n",
       "      <td>126</td>\n",
       "      <td>normal</td>\n",
       "      <td>61</td>\n",
       "      <td>normal</td>\n",
       "      <td>84</td>\n",
       "      <td>normal</td>\n",
       "      <td>no</td>\n",
       "      <td>58</td>\n",
       "      <td>94</td>\n",
       "      <td>0,41</td>\n",
       "      <td>normal</td>\n",
       "      <td>0,62</td>\n",
       "      <td>no</td>\n",
       "      <td>7,64</td>\n",
       "      <td>normal</td>\n",
       "      <td>25,95</td>\n",
       "      <td>saludable</td>\n",
       "      <td>7,37</td>\n",
       "      <td>1,69</td>\n",
       "      <td>47,7</td>\n",
       "      <td>0,97</td>\n",
       "      <td>0,057</td>\n",
       "      <td>1,79</td>\n",
       "      <td>0,46</td>\n",
       "      <td>0,87</td>\n",
       "      <td>13,33</td>\n",
       "      <td>34,71</td>\n",
       "      <td>36,38</td>\n",
       "      <td>18,76</td>\n",
       "      <td>33,77</td>\n",
       "      <td>34,71</td>\n",
       "      <td>5,03</td>\n",
       "      <td>2,21997653</td>\n",
       "      <td>1</td>\n",
       "      <td>2</td>\n",
       "      <td>3</td>\n",
       "      <td>1</td>\n",
       "      <td>3</td>\n",
       "      <td>0</td>\n",
       "      <td>0</td>\n",
       "      <td>0</td>\n",
       "      <td>1</td>\n",
       "      <td>1</td>\n",
       "      <td>1</td>\n",
       "      <td>1</td>\n",
       "      <td>4</td>\n",
       "      <td>1</td>\n",
       "      <td>0</td>\n",
       "      <td>2</td>\n",
       "      <td>1</td>\n",
       "      <td>1</td>\n",
       "      <td>1</td>\n",
       "      <td>0</td>\n",
       "      <td>2</td>\n",
       "      <td>0</td>\n",
       "      <td>1</td>\n",
       "      <td>0</td>\n",
       "    </tr>\n",
       "    <tr>\n",
       "      <th>1</th>\n",
       "      <td>Hombre</td>\n",
       "      <td>28</td>\n",
       "      <td>20-29a</td>\n",
       "      <td>primarios</td>\n",
       "      <td>III</td>\n",
       "      <td>si</td>\n",
       "      <td>si</td>\n",
       "      <td>no</td>\n",
       "      <td>181,5</td>\n",
       "      <td>82</td>\n",
       "      <td>24,9</td>\n",
       "      <td>120</td>\n",
       "      <td>65</td>\n",
       "      <td>preHTA</td>\n",
       "      <td>no</td>\n",
       "      <td>197</td>\n",
       "      <td>normal</td>\n",
       "      <td>58</td>\n",
       "      <td>126</td>\n",
       "      <td>normal</td>\n",
       "      <td>66</td>\n",
       "      <td>normal</td>\n",
       "      <td>62</td>\n",
       "      <td>normal</td>\n",
       "      <td>no</td>\n",
       "      <td>96</td>\n",
       "      <td>87</td>\n",
       "      <td>0,53</td>\n",
       "      <td>alto</td>\n",
       "      <td>1,1</td>\n",
       "      <td>no</td>\n",
       "      <td>18,49</td>\n",
       "      <td>normal</td>\n",
       "      <td>17,58</td>\n",
       "      <td>saludable</td>\n",
       "      <td>10,6</td>\n",
       "      <td>2,03</td>\n",
       "      <td>57,56</td>\n",
       "      <td>3,92</td>\n",
       "      <td>0,084</td>\n",
       "      <td>3,61</td>\n",
       "      <td>0,46</td>\n",
       "      <td>1,31</td>\n",
       "      <td>17,33</td>\n",
       "      <td>20,12</td>\n",
       "      <td>27,49</td>\n",
       "      <td>26,19</td>\n",
       "      <td>21,95</td>\n",
       "      <td>21,66</td>\n",
       "      <td>6,4</td>\n",
       "      <td>2,083982426</td>\n",
       "      <td>0</td>\n",
       "      <td>1</td>\n",
       "      <td>3</td>\n",
       "      <td>1</td>\n",
       "      <td>3</td>\n",
       "      <td>1</td>\n",
       "      <td>0</td>\n",
       "      <td>0</td>\n",
       "      <td>2</td>\n",
       "      <td>1</td>\n",
       "      <td>1</td>\n",
       "      <td>1</td>\n",
       "      <td>1</td>\n",
       "      <td>1</td>\n",
       "      <td>0</td>\n",
       "      <td>2</td>\n",
       "      <td>2</td>\n",
       "      <td>1</td>\n",
       "      <td>1</td>\n",
       "      <td>0</td>\n",
       "      <td>2</td>\n",
       "      <td>0</td>\n",
       "      <td>1</td>\n",
       "      <td>0</td>\n",
       "    </tr>\n",
       "    <tr>\n",
       "      <th>2</th>\n",
       "      <td>Hombre</td>\n",
       "      <td>25</td>\n",
       "      <td>20-29a</td>\n",
       "      <td>universitarios</td>\n",
       "      <td>I</td>\n",
       "      <td>no</td>\n",
       "      <td>no</td>\n",
       "      <td>no</td>\n",
       "      <td>177</td>\n",
       "      <td>69</td>\n",
       "      <td>22</td>\n",
       "      <td>120</td>\n",
       "      <td>55</td>\n",
       "      <td>preHTA</td>\n",
       "      <td>no</td>\n",
       "      <td>229</td>\n",
       "      <td>limítrofe</td>\n",
       "      <td>50</td>\n",
       "      <td>159</td>\n",
       "      <td>limítrofe</td>\n",
       "      <td>98</td>\n",
       "      <td>normal</td>\n",
       "      <td>83</td>\n",
       "      <td>normal</td>\n",
       "      <td>no</td>\n",
       "      <td>71</td>\n",
       "      <td>76</td>\n",
       "      <td>0,41</td>\n",
       "      <td>normal</td>\n",
       "      <td>0,93</td>\n",
       "      <td>no</td>\n",
       "      <td>10,1</td>\n",
       "      <td>normal</td>\n",
       "      <td>14,27</td>\n",
       "      <td>saludable</td>\n",
       "      <td>8,55</td>\n",
       "      <td>1,85</td>\n",
       "      <td>50,7</td>\n",
       "      <td>1,69</td>\n",
       "      <td>0,068</td>\n",
       "      <td>4,67</td>\n",
       "      <td>0,65</td>\n",
       "      <td>1,04</td>\n",
       "      <td>0,52</td>\n",
       "      <td>15,95</td>\n",
       "      <td>25,1</td>\n",
       "      <td>14,14</td>\n",
       "      <td>17,12</td>\n",
       "      <td>16,33</td>\n",
       "      <td>4,85</td>\n",
       "      <td>2,215475611</td>\n",
       "      <td>0</td>\n",
       "      <td>3</td>\n",
       "      <td>1</td>\n",
       "      <td>0</td>\n",
       "      <td>2</td>\n",
       "      <td>0</td>\n",
       "      <td>0</td>\n",
       "      <td>0</td>\n",
       "      <td>2</td>\n",
       "      <td>2</td>\n",
       "      <td>1</td>\n",
       "      <td>2</td>\n",
       "      <td>1</td>\n",
       "      <td>1</td>\n",
       "      <td>0</td>\n",
       "      <td>2</td>\n",
       "      <td>1</td>\n",
       "      <td>1</td>\n",
       "      <td>1</td>\n",
       "      <td>0</td>\n",
       "      <td>2</td>\n",
       "      <td>0</td>\n",
       "      <td>0</td>\n",
       "      <td>0</td>\n",
       "    </tr>\n",
       "    <tr>\n",
       "      <th>3</th>\n",
       "      <td>Hombre</td>\n",
       "      <td>50</td>\n",
       "      <td>50-59a</td>\n",
       "      <td>secundarios</td>\n",
       "      <td>III</td>\n",
       "      <td>no</td>\n",
       "      <td>no</td>\n",
       "      <td>si</td>\n",
       "      <td>171</td>\n",
       "      <td>86</td>\n",
       "      <td>29,4</td>\n",
       "      <td>150</td>\n",
       "      <td>100</td>\n",
       "      <td>HTA 2</td>\n",
       "      <td>si</td>\n",
       "      <td>272</td>\n",
       "      <td>alto</td>\n",
       "      <td>47</td>\n",
       "      <td>206</td>\n",
       "      <td>muy alto</td>\n",
       "      <td>96</td>\n",
       "      <td>normal</td>\n",
       "      <td>110</td>\n",
       "      <td>prediabetes</td>\n",
       "      <td>no</td>\n",
       "      <td>79</td>\n",
       "      <td>90</td>\n",
       "      <td>0,47</td>\n",
       "      <td>normal</td>\n",
       "      <td>0,88</td>\n",
       "      <td>no</td>\n",
       "      <td>12,57</td>\n",
       "      <td>normal</td>\n",
       "      <td>22,25</td>\n",
       "      <td>sobrepeso</td>\n",
       "      <td>8,52</td>\n",
       "      <td>1,98</td>\n",
       "      <td>61,06</td>\n",
       "      <td>2,67</td>\n",
       "      <td>0,064</td>\n",
       "      <td>5,34</td>\n",
       "      <td>0,6</td>\n",
       "      <td>1,02</td>\n",
       "      <td>6,39</td>\n",
       "      <td>30,58</td>\n",
       "      <td>33,12</td>\n",
       "      <td>20,71</td>\n",
       "      <td>30,63</td>\n",
       "      <td>30,62</td>\n",
       "      <td>6,31</td>\n",
       "      <td>2,373087433</td>\n",
       "      <td>0</td>\n",
       "      <td>2</td>\n",
       "      <td>3</td>\n",
       "      <td>0</td>\n",
       "      <td>4</td>\n",
       "      <td>0</td>\n",
       "      <td>1</td>\n",
       "      <td>1</td>\n",
       "      <td>4</td>\n",
       "      <td>3</td>\n",
       "      <td>1</td>\n",
       "      <td>4</td>\n",
       "      <td>4</td>\n",
       "      <td>2</td>\n",
       "      <td>0</td>\n",
       "      <td>3</td>\n",
       "      <td>1</td>\n",
       "      <td>1</td>\n",
       "      <td>1</td>\n",
       "      <td>0</td>\n",
       "      <td>3</td>\n",
       "      <td>0</td>\n",
       "      <td>0</td>\n",
       "      <td>0</td>\n",
       "    </tr>\n",
       "    <tr>\n",
       "      <th>4</th>\n",
       "      <td>Mujer</td>\n",
       "      <td>33</td>\n",
       "      <td>30-39a</td>\n",
       "      <td>secundarios</td>\n",
       "      <td>II</td>\n",
       "      <td>si</td>\n",
       "      <td>no</td>\n",
       "      <td>no</td>\n",
       "      <td>154</td>\n",
       "      <td>45</td>\n",
       "      <td>19</td>\n",
       "      <td>100</td>\n",
       "      <td>60</td>\n",
       "      <td>normal</td>\n",
       "      <td>no</td>\n",
       "      <td>191</td>\n",
       "      <td>normal</td>\n",
       "      <td>58</td>\n",
       "      <td>112</td>\n",
       "      <td>normal</td>\n",
       "      <td>105</td>\n",
       "      <td>normal</td>\n",
       "      <td>81</td>\n",
       "      <td>normal</td>\n",
       "      <td>no</td>\n",
       "      <td>61</td>\n",
       "      <td>80</td>\n",
       "      <td>0,4</td>\n",
       "      <td>normal</td>\n",
       "      <td>0,76</td>\n",
       "      <td>no</td>\n",
       "      <td>7,69</td>\n",
       "      <td>normal</td>\n",
       "      <td>23,86</td>\n",
       "      <td>saludable</td>\n",
       "      <td>9,09</td>\n",
       "      <td>1,4</td>\n",
       "      <td>38,08</td>\n",
       "      <td>1,62</td>\n",
       "      <td>0,069</td>\n",
       "      <td>2,86</td>\n",
       "      <td>0,76</td>\n",
       "      <td>1,04</td>\n",
       "      <td>17,81</td>\n",
       "      <td>24,99</td>\n",
       "      <td>32,11</td>\n",
       "      <td>25,51</td>\n",
       "      <td>24,74</td>\n",
       "      <td>24,96</td>\n",
       "      <td>4,43</td>\n",
       "      <td>2,101171625</td>\n",
       "      <td>1</td>\n",
       "      <td>2</td>\n",
       "      <td>2</td>\n",
       "      <td>1</td>\n",
       "      <td>1</td>\n",
       "      <td>0</td>\n",
       "      <td>0</td>\n",
       "      <td>0</td>\n",
       "      <td>1</td>\n",
       "      <td>1</td>\n",
       "      <td>1</td>\n",
       "      <td>1</td>\n",
       "      <td>2</td>\n",
       "      <td>1</td>\n",
       "      <td>0</td>\n",
       "      <td>2</td>\n",
       "      <td>1</td>\n",
       "      <td>1</td>\n",
       "      <td>1</td>\n",
       "      <td>0</td>\n",
       "      <td>2</td>\n",
       "      <td>0</td>\n",
       "      <td>0</td>\n",
       "      <td>0</td>\n",
       "    </tr>\n",
       "  </tbody>\n",
       "</table>\n",
       "</div>"
      ],
      "text/plain": [
       "     sexo  edad  edad_A        estudios clasesocial ejercicio alimentación  \\\n",
       "0   Mujer    57  50-59a     secundarios         III        si           no   \n",
       "1  Hombre    28  20-29a       primarios         III        si           si   \n",
       "2  Hombre    25  20-29a  universitarios           I        no           no   \n",
       "3  Hombre    50  50-59a     secundarios         III        no           no   \n",
       "4   Mujer    33  30-39a     secundarios          II        si           no   \n",
       "\n",
       "  tabaco altura peso   IMC  TAS  TAD    TART HTA  COLESTEROL         CT  HDL  \\\n",
       "0     no    166   62  22,5  110   70  normal  no         185     normal   47   \n",
       "1     no  181,5   82  24,9  120   65  preHTA  no         197     normal   58   \n",
       "2     no    177   69    22  120   55  preHTA  no         229  limítrofe   50   \n",
       "3     si    171   86  29,4  150  100   HTA 2  si         272       alto   47   \n",
       "4     no    154   45    19  100   60  normal  no         191     normal   58   \n",
       "\n",
       "   LDL      LDL_A  TRIGLICERIDOS      TG  GLUCEMIA         GLUC DIABETES  \\\n",
       "0  126     normal             61  normal        84       normal       no   \n",
       "1  126     normal             66  normal        62       normal       no   \n",
       "2  159  limítrofe             98  normal        83       normal       no   \n",
       "3  206   muy alto             96  normal       110  prediabetes       no   \n",
       "4  112     normal            105  normal        81       normal       no   \n",
       "\n",
       "   CINTURA  CADERA CINTALTURA   ICALT CINTCADERA CINTCADERA_A    AVI   AVI_A  \\\n",
       "0       58      94       0,41  normal       0,62           no   7,64  normal   \n",
       "1       96      87       0,53    alto        1,1           no  18,49  normal   \n",
       "2       71      76       0,41  normal       0,93           no   10,1  normal   \n",
       "3       79      90       0,47  normal       0,88           no  12,57  normal   \n",
       "4       61      80        0,4  normal       0,76           no   7,69  normal   \n",
       "\n",
       "     BAI      BAI_A WWINDEX   BSA    BSI   BRI   ABSI   VAI   DAI    CI  \\\n",
       "0  25,95  saludable    7,37  1,69   47,7  0,97  0,057  1,79  0,46  0,87   \n",
       "1  17,58  saludable    10,6  2,03  57,56  3,92  0,084  3,61  0,46  1,31   \n",
       "2  14,27  saludable    8,55  1,85   50,7  1,69  0,068  4,67  0,65  1,04   \n",
       "3  22,25  sobrepeso    8,52  1,98  61,06  2,67  0,064  5,34   0,6  1,02   \n",
       "4  23,86  saludable    9,09   1,4  38,08  1,62  0,069  2,86  0,76  1,04   \n",
       "\n",
       "     BFI Deuremberg Palafolls    RFM  ECORE CUNBAE METSVF       MetsIR  \\\n",
       "0  13,33      34,71     36,38  18,76  33,77  34,71   5,03   2,21997653   \n",
       "1  17,33      20,12     27,49  26,19  21,95  21,66    6,4  2,083982426   \n",
       "2   0,52      15,95      25,1  14,14  17,12  16,33   4,85  2,215475611   \n",
       "3   6,39      30,58     33,12  20,71  30,63  30,62   6,31  2,373087433   \n",
       "4  17,81      24,99     32,11  25,51  24,74  24,96   4,43  2,101171625   \n",
       "\n",
       "   Sexo_num  estudios_num  clasesocial_num  ejercicio_num  CUNBAE_A  \\\n",
       "0         1             2                3              1         3   \n",
       "1         0             1                3              1         3   \n",
       "2         0             3                1              0         2   \n",
       "3         0             2                3              0         4   \n",
       "4         1             2                2              1         1   \n",
       "\n",
       "   alimentacion_num  tabaco_num  HTA_num  TART_num  CT_num  TG_num  LDL_A_num  \\\n",
       "0                 0           0        0         1       1       1          1   \n",
       "1                 1           0        0         2       1       1          1   \n",
       "2                 0           0        0         2       2       1          2   \n",
       "3                 0           1        1         4       3       1          4   \n",
       "4                 0           0        0         1       1       1          1   \n",
       "\n",
       "   edad_A_num  GLUC_num  DIABETES_num  IMC_A  ICALT_num  METSVF_A  \\\n",
       "0           4         1             0      2          1         1   \n",
       "1           1         1             0      2          2         1   \n",
       "2           1         1             0      2          1         1   \n",
       "3           4         2             0      3          1         1   \n",
       "4           2         1             0      2          1         1   \n",
       "\n",
       "   IMC_A_Kappa  IMC_obesidad  BAI_A_Num  BAI_A_obesidad  CUNBAE_A_Obesidad  \\\n",
       "0            1             0          2               0                  1   \n",
       "1            1             0          2               0                  1   \n",
       "2            1             0          2               0                  0   \n",
       "3            1             0          3               0                  0   \n",
       "4            1             0          2               0                  0   \n",
       "\n",
       "   METSVF_A_Obesidad  \n",
       "0                  0  \n",
       "1                  0  \n",
       "2                  0  \n",
       "3                  0  \n",
       "4                  0  "
      ]
     },
     "execution_count": 12,
     "metadata": {},
     "output_type": "execute_result"
    }
   ],
   "source": [
    "df.head()"
   ]
  },
  {
   "cell_type": "code",
   "execution_count": 13,
   "id": "170c68f1",
   "metadata": {},
   "outputs": [
    {
     "data": {
      "text/plain": [
       "Index(['sexo', 'edad', 'edad_A', 'estudios', 'clasesocial', 'ejercicio',\n",
       "       'alimentación', 'tabaco', 'altura', 'peso', 'IMC', 'TAS', 'TAD', 'TART',\n",
       "       'HTA', 'COLESTEROL', 'CT', 'HDL', 'LDL', 'LDL_A', 'TRIGLICERIDOS', 'TG',\n",
       "       'GLUCEMIA', 'GLUC', 'DIABETES', 'CINTURA', 'CADERA', 'CINTALTURA',\n",
       "       'ICALT', 'CINTCADERA', 'CINTCADERA_A', 'AVI', 'AVI_A', 'BAI', 'BAI_A',\n",
       "       'WWINDEX', 'BSA', 'BSI', 'BRI', 'ABSI', 'VAI', 'DAI', 'CI', 'BFI',\n",
       "       'Deuremberg', 'Palafolls', 'RFM', 'ECORE', 'CUNBAE', 'METSVF', 'MetsIR',\n",
       "       'Sexo_num', 'estudios_num', 'clasesocial_num', 'ejercicio_num',\n",
       "       'CUNBAE_A', 'alimentacion_num', 'tabaco_num', 'HTA_num', 'TART_num',\n",
       "       'CT_num', 'TG_num', 'LDL_A_num', 'edad_A_num', 'GLUC_num',\n",
       "       'DIABETES_num', 'IMC_A', 'ICALT_num', 'METSVF_A', 'IMC_A_Kappa',\n",
       "       'IMC_obesidad', 'BAI_A_Num', 'BAI_A_obesidad', 'CUNBAE_A_Obesidad',\n",
       "       'METSVF_A_Obesidad'],\n",
       "      dtype='object')"
      ]
     },
     "execution_count": 13,
     "metadata": {},
     "output_type": "execute_result"
    }
   ],
   "source": [
    "df.columns # Esto nos proporciona una enumeración de los nombres correspondientes a cada una de las columnas presentes en los datos."
   ]
  },
  {
   "cell_type": "code",
   "execution_count": 14,
   "id": "d93bb1be",
   "metadata": {},
   "outputs": [
    {
     "name": "stdout",
     "output_type": "stream",
     "text": [
      "<class 'pandas.core.frame.DataFrame'>\n",
      "RangeIndex: 58576 entries, 0 to 58575\n",
      "Data columns (total 75 columns):\n",
      " #   Column             Non-Null Count  Dtype \n",
      "---  ------             --------------  ----- \n",
      " 0   sexo               58576 non-null  object\n",
      " 1   edad               58576 non-null  int64 \n",
      " 2   edad_A             58576 non-null  object\n",
      " 3   estudios           58576 non-null  object\n",
      " 4   clasesocial        58576 non-null  object\n",
      " 5   ejercicio          58576 non-null  object\n",
      " 6   alimentación       58576 non-null  object\n",
      " 7   tabaco             58576 non-null  object\n",
      " 8   altura             58576 non-null  object\n",
      " 9   peso               58576 non-null  object\n",
      " 10  IMC                58576 non-null  object\n",
      " 11  TAS                58576 non-null  int64 \n",
      " 12  TAD                58576 non-null  int64 \n",
      " 13  TART               58576 non-null  object\n",
      " 14  HTA                58576 non-null  object\n",
      " 15  COLESTEROL         58576 non-null  int64 \n",
      " 16  CT                 58576 non-null  object\n",
      " 17  HDL                58576 non-null  int64 \n",
      " 18  LDL                58576 non-null  int64 \n",
      " 19  LDL_A              58576 non-null  object\n",
      " 20  TRIGLICERIDOS      58576 non-null  int64 \n",
      " 21  TG                 58576 non-null  object\n",
      " 22  GLUCEMIA           58576 non-null  int64 \n",
      " 23  GLUC               58576 non-null  object\n",
      " 24  DIABETES           58576 non-null  object\n",
      " 25  CINTURA            58576 non-null  int64 \n",
      " 26  CADERA             58576 non-null  int64 \n",
      " 27  CINTALTURA         58576 non-null  object\n",
      " 28  ICALT              58576 non-null  object\n",
      " 29  CINTCADERA         58576 non-null  object\n",
      " 30  CINTCADERA_A       58576 non-null  object\n",
      " 31  AVI                58576 non-null  object\n",
      " 32  AVI_A              58576 non-null  object\n",
      " 33  BAI                58576 non-null  object\n",
      " 34  BAI_A              58576 non-null  object\n",
      " 35  WWINDEX            58576 non-null  object\n",
      " 36  BSA                58576 non-null  object\n",
      " 37  BSI                58576 non-null  object\n",
      " 38  BRI                58576 non-null  object\n",
      " 39  ABSI               58576 non-null  object\n",
      " 40  VAI                58576 non-null  object\n",
      " 41  DAI                58576 non-null  object\n",
      " 42  CI                 58576 non-null  object\n",
      " 43  BFI                58576 non-null  object\n",
      " 44  Deuremberg         58576 non-null  object\n",
      " 45  Palafolls          58576 non-null  object\n",
      " 46  RFM                58576 non-null  object\n",
      " 47  ECORE              58576 non-null  object\n",
      " 48  CUNBAE             58576 non-null  object\n",
      " 49  METSVF             58576 non-null  object\n",
      " 50  MetsIR             58576 non-null  object\n",
      " 51  Sexo_num           58576 non-null  int64 \n",
      " 52  estudios_num       58576 non-null  int64 \n",
      " 53  clasesocial_num    58576 non-null  int64 \n",
      " 54  ejercicio_num      58576 non-null  int64 \n",
      " 55  CUNBAE_A           58576 non-null  int64 \n",
      " 56  alimentacion_num   58576 non-null  int64 \n",
      " 57  tabaco_num         58576 non-null  int64 \n",
      " 58  HTA_num            58576 non-null  int64 \n",
      " 59  TART_num           58576 non-null  int64 \n",
      " 60  CT_num             58576 non-null  int64 \n",
      " 61  TG_num             58576 non-null  int64 \n",
      " 62  LDL_A_num          58576 non-null  int64 \n",
      " 63  edad_A_num         58576 non-null  int64 \n",
      " 64  GLUC_num           58576 non-null  int64 \n",
      " 65  DIABETES_num       58576 non-null  int64 \n",
      " 66  IMC_A              58576 non-null  int64 \n",
      " 67  ICALT_num          58576 non-null  int64 \n",
      " 68  METSVF_A           58576 non-null  int64 \n",
      " 69  IMC_A_Kappa        58576 non-null  int64 \n",
      " 70  IMC_obesidad       58576 non-null  int64 \n",
      " 71  BAI_A_Num          58576 non-null  int64 \n",
      " 72  BAI_A_obesidad     58576 non-null  int64 \n",
      " 73  CUNBAE_A_Obesidad  58576 non-null  int64 \n",
      " 74  METSVF_A_Obesidad  58576 non-null  int64 \n",
      "dtypes: int64(34), object(41)\n",
      "memory usage: 33.5+ MB\n"
     ]
    }
   ],
   "source": [
    "df.info() # De este modo conzco el tipo de dato y los valores nulos que tiene cada una de las columnas."
   ]
  },
  {
   "cell_type": "markdown",
   "id": "4103b878",
   "metadata": {},
   "source": [
    "# Eliminación de duplicados."
   ]
  },
  {
   "cell_type": "code",
   "execution_count": 15,
   "id": "2a62a30b",
   "metadata": {},
   "outputs": [
    {
     "data": {
      "text/plain": [
       "True"
      ]
     },
     "execution_count": 15,
     "metadata": {},
     "output_type": "execute_result"
    }
   ],
   "source": [
    "df.duplicated().any() "
   ]
  },
  {
   "cell_type": "code",
   "execution_count": 16,
   "id": "cc457746",
   "metadata": {},
   "outputs": [],
   "source": [
    "df.drop_duplicates(inplace = True)"
   ]
  },
  {
   "cell_type": "code",
   "execution_count": 17,
   "id": "4ea5027e",
   "metadata": {},
   "outputs": [
    {
     "data": {
      "text/plain": [
       "(48358, 75)"
      ]
     },
     "execution_count": 17,
     "metadata": {},
     "output_type": "execute_result"
    }
   ],
   "source": [
    "df.shape"
   ]
  },
  {
   "cell_type": "markdown",
   "id": "cb10aed0",
   "metadata": {},
   "source": [
    "Primero voy a eliminar las columnas que no me interesan y a las que no les voy a dar uso en el estudio"
   ]
  },
  {
   "cell_type": "code",
   "execution_count": 18,
   "id": "65d6963a",
   "metadata": {},
   "outputs": [],
   "source": [
    "#las últimas no me interesan, y ahora de las seleccionadas, eliminaré otras cuentas"
   ]
  },
  {
   "cell_type": "code",
   "execution_count": 19,
   "id": "f7c472d1",
   "metadata": {},
   "outputs": [
    {
     "data": {
      "text/html": [
       "<div>\n",
       "<style scoped>\n",
       "    .dataframe tbody tr th:only-of-type {\n",
       "        vertical-align: middle;\n",
       "    }\n",
       "\n",
       "    .dataframe tbody tr th {\n",
       "        vertical-align: top;\n",
       "    }\n",
       "\n",
       "    .dataframe thead th {\n",
       "        text-align: right;\n",
       "    }\n",
       "</style>\n",
       "<table border=\"1\" class=\"dataframe\">\n",
       "  <thead>\n",
       "    <tr style=\"text-align: right;\">\n",
       "      <th></th>\n",
       "      <th>sexo</th>\n",
       "      <th>edad</th>\n",
       "      <th>edad_A</th>\n",
       "      <th>estudios</th>\n",
       "      <th>clasesocial</th>\n",
       "      <th>ejercicio</th>\n",
       "      <th>alimentación</th>\n",
       "      <th>tabaco</th>\n",
       "      <th>altura</th>\n",
       "      <th>peso</th>\n",
       "      <th>IMC</th>\n",
       "      <th>TAS</th>\n",
       "      <th>TAD</th>\n",
       "      <th>TART</th>\n",
       "      <th>HTA</th>\n",
       "      <th>COLESTEROL</th>\n",
       "      <th>CT</th>\n",
       "      <th>HDL</th>\n",
       "      <th>LDL</th>\n",
       "      <th>LDL_A</th>\n",
       "      <th>TRIGLICERIDOS</th>\n",
       "      <th>TG</th>\n",
       "      <th>GLUCEMIA</th>\n",
       "      <th>GLUC</th>\n",
       "    </tr>\n",
       "  </thead>\n",
       "  <tbody>\n",
       "    <tr>\n",
       "      <th>0</th>\n",
       "      <td>Mujer</td>\n",
       "      <td>57</td>\n",
       "      <td>50-59a</td>\n",
       "      <td>secundarios</td>\n",
       "      <td>III</td>\n",
       "      <td>si</td>\n",
       "      <td>no</td>\n",
       "      <td>no</td>\n",
       "      <td>166</td>\n",
       "      <td>62</td>\n",
       "      <td>22,5</td>\n",
       "      <td>110</td>\n",
       "      <td>70</td>\n",
       "      <td>normal</td>\n",
       "      <td>no</td>\n",
       "      <td>185</td>\n",
       "      <td>normal</td>\n",
       "      <td>47</td>\n",
       "      <td>126</td>\n",
       "      <td>normal</td>\n",
       "      <td>61</td>\n",
       "      <td>normal</td>\n",
       "      <td>84</td>\n",
       "      <td>normal</td>\n",
       "    </tr>\n",
       "    <tr>\n",
       "      <th>1</th>\n",
       "      <td>Hombre</td>\n",
       "      <td>28</td>\n",
       "      <td>20-29a</td>\n",
       "      <td>primarios</td>\n",
       "      <td>III</td>\n",
       "      <td>si</td>\n",
       "      <td>si</td>\n",
       "      <td>no</td>\n",
       "      <td>181,5</td>\n",
       "      <td>82</td>\n",
       "      <td>24,9</td>\n",
       "      <td>120</td>\n",
       "      <td>65</td>\n",
       "      <td>preHTA</td>\n",
       "      <td>no</td>\n",
       "      <td>197</td>\n",
       "      <td>normal</td>\n",
       "      <td>58</td>\n",
       "      <td>126</td>\n",
       "      <td>normal</td>\n",
       "      <td>66</td>\n",
       "      <td>normal</td>\n",
       "      <td>62</td>\n",
       "      <td>normal</td>\n",
       "    </tr>\n",
       "    <tr>\n",
       "      <th>2</th>\n",
       "      <td>Hombre</td>\n",
       "      <td>25</td>\n",
       "      <td>20-29a</td>\n",
       "      <td>universitarios</td>\n",
       "      <td>I</td>\n",
       "      <td>no</td>\n",
       "      <td>no</td>\n",
       "      <td>no</td>\n",
       "      <td>177</td>\n",
       "      <td>69</td>\n",
       "      <td>22</td>\n",
       "      <td>120</td>\n",
       "      <td>55</td>\n",
       "      <td>preHTA</td>\n",
       "      <td>no</td>\n",
       "      <td>229</td>\n",
       "      <td>limítrofe</td>\n",
       "      <td>50</td>\n",
       "      <td>159</td>\n",
       "      <td>limítrofe</td>\n",
       "      <td>98</td>\n",
       "      <td>normal</td>\n",
       "      <td>83</td>\n",
       "      <td>normal</td>\n",
       "    </tr>\n",
       "    <tr>\n",
       "      <th>3</th>\n",
       "      <td>Hombre</td>\n",
       "      <td>50</td>\n",
       "      <td>50-59a</td>\n",
       "      <td>secundarios</td>\n",
       "      <td>III</td>\n",
       "      <td>no</td>\n",
       "      <td>no</td>\n",
       "      <td>si</td>\n",
       "      <td>171</td>\n",
       "      <td>86</td>\n",
       "      <td>29,4</td>\n",
       "      <td>150</td>\n",
       "      <td>100</td>\n",
       "      <td>HTA 2</td>\n",
       "      <td>si</td>\n",
       "      <td>272</td>\n",
       "      <td>alto</td>\n",
       "      <td>47</td>\n",
       "      <td>206</td>\n",
       "      <td>muy alto</td>\n",
       "      <td>96</td>\n",
       "      <td>normal</td>\n",
       "      <td>110</td>\n",
       "      <td>prediabetes</td>\n",
       "    </tr>\n",
       "    <tr>\n",
       "      <th>4</th>\n",
       "      <td>Mujer</td>\n",
       "      <td>33</td>\n",
       "      <td>30-39a</td>\n",
       "      <td>secundarios</td>\n",
       "      <td>II</td>\n",
       "      <td>si</td>\n",
       "      <td>no</td>\n",
       "      <td>no</td>\n",
       "      <td>154</td>\n",
       "      <td>45</td>\n",
       "      <td>19</td>\n",
       "      <td>100</td>\n",
       "      <td>60</td>\n",
       "      <td>normal</td>\n",
       "      <td>no</td>\n",
       "      <td>191</td>\n",
       "      <td>normal</td>\n",
       "      <td>58</td>\n",
       "      <td>112</td>\n",
       "      <td>normal</td>\n",
       "      <td>105</td>\n",
       "      <td>normal</td>\n",
       "      <td>81</td>\n",
       "      <td>normal</td>\n",
       "    </tr>\n",
       "    <tr>\n",
       "      <th>...</th>\n",
       "      <td>...</td>\n",
       "      <td>...</td>\n",
       "      <td>...</td>\n",
       "      <td>...</td>\n",
       "      <td>...</td>\n",
       "      <td>...</td>\n",
       "      <td>...</td>\n",
       "      <td>...</td>\n",
       "      <td>...</td>\n",
       "      <td>...</td>\n",
       "      <td>...</td>\n",
       "      <td>...</td>\n",
       "      <td>...</td>\n",
       "      <td>...</td>\n",
       "      <td>...</td>\n",
       "      <td>...</td>\n",
       "      <td>...</td>\n",
       "      <td>...</td>\n",
       "      <td>...</td>\n",
       "      <td>...</td>\n",
       "      <td>...</td>\n",
       "      <td>...</td>\n",
       "      <td>...</td>\n",
       "      <td>...</td>\n",
       "    </tr>\n",
       "    <tr>\n",
       "      <th>48361</th>\n",
       "      <td>Hombre</td>\n",
       "      <td>31</td>\n",
       "      <td>30-39a</td>\n",
       "      <td>secundarios</td>\n",
       "      <td>II</td>\n",
       "      <td>si</td>\n",
       "      <td>si</td>\n",
       "      <td>no</td>\n",
       "      <td>186</td>\n",
       "      <td>89,5</td>\n",
       "      <td>25,9</td>\n",
       "      <td>110</td>\n",
       "      <td>80</td>\n",
       "      <td>preHTA</td>\n",
       "      <td>no</td>\n",
       "      <td>148</td>\n",
       "      <td>normal</td>\n",
       "      <td>61</td>\n",
       "      <td>69</td>\n",
       "      <td>normal</td>\n",
       "      <td>90</td>\n",
       "      <td>normal</td>\n",
       "      <td>88</td>\n",
       "      <td>normal</td>\n",
       "    </tr>\n",
       "    <tr>\n",
       "      <th>48362</th>\n",
       "      <td>Mujer</td>\n",
       "      <td>31</td>\n",
       "      <td>30-39a</td>\n",
       "      <td>primarios</td>\n",
       "      <td>III</td>\n",
       "      <td>si</td>\n",
       "      <td>si</td>\n",
       "      <td>no</td>\n",
       "      <td>161</td>\n",
       "      <td>64</td>\n",
       "      <td>24,7</td>\n",
       "      <td>100</td>\n",
       "      <td>60</td>\n",
       "      <td>normal</td>\n",
       "      <td>no</td>\n",
       "      <td>207</td>\n",
       "      <td>limítrofe</td>\n",
       "      <td>55</td>\n",
       "      <td>132</td>\n",
       "      <td>limítrofe</td>\n",
       "      <td>100</td>\n",
       "      <td>normal</td>\n",
       "      <td>83</td>\n",
       "      <td>normal</td>\n",
       "    </tr>\n",
       "    <tr>\n",
       "      <th>48363</th>\n",
       "      <td>Mujer</td>\n",
       "      <td>41</td>\n",
       "      <td>40-49a</td>\n",
       "      <td>secundarios</td>\n",
       "      <td>I</td>\n",
       "      <td>si</td>\n",
       "      <td>si</td>\n",
       "      <td>no</td>\n",
       "      <td>165</td>\n",
       "      <td>68</td>\n",
       "      <td>25</td>\n",
       "      <td>130</td>\n",
       "      <td>80</td>\n",
       "      <td>preHTA</td>\n",
       "      <td>no</td>\n",
       "      <td>177</td>\n",
       "      <td>normal</td>\n",
       "      <td>57</td>\n",
       "      <td>108</td>\n",
       "      <td>normal</td>\n",
       "      <td>62</td>\n",
       "      <td>normal</td>\n",
       "      <td>68</td>\n",
       "      <td>normal</td>\n",
       "    </tr>\n",
       "    <tr>\n",
       "      <th>48364</th>\n",
       "      <td>Hombre</td>\n",
       "      <td>36</td>\n",
       "      <td>30-39a</td>\n",
       "      <td>secundarios</td>\n",
       "      <td>I</td>\n",
       "      <td>no</td>\n",
       "      <td>no</td>\n",
       "      <td>no</td>\n",
       "      <td>173</td>\n",
       "      <td>77</td>\n",
       "      <td>25,7</td>\n",
       "      <td>110</td>\n",
       "      <td>70</td>\n",
       "      <td>normal</td>\n",
       "      <td>no</td>\n",
       "      <td>244</td>\n",
       "      <td>alto</td>\n",
       "      <td>56</td>\n",
       "      <td>165</td>\n",
       "      <td>alto</td>\n",
       "      <td>113</td>\n",
       "      <td>normal</td>\n",
       "      <td>76</td>\n",
       "      <td>normal</td>\n",
       "    </tr>\n",
       "    <tr>\n",
       "      <th>48365</th>\n",
       "      <td>Hombre</td>\n",
       "      <td>42</td>\n",
       "      <td>40-49a</td>\n",
       "      <td>primarios</td>\n",
       "      <td>III</td>\n",
       "      <td>si</td>\n",
       "      <td>si</td>\n",
       "      <td>no</td>\n",
       "      <td>177,3</td>\n",
       "      <td>83</td>\n",
       "      <td>26,4</td>\n",
       "      <td>106</td>\n",
       "      <td>60</td>\n",
       "      <td>normal</td>\n",
       "      <td>no</td>\n",
       "      <td>198</td>\n",
       "      <td>normal</td>\n",
       "      <td>52</td>\n",
       "      <td>130</td>\n",
       "      <td>limítrofe</td>\n",
       "      <td>79</td>\n",
       "      <td>normal</td>\n",
       "      <td>86</td>\n",
       "      <td>normal</td>\n",
       "    </tr>\n",
       "  </tbody>\n",
       "</table>\n",
       "<p>48358 rows × 24 columns</p>\n",
       "</div>"
      ],
      "text/plain": [
       "         sexo  edad  edad_A        estudios clasesocial ejercicio  \\\n",
       "0       Mujer    57  50-59a     secundarios         III        si   \n",
       "1      Hombre    28  20-29a       primarios         III        si   \n",
       "2      Hombre    25  20-29a  universitarios           I        no   \n",
       "3      Hombre    50  50-59a     secundarios         III        no   \n",
       "4       Mujer    33  30-39a     secundarios          II        si   \n",
       "...       ...   ...     ...             ...         ...       ...   \n",
       "48361  Hombre    31  30-39a     secundarios          II        si   \n",
       "48362   Mujer    31  30-39a       primarios         III        si   \n",
       "48363   Mujer    41  40-49a     secundarios           I        si   \n",
       "48364  Hombre    36  30-39a     secundarios           I        no   \n",
       "48365  Hombre    42  40-49a       primarios         III        si   \n",
       "\n",
       "      alimentación tabaco altura  peso   IMC  TAS  TAD    TART HTA  \\\n",
       "0               no     no    166    62  22,5  110   70  normal  no   \n",
       "1               si     no  181,5    82  24,9  120   65  preHTA  no   \n",
       "2               no     no    177    69    22  120   55  preHTA  no   \n",
       "3               no     si    171    86  29,4  150  100   HTA 2  si   \n",
       "4               no     no    154    45    19  100   60  normal  no   \n",
       "...            ...    ...    ...   ...   ...  ...  ...     ...  ..   \n",
       "48361           si     no    186  89,5  25,9  110   80  preHTA  no   \n",
       "48362           si     no    161    64  24,7  100   60  normal  no   \n",
       "48363           si     no    165    68    25  130   80  preHTA  no   \n",
       "48364           no     no    173    77  25,7  110   70  normal  no   \n",
       "48365           si     no  177,3    83  26,4  106   60  normal  no   \n",
       "\n",
       "       COLESTEROL         CT  HDL  LDL      LDL_A  TRIGLICERIDOS      TG  \\\n",
       "0             185     normal   47  126     normal             61  normal   \n",
       "1             197     normal   58  126     normal             66  normal   \n",
       "2             229  limítrofe   50  159  limítrofe             98  normal   \n",
       "3             272       alto   47  206   muy alto             96  normal   \n",
       "4             191     normal   58  112     normal            105  normal   \n",
       "...           ...        ...  ...  ...        ...            ...     ...   \n",
       "48361         148     normal   61   69     normal             90  normal   \n",
       "48362         207  limítrofe   55  132  limítrofe            100  normal   \n",
       "48363         177     normal   57  108     normal             62  normal   \n",
       "48364         244       alto   56  165       alto            113  normal   \n",
       "48365         198     normal   52  130  limítrofe             79  normal   \n",
       "\n",
       "       GLUCEMIA         GLUC  \n",
       "0            84       normal  \n",
       "1            62       normal  \n",
       "2            83       normal  \n",
       "3           110  prediabetes  \n",
       "4            81       normal  \n",
       "...         ...          ...  \n",
       "48361        88       normal  \n",
       "48362        83       normal  \n",
       "48363        68       normal  \n",
       "48364        76       normal  \n",
       "48365        86       normal  \n",
       "\n",
       "[48358 rows x 24 columns]"
      ]
     },
     "execution_count": 19,
     "metadata": {},
     "output_type": "execute_result"
    }
   ],
   "source": [
    "df = df.iloc[:,:24]\n",
    "df"
   ]
  },
  {
   "cell_type": "code",
   "execution_count": 20,
   "id": "d36773f6",
   "metadata": {},
   "outputs": [],
   "source": [
    "#Y entre estos, voy a dejar solo unos pocos:"
   ]
  },
  {
   "cell_type": "code",
   "execution_count": 21,
   "id": "0d0af31b",
   "metadata": {},
   "outputs": [],
   "source": [
    "columnas_a_eliminar = [\"edad_A\", \"TAS\", \"TAD\", \"TART\", \"HTA\", \"HDL\", \"LDL\", \"LDL_A\", \"TRIGLICERIDOS\", \"TG\"]\n"
   ]
  },
  {
   "cell_type": "code",
   "execution_count": 22,
   "id": "86ae2630",
   "metadata": {},
   "outputs": [
    {
     "data": {
      "text/html": [
       "<div>\n",
       "<style scoped>\n",
       "    .dataframe tbody tr th:only-of-type {\n",
       "        vertical-align: middle;\n",
       "    }\n",
       "\n",
       "    .dataframe tbody tr th {\n",
       "        vertical-align: top;\n",
       "    }\n",
       "\n",
       "    .dataframe thead th {\n",
       "        text-align: right;\n",
       "    }\n",
       "</style>\n",
       "<table border=\"1\" class=\"dataframe\">\n",
       "  <thead>\n",
       "    <tr style=\"text-align: right;\">\n",
       "      <th></th>\n",
       "      <th>sexo</th>\n",
       "      <th>edad</th>\n",
       "      <th>estudios</th>\n",
       "      <th>clasesocial</th>\n",
       "      <th>ejercicio</th>\n",
       "      <th>alimentación</th>\n",
       "      <th>tabaco</th>\n",
       "      <th>altura</th>\n",
       "      <th>peso</th>\n",
       "      <th>IMC</th>\n",
       "      <th>COLESTEROL</th>\n",
       "      <th>CT</th>\n",
       "      <th>GLUCEMIA</th>\n",
       "      <th>GLUC</th>\n",
       "    </tr>\n",
       "  </thead>\n",
       "  <tbody>\n",
       "    <tr>\n",
       "      <th>0</th>\n",
       "      <td>Mujer</td>\n",
       "      <td>57</td>\n",
       "      <td>secundarios</td>\n",
       "      <td>III</td>\n",
       "      <td>si</td>\n",
       "      <td>no</td>\n",
       "      <td>no</td>\n",
       "      <td>166</td>\n",
       "      <td>62</td>\n",
       "      <td>22,5</td>\n",
       "      <td>185</td>\n",
       "      <td>normal</td>\n",
       "      <td>84</td>\n",
       "      <td>normal</td>\n",
       "    </tr>\n",
       "    <tr>\n",
       "      <th>1</th>\n",
       "      <td>Hombre</td>\n",
       "      <td>28</td>\n",
       "      <td>primarios</td>\n",
       "      <td>III</td>\n",
       "      <td>si</td>\n",
       "      <td>si</td>\n",
       "      <td>no</td>\n",
       "      <td>181,5</td>\n",
       "      <td>82</td>\n",
       "      <td>24,9</td>\n",
       "      <td>197</td>\n",
       "      <td>normal</td>\n",
       "      <td>62</td>\n",
       "      <td>normal</td>\n",
       "    </tr>\n",
       "    <tr>\n",
       "      <th>2</th>\n",
       "      <td>Hombre</td>\n",
       "      <td>25</td>\n",
       "      <td>universitarios</td>\n",
       "      <td>I</td>\n",
       "      <td>no</td>\n",
       "      <td>no</td>\n",
       "      <td>no</td>\n",
       "      <td>177</td>\n",
       "      <td>69</td>\n",
       "      <td>22</td>\n",
       "      <td>229</td>\n",
       "      <td>limítrofe</td>\n",
       "      <td>83</td>\n",
       "      <td>normal</td>\n",
       "    </tr>\n",
       "    <tr>\n",
       "      <th>3</th>\n",
       "      <td>Hombre</td>\n",
       "      <td>50</td>\n",
       "      <td>secundarios</td>\n",
       "      <td>III</td>\n",
       "      <td>no</td>\n",
       "      <td>no</td>\n",
       "      <td>si</td>\n",
       "      <td>171</td>\n",
       "      <td>86</td>\n",
       "      <td>29,4</td>\n",
       "      <td>272</td>\n",
       "      <td>alto</td>\n",
       "      <td>110</td>\n",
       "      <td>prediabetes</td>\n",
       "    </tr>\n",
       "    <tr>\n",
       "      <th>4</th>\n",
       "      <td>Mujer</td>\n",
       "      <td>33</td>\n",
       "      <td>secundarios</td>\n",
       "      <td>II</td>\n",
       "      <td>si</td>\n",
       "      <td>no</td>\n",
       "      <td>no</td>\n",
       "      <td>154</td>\n",
       "      <td>45</td>\n",
       "      <td>19</td>\n",
       "      <td>191</td>\n",
       "      <td>normal</td>\n",
       "      <td>81</td>\n",
       "      <td>normal</td>\n",
       "    </tr>\n",
       "    <tr>\n",
       "      <th>...</th>\n",
       "      <td>...</td>\n",
       "      <td>...</td>\n",
       "      <td>...</td>\n",
       "      <td>...</td>\n",
       "      <td>...</td>\n",
       "      <td>...</td>\n",
       "      <td>...</td>\n",
       "      <td>...</td>\n",
       "      <td>...</td>\n",
       "      <td>...</td>\n",
       "      <td>...</td>\n",
       "      <td>...</td>\n",
       "      <td>...</td>\n",
       "      <td>...</td>\n",
       "    </tr>\n",
       "    <tr>\n",
       "      <th>48361</th>\n",
       "      <td>Hombre</td>\n",
       "      <td>31</td>\n",
       "      <td>secundarios</td>\n",
       "      <td>II</td>\n",
       "      <td>si</td>\n",
       "      <td>si</td>\n",
       "      <td>no</td>\n",
       "      <td>186</td>\n",
       "      <td>89,5</td>\n",
       "      <td>25,9</td>\n",
       "      <td>148</td>\n",
       "      <td>normal</td>\n",
       "      <td>88</td>\n",
       "      <td>normal</td>\n",
       "    </tr>\n",
       "    <tr>\n",
       "      <th>48362</th>\n",
       "      <td>Mujer</td>\n",
       "      <td>31</td>\n",
       "      <td>primarios</td>\n",
       "      <td>III</td>\n",
       "      <td>si</td>\n",
       "      <td>si</td>\n",
       "      <td>no</td>\n",
       "      <td>161</td>\n",
       "      <td>64</td>\n",
       "      <td>24,7</td>\n",
       "      <td>207</td>\n",
       "      <td>limítrofe</td>\n",
       "      <td>83</td>\n",
       "      <td>normal</td>\n",
       "    </tr>\n",
       "    <tr>\n",
       "      <th>48363</th>\n",
       "      <td>Mujer</td>\n",
       "      <td>41</td>\n",
       "      <td>secundarios</td>\n",
       "      <td>I</td>\n",
       "      <td>si</td>\n",
       "      <td>si</td>\n",
       "      <td>no</td>\n",
       "      <td>165</td>\n",
       "      <td>68</td>\n",
       "      <td>25</td>\n",
       "      <td>177</td>\n",
       "      <td>normal</td>\n",
       "      <td>68</td>\n",
       "      <td>normal</td>\n",
       "    </tr>\n",
       "    <tr>\n",
       "      <th>48364</th>\n",
       "      <td>Hombre</td>\n",
       "      <td>36</td>\n",
       "      <td>secundarios</td>\n",
       "      <td>I</td>\n",
       "      <td>no</td>\n",
       "      <td>no</td>\n",
       "      <td>no</td>\n",
       "      <td>173</td>\n",
       "      <td>77</td>\n",
       "      <td>25,7</td>\n",
       "      <td>244</td>\n",
       "      <td>alto</td>\n",
       "      <td>76</td>\n",
       "      <td>normal</td>\n",
       "    </tr>\n",
       "    <tr>\n",
       "      <th>48365</th>\n",
       "      <td>Hombre</td>\n",
       "      <td>42</td>\n",
       "      <td>primarios</td>\n",
       "      <td>III</td>\n",
       "      <td>si</td>\n",
       "      <td>si</td>\n",
       "      <td>no</td>\n",
       "      <td>177,3</td>\n",
       "      <td>83</td>\n",
       "      <td>26,4</td>\n",
       "      <td>198</td>\n",
       "      <td>normal</td>\n",
       "      <td>86</td>\n",
       "      <td>normal</td>\n",
       "    </tr>\n",
       "  </tbody>\n",
       "</table>\n",
       "<p>48358 rows × 14 columns</p>\n",
       "</div>"
      ],
      "text/plain": [
       "         sexo  edad        estudios clasesocial ejercicio alimentación tabaco  \\\n",
       "0       Mujer    57     secundarios         III        si           no     no   \n",
       "1      Hombre    28       primarios         III        si           si     no   \n",
       "2      Hombre    25  universitarios           I        no           no     no   \n",
       "3      Hombre    50     secundarios         III        no           no     si   \n",
       "4       Mujer    33     secundarios          II        si           no     no   \n",
       "...       ...   ...             ...         ...       ...          ...    ...   \n",
       "48361  Hombre    31     secundarios          II        si           si     no   \n",
       "48362   Mujer    31       primarios         III        si           si     no   \n",
       "48363   Mujer    41     secundarios           I        si           si     no   \n",
       "48364  Hombre    36     secundarios           I        no           no     no   \n",
       "48365  Hombre    42       primarios         III        si           si     no   \n",
       "\n",
       "      altura  peso   IMC  COLESTEROL         CT  GLUCEMIA         GLUC  \n",
       "0        166    62  22,5         185     normal        84       normal  \n",
       "1      181,5    82  24,9         197     normal        62       normal  \n",
       "2        177    69    22         229  limítrofe        83       normal  \n",
       "3        171    86  29,4         272       alto       110  prediabetes  \n",
       "4        154    45    19         191     normal        81       normal  \n",
       "...      ...   ...   ...         ...        ...       ...          ...  \n",
       "48361    186  89,5  25,9         148     normal        88       normal  \n",
       "48362    161    64  24,7         207  limítrofe        83       normal  \n",
       "48363    165    68    25         177     normal        68       normal  \n",
       "48364    173    77  25,7         244       alto        76       normal  \n",
       "48365  177,3    83  26,4         198     normal        86       normal  \n",
       "\n",
       "[48358 rows x 14 columns]"
      ]
     },
     "execution_count": 22,
     "metadata": {},
     "output_type": "execute_result"
    }
   ],
   "source": [
    "df = df.drop(columnas_a_eliminar, axis=1)\n",
    "df"
   ]
  },
  {
   "cell_type": "code",
   "execution_count": 23,
   "id": "9181451f",
   "metadata": {},
   "outputs": [
    {
     "name": "stdout",
     "output_type": "stream",
     "text": [
      "<class 'pandas.core.frame.DataFrame'>\n",
      "Int64Index: 48358 entries, 0 to 48365\n",
      "Data columns (total 14 columns):\n",
      " #   Column        Non-Null Count  Dtype \n",
      "---  ------        --------------  ----- \n",
      " 0   sexo          48358 non-null  object\n",
      " 1   edad          48358 non-null  int64 \n",
      " 2   estudios      48358 non-null  object\n",
      " 3   clasesocial   48358 non-null  object\n",
      " 4   ejercicio     48358 non-null  object\n",
      " 5   alimentación  48358 non-null  object\n",
      " 6   tabaco        48358 non-null  object\n",
      " 7   altura        48358 non-null  object\n",
      " 8   peso          48358 non-null  object\n",
      " 9   IMC           48358 non-null  object\n",
      " 10  COLESTEROL    48358 non-null  int64 \n",
      " 11  CT            48358 non-null  object\n",
      " 12  GLUCEMIA      48358 non-null  int64 \n",
      " 13  GLUC          48358 non-null  object\n",
      "dtypes: int64(3), object(11)\n",
      "memory usage: 5.5+ MB\n"
     ]
    }
   ],
   "source": [
    "df.info()"
   ]
  },
  {
   "cell_type": "code",
   "execution_count": 24,
   "id": "acea02c3",
   "metadata": {},
   "outputs": [],
   "source": [
    "#Ahora voy a modificar el tipo de dato en algunas de las columnas para el mejor manejo del mismo, para después poder hacer agrpaciones de diferentes datos y poder proceder al estudio."
   ]
  },
  {
   "cell_type": "code",
   "execution_count": 25,
   "id": "1b26d8cd",
   "metadata": {},
   "outputs": [],
   "source": [
    "#en primer lugar, voy a convertir la altura, peso e IMC a int o float."
   ]
  },
  {
   "cell_type": "code",
   "execution_count": 26,
   "id": "f6bdd5f1",
   "metadata": {},
   "outputs": [],
   "source": [
    "df['altura'] = pd.to_numeric(df['altura'].str.replace(',', '.'))\n",
    "df['altura'] = df['altura'].astype('float64')"
   ]
  },
  {
   "cell_type": "code",
   "execution_count": 27,
   "id": "bf6d9496",
   "metadata": {},
   "outputs": [
    {
     "name": "stdout",
     "output_type": "stream",
     "text": [
      "<class 'pandas.core.frame.DataFrame'>\n",
      "Int64Index: 48358 entries, 0 to 48365\n",
      "Data columns (total 14 columns):\n",
      " #   Column        Non-Null Count  Dtype  \n",
      "---  ------        --------------  -----  \n",
      " 0   sexo          48358 non-null  object \n",
      " 1   edad          48358 non-null  int64  \n",
      " 2   estudios      48358 non-null  object \n",
      " 3   clasesocial   48358 non-null  object \n",
      " 4   ejercicio     48358 non-null  object \n",
      " 5   alimentación  48358 non-null  object \n",
      " 6   tabaco        48358 non-null  object \n",
      " 7   altura        48358 non-null  float64\n",
      " 8   peso          48358 non-null  object \n",
      " 9   IMC           48358 non-null  object \n",
      " 10  COLESTEROL    48358 non-null  int64  \n",
      " 11  CT            48358 non-null  object \n",
      " 12  GLUCEMIA      48358 non-null  int64  \n",
      " 13  GLUC          48358 non-null  object \n",
      "dtypes: float64(1), int64(3), object(10)\n",
      "memory usage: 5.5+ MB\n"
     ]
    }
   ],
   "source": [
    "df.info()"
   ]
  },
  {
   "cell_type": "code",
   "execution_count": 28,
   "id": "bc6620bb",
   "metadata": {},
   "outputs": [],
   "source": [
    "df['peso'] = pd.to_numeric(df['peso'].str.replace(',', '.'))\n",
    "df['peso'] = df['peso'].astype('float64')"
   ]
  },
  {
   "cell_type": "code",
   "execution_count": 29,
   "id": "178c8d1a",
   "metadata": {},
   "outputs": [],
   "source": [
    "df['IMC'] = pd.to_numeric(df['IMC'].str.replace(',', '.'))\n",
    "df['IMC'] = df['IMC'].astype('float64')"
   ]
  },
  {
   "cell_type": "code",
   "execution_count": 30,
   "id": "601a53bf",
   "metadata": {},
   "outputs": [
    {
     "name": "stdout",
     "output_type": "stream",
     "text": [
      "<class 'pandas.core.frame.DataFrame'>\n",
      "Int64Index: 48358 entries, 0 to 48365\n",
      "Data columns (total 14 columns):\n",
      " #   Column        Non-Null Count  Dtype  \n",
      "---  ------        --------------  -----  \n",
      " 0   sexo          48358 non-null  object \n",
      " 1   edad          48358 non-null  int64  \n",
      " 2   estudios      48358 non-null  object \n",
      " 3   clasesocial   48358 non-null  object \n",
      " 4   ejercicio     48358 non-null  object \n",
      " 5   alimentación  48358 non-null  object \n",
      " 6   tabaco        48358 non-null  object \n",
      " 7   altura        48358 non-null  float64\n",
      " 8   peso          48358 non-null  float64\n",
      " 9   IMC           48358 non-null  float64\n",
      " 10  COLESTEROL    48358 non-null  int64  \n",
      " 11  CT            48358 non-null  object \n",
      " 12  GLUCEMIA      48358 non-null  int64  \n",
      " 13  GLUC          48358 non-null  object \n",
      "dtypes: float64(3), int64(3), object(8)\n",
      "memory usage: 5.5+ MB\n"
     ]
    }
   ],
   "source": [
    "df.info()"
   ]
  },
  {
   "cell_type": "code",
   "execution_count": 31,
   "id": "35a6f320",
   "metadata": {},
   "outputs": [],
   "source": [
    "df.columns = df.columns.str.lower() #aqui cambio todos los nombres de columnas a minuscula"
   ]
  },
  {
   "cell_type": "code",
   "execution_count": 32,
   "id": "2b70bc35",
   "metadata": {},
   "outputs": [],
   "source": [
    "#Columna sexo"
   ]
  },
  {
   "cell_type": "code",
   "execution_count": 33,
   "id": "eaf26da1",
   "metadata": {},
   "outputs": [
    {
     "data": {
      "text/plain": [
       "array(['Mujer', 'Hombre'], dtype=object)"
      ]
     },
     "execution_count": 33,
     "metadata": {},
     "output_type": "execute_result"
    }
   ],
   "source": [
    "df.sexo.unique()"
   ]
  },
  {
   "cell_type": "code",
   "execution_count": 34,
   "id": "3a26da50",
   "metadata": {},
   "outputs": [],
   "source": [
    "df[\"sexo\"] = df[\"sexo\"].str.lower() #cambio el contenido de la columna a todo minúsculas."
   ]
  },
  {
   "cell_type": "code",
   "execution_count": 35,
   "id": "3996cab3",
   "metadata": {},
   "outputs": [
    {
     "data": {
      "text/plain": [
       "array([57, 28, 25, 50, 33, 38, 42, 41, 26, 32, 47, 62, 39, 34, 43, 46, 30,\n",
       "       52, 24, 45, 36, 58, 21, 31, 35, 20, 29, 53, 44, 37, 48, 54, 27, 40,\n",
       "       51, 56, 55, 60, 59, 49, 22, 63, 23, 64, 61, 67, 70, 68, 69, 65, 66])"
      ]
     },
     "execution_count": 35,
     "metadata": {},
     "output_type": "execute_result"
    }
   ],
   "source": [
    "df.edad.unique()"
   ]
  },
  {
   "cell_type": "code",
   "execution_count": 36,
   "id": "0c589781",
   "metadata": {},
   "outputs": [
    {
     "data": {
      "text/plain": [
       "39    1688\n",
       "38    1688\n",
       "37    1680\n",
       "36    1677\n",
       "35    1656\n",
       "40    1655\n",
       "34    1618\n",
       "33    1600\n",
       "41    1580\n",
       "44    1536\n",
       "32    1528\n",
       "43    1526\n",
       "42    1508\n",
       "31    1459\n",
       "30    1447\n",
       "46    1374\n",
       "45    1352\n",
       "47    1352\n",
       "29    1333\n",
       "28    1237\n",
       "48    1232\n",
       "49    1176\n",
       "50    1162\n",
       "27    1110\n",
       "26    1063\n",
       "51    1032\n",
       "52     959\n",
       "25     912\n",
       "53     892\n",
       "24     856\n",
       "54     775\n",
       "23     759\n",
       "55     678\n",
       "22     657\n",
       "56     633\n",
       "21     588\n",
       "57     565\n",
       "58     522\n",
       "59     475\n",
       "20     450\n",
       "60     376\n",
       "61     319\n",
       "62     238\n",
       "63     195\n",
       "64     139\n",
       "65      33\n",
       "66      22\n",
       "70      17\n",
       "67      15\n",
       "69       8\n",
       "68       6\n",
       "Name: edad, dtype: int64"
      ]
     },
     "execution_count": 36,
     "metadata": {},
     "output_type": "execute_result"
    }
   ],
   "source": [
    "df.edad.value_counts()"
   ]
  },
  {
   "cell_type": "code",
   "execution_count": 37,
   "id": "5fb9d1c0",
   "metadata": {},
   "outputs": [
    {
     "data": {
      "text/plain": [
       "array(['secundarios', 'primarios', 'universitarios'], dtype=object)"
      ]
     },
     "execution_count": 37,
     "metadata": {},
     "output_type": "execute_result"
    }
   ],
   "source": [
    "df.estudios.unique()"
   ]
  },
  {
   "cell_type": "code",
   "execution_count": 38,
   "id": "468a8f94",
   "metadata": {},
   "outputs": [],
   "source": [
    "df = df.rename(columns={'clasesocial': 'clase_social'}) #le cambio el nombre de la columna por comodidad."
   ]
  },
  {
   "cell_type": "code",
   "execution_count": 39,
   "id": "9b00ffbf",
   "metadata": {},
   "outputs": [
    {
     "data": {
      "text/plain": [
       "array(['III', 'I', 'II'], dtype=object)"
      ]
     },
     "execution_count": 39,
     "metadata": {},
     "output_type": "execute_result"
    }
   ],
   "source": [
    "df.clase_social.unique()"
   ]
  },
  {
   "cell_type": "code",
   "execution_count": 40,
   "id": "2c8fc151",
   "metadata": {},
   "outputs": [
    {
     "data": {
      "text/plain": [
       "array(['si', 'no'], dtype=object)"
      ]
     },
     "execution_count": 40,
     "metadata": {},
     "output_type": "execute_result"
    }
   ],
   "source": [
    "df.ejercicio.unique()"
   ]
  },
  {
   "cell_type": "code",
   "execution_count": 41,
   "id": "26ee2790",
   "metadata": {},
   "outputs": [],
   "source": [
    "df = df.rename(columns={'alimentación': 'dieta_mediterranea'}) #le cambio el nombre de la columna por comodidad."
   ]
  },
  {
   "cell_type": "code",
   "execution_count": 42,
   "id": "9bb2ea61",
   "metadata": {},
   "outputs": [
    {
     "data": {
      "text/plain": [
       "array(['no', 'si'], dtype=object)"
      ]
     },
     "execution_count": 42,
     "metadata": {},
     "output_type": "execute_result"
    }
   ],
   "source": [
    "df.dieta_mediterranea.unique()"
   ]
  },
  {
   "cell_type": "code",
   "execution_count": 43,
   "id": "b828a0c1",
   "metadata": {},
   "outputs": [
    {
     "data": {
      "text/plain": [
       "array(['no', 'si'], dtype=object)"
      ]
     },
     "execution_count": 43,
     "metadata": {},
     "output_type": "execute_result"
    }
   ],
   "source": [
    "df.tabaco.unique()"
   ]
  },
  {
   "cell_type": "code",
   "execution_count": 44,
   "id": "14c01761",
   "metadata": {},
   "outputs": [
    {
     "data": {
      "text/plain": [
       "array([166. , 181.5, 177. , 171. , 154. , 169. , 178. , 190. , 174.5,\n",
       "       181. , 156. , 176.5, 172. , 168. , 162. , 165. , 174. , 160.5,\n",
       "       164. , 179.5, 151.5, 161. , 176. , 159. , 158. , 173. , 160. ,\n",
       "       180. , 167. , 186. , 179. , 192. , 177.5, 175. , 163. , 158.5,\n",
       "       157. , 182. , 155. , 183. , 187. , 170.5, 150. , 170. , 164.5,\n",
       "       185. , 165.5, 161.5, 175.5, 178.5, 173.5, 149. , 188. , 159.5,\n",
       "       184. , 180.5, 172.5, 154.5, 168.5, 162.5, 163.5, 169.5, 145. ,\n",
       "       166.5, 185.5, 153. , 155.5, 152. , 191. , 148. , 167.5, 157.5,\n",
       "       171.5, 189. , 151. , 152.5, 146. , 193. , 192.5, 194.5, 153.5,\n",
       "       175.6, 147. , 182.5, 196. , 150.5, 189.5, 195. , 157.4, 194. ,\n",
       "       183.5, 142. , 191.5, 180.6, 144. , 156.5, 186.5, 143. , 184.5,\n",
       "       184.6, 185.6, 197. , 187.5, 147.5, 149.5, 200. , 148.5, 155.6,\n",
       "       203. , 199. , 146.5, 198. , 171.2, 202. , 141. , 171.6, 182.2,\n",
       "       188.5, 171.9, 190.5, 143.5, 140. , 201. , 195.5, 196.5, 170.3,\n",
       "       166.2, 166.8, 145.5, 144.5, 176.3, 163.4, 205. , 170.2, 169.2,\n",
       "       193.5, 175.4, 141.5, 161.7, 139.5, 159.8, 167.8, 154.4, 159.9,\n",
       "       158.9, 174.2, 169.8, 174.8, 171.8, 168.7, 198.5, 156.2, 169.9,\n",
       "       157.3, 168.8, 171.3, 168.3, 174.4, 177.3, 178.8, 179.7, 189.9])"
      ]
     },
     "execution_count": 44,
     "metadata": {},
     "output_type": "execute_result"
    }
   ],
   "source": [
    "df.altura.unique()"
   ]
  },
  {
   "cell_type": "code",
   "execution_count": 45,
   "id": "8f8ee2f9",
   "metadata": {},
   "outputs": [],
   "source": [
    "#df.peso.unique()"
   ]
  },
  {
   "cell_type": "code",
   "execution_count": 46,
   "id": "7043128b",
   "metadata": {},
   "outputs": [
    {
     "data": {
      "text/plain": [
       "70.0    1412\n",
       "80.0    1295\n",
       "72.0    1168\n",
       "75.0    1156\n",
       "73.0    1125\n",
       "        ... \n",
       "83.7       1\n",
       "51.7       1\n",
       "72.4       1\n",
       "65.2       1\n",
       "75.3       1\n",
       "Name: peso, Length: 515, dtype: int64"
      ]
     },
     "execution_count": 46,
     "metadata": {},
     "output_type": "execute_result"
    }
   ],
   "source": [
    "df.peso.value_counts()"
   ]
  },
  {
   "cell_type": "code",
   "execution_count": 47,
   "id": "cb47c54a",
   "metadata": {},
   "outputs": [],
   "source": [
    "#df.imc.unique()"
   ]
  },
  {
   "cell_type": "code",
   "execution_count": 48,
   "id": "5ec694be",
   "metadata": {},
   "outputs": [
    {
     "data": {
      "text/plain": [
       "28.7    608\n",
       "28.4    578\n",
       "24.2    572\n",
       "24.7    541\n",
       "29.4    532\n",
       "       ... \n",
       "49.8      1\n",
       "49.6      1\n",
       "15.9      1\n",
       "47.7      1\n",
       "54.7      1\n",
       "Name: imc, Length: 354, dtype: int64"
      ]
     },
     "execution_count": 48,
     "metadata": {},
     "output_type": "execute_result"
    }
   ],
   "source": [
    "df.imc.value_counts()"
   ]
  },
  {
   "cell_type": "code",
   "execution_count": 49,
   "id": "1976ccf0",
   "metadata": {},
   "outputs": [],
   "source": [
    "#df.colesterol.unique()"
   ]
  },
  {
   "cell_type": "code",
   "execution_count": 50,
   "id": "d9acd7a9",
   "metadata": {},
   "outputs": [
    {
     "data": {
      "text/plain": [
       "195    575\n",
       "201    538\n",
       "192    534\n",
       "198    532\n",
       "188    528\n",
       "      ... \n",
       "379      1\n",
       "390      1\n",
       "352      1\n",
       "363      1\n",
       "341      1\n",
       "Name: colesterol, Length: 301, dtype: int64"
      ]
     },
     "execution_count": 50,
     "metadata": {},
     "output_type": "execute_result"
    }
   ],
   "source": [
    "df.colesterol.value_counts()"
   ]
  },
  {
   "cell_type": "code",
   "execution_count": 51,
   "id": "63878c88",
   "metadata": {},
   "outputs": [
    {
     "data": {
      "text/plain": [
       "array(['normal', 'limítrofe', 'alto'], dtype=object)"
      ]
     },
     "execution_count": 51,
     "metadata": {},
     "output_type": "execute_result"
    }
   ],
   "source": [
    "df.ct.unique() #si pone limítrofe, poner limitrofe"
   ]
  },
  {
   "cell_type": "code",
   "execution_count": 52,
   "id": "02ba50b3",
   "metadata": {},
   "outputs": [],
   "source": [
    "df = df.replace([\"limítrofe\"], \"limitrofe\") #quito tildes"
   ]
  },
  {
   "cell_type": "code",
   "execution_count": 53,
   "id": "81780d54",
   "metadata": {},
   "outputs": [
    {
     "data": {
      "text/plain": [
       "array([ 84,  62,  83, 110,  81,  79,  82,  73,  66,  71,  91, 121,  88,\n",
       "        77,  98, 105,  94,  95,  72,  89,  97, 100,  76,  93,  70,  74,\n",
       "        92,  75,  87,  96,  90,  85,  78, 109, 128,  86,  38,  99, 134,\n",
       "       122, 149,  80, 102, 103, 113,  67,  68, 106, 112, 117, 111, 101,\n",
       "       104, 114, 142,  64,  28,  58, 107,  52, 120,  59, 116,  61, 115,\n",
       "        69, 145, 125, 130, 119, 131, 136,  63, 127, 108, 135,  65,  60,\n",
       "       126, 148, 118, 129, 139,  55, 146, 124,  53,  51, 138,  45,  57,\n",
       "       132, 143, 123, 133,  48,  44, 140, 137,  50, 156,  54, 147, 144,\n",
       "        56, 141,  43, 152, 154,  49,  41,  47, 248, 153,  35, 198,  26])"
      ]
     },
     "execution_count": 53,
     "metadata": {},
     "output_type": "execute_result"
    }
   ],
   "source": [
    "df.glucemia.unique()"
   ]
  },
  {
   "cell_type": "code",
   "execution_count": 54,
   "id": "e1385000",
   "metadata": {},
   "outputs": [
    {
     "data": {
      "text/plain": [
       "87     1707\n",
       "85     1670\n",
       "89     1620\n",
       "84     1583\n",
       "86     1571\n",
       "       ... \n",
       "154       1\n",
       "38        1\n",
       "28        1\n",
       "156       1\n",
       "26        1\n",
       "Name: glucemia, Length: 117, dtype: int64"
      ]
     },
     "execution_count": 54,
     "metadata": {},
     "output_type": "execute_result"
    }
   ],
   "source": [
    "df.glucemia.value_counts()"
   ]
  },
  {
   "cell_type": "code",
   "execution_count": 55,
   "id": "ed6ed7f7",
   "metadata": {},
   "outputs": [
    {
     "data": {
      "text/plain": [
       "array(['normal', 'prediabetes', 'diabetes'], dtype=object)"
      ]
     },
     "execution_count": 55,
     "metadata": {},
     "output_type": "execute_result"
    }
   ],
   "source": [
    "df.gluc.unique()\n",
    "    "
   ]
  },
  {
   "cell_type": "code",
   "execution_count": 56,
   "id": "74e8b233",
   "metadata": {},
   "outputs": [],
   "source": [
    "#Procedemos a agrupar:"
   ]
  },
  {
   "cell_type": "code",
   "execution_count": 57,
   "id": "1651eea5",
   "metadata": {},
   "outputs": [
    {
     "name": "stdout",
     "output_type": "stream",
     "text": [
      "<class 'pandas.core.frame.DataFrame'>\n",
      "Int64Index: 48358 entries, 0 to 48365\n",
      "Data columns (total 14 columns):\n",
      " #   Column              Non-Null Count  Dtype  \n",
      "---  ------              --------------  -----  \n",
      " 0   sexo                48358 non-null  object \n",
      " 1   edad                48358 non-null  int64  \n",
      " 2   estudios            48358 non-null  object \n",
      " 3   clase_social        48358 non-null  object \n",
      " 4   ejercicio           48358 non-null  object \n",
      " 5   dieta_mediterranea  48358 non-null  object \n",
      " 6   tabaco              48358 non-null  object \n",
      " 7   altura              48358 non-null  float64\n",
      " 8   peso                48358 non-null  float64\n",
      " 9   imc                 48358 non-null  float64\n",
      " 10  colesterol          48358 non-null  int64  \n",
      " 11  ct                  48358 non-null  object \n",
      " 12  glucemia            48358 non-null  int64  \n",
      " 13  gluc                48358 non-null  object \n",
      "dtypes: float64(3), int64(3), object(8)\n",
      "memory usage: 5.5+ MB\n"
     ]
    }
   ],
   "source": [
    "df.info()"
   ]
  },
  {
   "cell_type": "code",
   "execution_count": 58,
   "id": "e78b05de",
   "metadata": {},
   "outputs": [
    {
     "data": {
      "text/html": [
       "<div>\n",
       "<style scoped>\n",
       "    .dataframe tbody tr th:only-of-type {\n",
       "        vertical-align: middle;\n",
       "    }\n",
       "\n",
       "    .dataframe tbody tr th {\n",
       "        vertical-align: top;\n",
       "    }\n",
       "\n",
       "    .dataframe thead th {\n",
       "        text-align: right;\n",
       "    }\n",
       "</style>\n",
       "<table border=\"1\" class=\"dataframe\">\n",
       "  <thead>\n",
       "    <tr style=\"text-align: right;\">\n",
       "      <th></th>\n",
       "      <th>count</th>\n",
       "      <th>mean</th>\n",
       "      <th>std</th>\n",
       "      <th>min</th>\n",
       "      <th>25%</th>\n",
       "      <th>50%</th>\n",
       "      <th>75%</th>\n",
       "      <th>max</th>\n",
       "    </tr>\n",
       "  </thead>\n",
       "  <tbody>\n",
       "    <tr>\n",
       "      <th>edad</th>\n",
       "      <td>48358.0</td>\n",
       "      <td>39.556289</td>\n",
       "      <td>10.265885</td>\n",
       "      <td>20.0</td>\n",
       "      <td>32.0</td>\n",
       "      <td>39.0</td>\n",
       "      <td>47.0</td>\n",
       "      <td>70.0</td>\n",
       "    </tr>\n",
       "    <tr>\n",
       "      <th>altura</th>\n",
       "      <td>48358.0</td>\n",
       "      <td>168.865946</td>\n",
       "      <td>9.275402</td>\n",
       "      <td>139.5</td>\n",
       "      <td>162.0</td>\n",
       "      <td>169.0</td>\n",
       "      <td>175.0</td>\n",
       "      <td>205.0</td>\n",
       "    </tr>\n",
       "    <tr>\n",
       "      <th>peso</th>\n",
       "      <td>48358.0</td>\n",
       "      <td>74.819203</td>\n",
       "      <td>15.647514</td>\n",
       "      <td>35.0</td>\n",
       "      <td>63.0</td>\n",
       "      <td>74.0</td>\n",
       "      <td>84.0</td>\n",
       "      <td>176.0</td>\n",
       "    </tr>\n",
       "    <tr>\n",
       "      <th>imc</th>\n",
       "      <td>48358.0</td>\n",
       "      <td>26.136548</td>\n",
       "      <td>4.572618</td>\n",
       "      <td>15.1</td>\n",
       "      <td>22.9</td>\n",
       "      <td>25.5</td>\n",
       "      <td>28.7</td>\n",
       "      <td>56.2</td>\n",
       "    </tr>\n",
       "    <tr>\n",
       "      <th>colesterol</th>\n",
       "      <td>48358.0</td>\n",
       "      <td>194.990012</td>\n",
       "      <td>37.942506</td>\n",
       "      <td>80.0</td>\n",
       "      <td>168.0</td>\n",
       "      <td>193.0</td>\n",
       "      <td>218.0</td>\n",
       "      <td>579.0</td>\n",
       "    </tr>\n",
       "    <tr>\n",
       "      <th>glucemia</th>\n",
       "      <td>48358.0</td>\n",
       "      <td>86.508520</td>\n",
       "      <td>12.528603</td>\n",
       "      <td>26.0</td>\n",
       "      <td>78.0</td>\n",
       "      <td>86.0</td>\n",
       "      <td>94.0</td>\n",
       "      <td>248.0</td>\n",
       "    </tr>\n",
       "  </tbody>\n",
       "</table>\n",
       "</div>"
      ],
      "text/plain": [
       "              count        mean        std    min    25%    50%    75%    max\n",
       "edad        48358.0   39.556289  10.265885   20.0   32.0   39.0   47.0   70.0\n",
       "altura      48358.0  168.865946   9.275402  139.5  162.0  169.0  175.0  205.0\n",
       "peso        48358.0   74.819203  15.647514   35.0   63.0   74.0   84.0  176.0\n",
       "imc         48358.0   26.136548   4.572618   15.1   22.9   25.5   28.7   56.2\n",
       "colesterol  48358.0  194.990012  37.942506   80.0  168.0  193.0  218.0  579.0\n",
       "glucemia    48358.0   86.508520  12.528603   26.0   78.0   86.0   94.0  248.0"
      ]
     },
     "execution_count": 58,
     "metadata": {},
     "output_type": "execute_result"
    }
   ],
   "source": [
    "df.describe().T"
   ]
  },
  {
   "cell_type": "code",
   "execution_count": 59,
   "id": "e5bcc730",
   "metadata": {},
   "outputs": [
    {
     "data": {
      "text/html": [
       "<div>\n",
       "<style scoped>\n",
       "    .dataframe tbody tr th:only-of-type {\n",
       "        vertical-align: middle;\n",
       "    }\n",
       "\n",
       "    .dataframe tbody tr th {\n",
       "        vertical-align: top;\n",
       "    }\n",
       "\n",
       "    .dataframe thead th {\n",
       "        text-align: right;\n",
       "    }\n",
       "</style>\n",
       "<table border=\"1\" class=\"dataframe\">\n",
       "  <thead>\n",
       "    <tr style=\"text-align: right;\">\n",
       "      <th></th>\n",
       "      <th>sexo</th>\n",
       "      <th>estudios</th>\n",
       "      <th>clase_social</th>\n",
       "      <th>ejercicio</th>\n",
       "      <th>dieta_mediterranea</th>\n",
       "      <th>tabaco</th>\n",
       "      <th>ct</th>\n",
       "      <th>gluc</th>\n",
       "    </tr>\n",
       "  </thead>\n",
       "  <tbody>\n",
       "    <tr>\n",
       "      <th>count</th>\n",
       "      <td>48358</td>\n",
       "      <td>48358</td>\n",
       "      <td>48358</td>\n",
       "      <td>48358</td>\n",
       "      <td>48358</td>\n",
       "      <td>48358</td>\n",
       "      <td>48358</td>\n",
       "      <td>48358</td>\n",
       "    </tr>\n",
       "    <tr>\n",
       "      <th>unique</th>\n",
       "      <td>2</td>\n",
       "      <td>3</td>\n",
       "      <td>3</td>\n",
       "      <td>2</td>\n",
       "      <td>2</td>\n",
       "      <td>2</td>\n",
       "      <td>3</td>\n",
       "      <td>3</td>\n",
       "    </tr>\n",
       "    <tr>\n",
       "      <th>top</th>\n",
       "      <td>hombre</td>\n",
       "      <td>primarios</td>\n",
       "      <td>III</td>\n",
       "      <td>no</td>\n",
       "      <td>no</td>\n",
       "      <td>no</td>\n",
       "      <td>normal</td>\n",
       "      <td>normal</td>\n",
       "    </tr>\n",
       "    <tr>\n",
       "      <th>freq</th>\n",
       "      <td>29097</td>\n",
       "      <td>27782</td>\n",
       "      <td>33998</td>\n",
       "      <td>25059</td>\n",
       "      <td>26533</td>\n",
       "      <td>31219</td>\n",
       "      <td>27264</td>\n",
       "      <td>42193</td>\n",
       "    </tr>\n",
       "  </tbody>\n",
       "</table>\n",
       "</div>"
      ],
      "text/plain": [
       "          sexo   estudios clase_social ejercicio dieta_mediterranea tabaco  \\\n",
       "count    48358      48358        48358     48358              48358  48358   \n",
       "unique       2          3            3         2                  2      2   \n",
       "top     hombre  primarios          III        no                 no     no   \n",
       "freq     29097      27782        33998     25059              26533  31219   \n",
       "\n",
       "            ct    gluc  \n",
       "count    48358   48358  \n",
       "unique       3       3  \n",
       "top     normal  normal  \n",
       "freq     27264   42193  "
      ]
     },
     "execution_count": 59,
     "metadata": {},
     "output_type": "execute_result"
    }
   ],
   "source": [
    "df.describe(include = \"object\")"
   ]
  },
  {
   "cell_type": "code",
   "execution_count": 60,
   "id": "891f1888",
   "metadata": {},
   "outputs": [
    {
     "data": {
      "text/html": [
       "<div>\n",
       "<style scoped>\n",
       "    .dataframe tbody tr th:only-of-type {\n",
       "        vertical-align: middle;\n",
       "    }\n",
       "\n",
       "    .dataframe tbody tr th {\n",
       "        vertical-align: top;\n",
       "    }\n",
       "\n",
       "    .dataframe thead th {\n",
       "        text-align: right;\n",
       "    }\n",
       "</style>\n",
       "<table border=\"1\" class=\"dataframe\">\n",
       "  <thead>\n",
       "    <tr style=\"text-align: right;\">\n",
       "      <th></th>\n",
       "      <th>count</th>\n",
       "      <th>mean</th>\n",
       "      <th>std</th>\n",
       "      <th>min</th>\n",
       "      <th>25%</th>\n",
       "      <th>50%</th>\n",
       "      <th>75%</th>\n",
       "      <th>max</th>\n",
       "      <th>IQR</th>\n",
       "    </tr>\n",
       "  </thead>\n",
       "  <tbody>\n",
       "    <tr>\n",
       "      <th>edad</th>\n",
       "      <td>48358.0</td>\n",
       "      <td>39.556289</td>\n",
       "      <td>10.265885</td>\n",
       "      <td>20.0</td>\n",
       "      <td>32.0</td>\n",
       "      <td>39.0</td>\n",
       "      <td>47.0</td>\n",
       "      <td>70.0</td>\n",
       "      <td>15.0</td>\n",
       "    </tr>\n",
       "    <tr>\n",
       "      <th>altura</th>\n",
       "      <td>48358.0</td>\n",
       "      <td>168.865946</td>\n",
       "      <td>9.275402</td>\n",
       "      <td>139.5</td>\n",
       "      <td>162.0</td>\n",
       "      <td>169.0</td>\n",
       "      <td>175.0</td>\n",
       "      <td>205.0</td>\n",
       "      <td>13.0</td>\n",
       "    </tr>\n",
       "    <tr>\n",
       "      <th>peso</th>\n",
       "      <td>48358.0</td>\n",
       "      <td>74.819203</td>\n",
       "      <td>15.647514</td>\n",
       "      <td>35.0</td>\n",
       "      <td>63.0</td>\n",
       "      <td>74.0</td>\n",
       "      <td>84.0</td>\n",
       "      <td>176.0</td>\n",
       "      <td>21.0</td>\n",
       "    </tr>\n",
       "    <tr>\n",
       "      <th>imc</th>\n",
       "      <td>48358.0</td>\n",
       "      <td>26.136548</td>\n",
       "      <td>4.572618</td>\n",
       "      <td>15.1</td>\n",
       "      <td>22.9</td>\n",
       "      <td>25.5</td>\n",
       "      <td>28.7</td>\n",
       "      <td>56.2</td>\n",
       "      <td>5.8</td>\n",
       "    </tr>\n",
       "    <tr>\n",
       "      <th>colesterol</th>\n",
       "      <td>48358.0</td>\n",
       "      <td>194.990012</td>\n",
       "      <td>37.942506</td>\n",
       "      <td>80.0</td>\n",
       "      <td>168.0</td>\n",
       "      <td>193.0</td>\n",
       "      <td>218.0</td>\n",
       "      <td>579.0</td>\n",
       "      <td>50.0</td>\n",
       "    </tr>\n",
       "    <tr>\n",
       "      <th>glucemia</th>\n",
       "      <td>48358.0</td>\n",
       "      <td>86.508520</td>\n",
       "      <td>12.528603</td>\n",
       "      <td>26.0</td>\n",
       "      <td>78.0</td>\n",
       "      <td>86.0</td>\n",
       "      <td>94.0</td>\n",
       "      <td>248.0</td>\n",
       "      <td>16.0</td>\n",
       "    </tr>\n",
       "  </tbody>\n",
       "</table>\n",
       "</div>"
      ],
      "text/plain": [
       "              count        mean        std    min    25%    50%    75%    max  \\\n",
       "edad        48358.0   39.556289  10.265885   20.0   32.0   39.0   47.0   70.0   \n",
       "altura      48358.0  168.865946   9.275402  139.5  162.0  169.0  175.0  205.0   \n",
       "peso        48358.0   74.819203  15.647514   35.0   63.0   74.0   84.0  176.0   \n",
       "imc         48358.0   26.136548   4.572618   15.1   22.9   25.5   28.7   56.2   \n",
       "colesterol  48358.0  194.990012  37.942506   80.0  168.0  193.0  218.0  579.0   \n",
       "glucemia    48358.0   86.508520  12.528603   26.0   78.0   86.0   94.0  248.0   \n",
       "\n",
       "             IQR  \n",
       "edad        15.0  \n",
       "altura      13.0  \n",
       "peso        21.0  \n",
       "imc          5.8  \n",
       "colesterol  50.0  \n",
       "glucemia    16.0  "
      ]
     },
     "execution_count": 60,
     "metadata": {},
     "output_type": "execute_result"
    }
   ],
   "source": [
    "stats = df.describe().T\n",
    "\n",
    "stats['IQR'] = stats['75%'] - stats['25%']\n",
    "\n",
    "stats"
   ]
  },
  {
   "cell_type": "code",
   "execution_count": 61,
   "id": "7d180c26",
   "metadata": {},
   "outputs": [
    {
     "data": {
      "image/png": "[encoded data removed]",
      "text/plain": [
       "<Figure size 1500x800 with 1 Axes>"
      ]
     },
     "metadata": {},
     "output_type": "display_data"
    }
   ],
   "source": [
    "df.boxplot(figsize=(15, 8));"
   ]
  },
  {
   "cell_type": "code",
   "execution_count": null,
   "id": "8527edb9",
   "metadata": {},
   "outputs": [],
   "source": [
    "df[['colesterol']].boxplot(figsize=(15, 8));"
   ]
  },
  {
   "cell_type": "markdown",
   "id": "b6c32f1d",
   "metadata": {},
   "source": [
    "# 2. Exploración CSV 2. "
   ]
  },
  {
   "cell_type": "code",
   "execution_count": 62,
   "id": "e2b406c4",
   "metadata": {},
   "outputs": [],
   "source": [
    "df2_original = pd.read_csv('data/poblacion_total_español_edad_sexo.csv', sep=';', encoding='ISO-8859-1')\n",
    "\n",
    "df2 = df2_original.copy()"
   ]
  },
  {
   "cell_type": "code",
   "execution_count": 63,
   "id": "6a3bd83e",
   "metadata": {},
   "outputs": [
    {
     "data": {
      "text/plain": [
       "(1484, 7)"
      ]
     },
     "execution_count": 63,
     "metadata": {},
     "output_type": "execute_result"
    }
   ],
   "source": [
    "dim2_original = df2.shape # De esta forma guardo las dimensiones del data frame original.\n",
    "\n",
    "df2.shape"
   ]
  },
  {
   "cell_type": "code",
   "execution_count": 64,
   "id": "2e21cb33",
   "metadata": {},
   "outputs": [
    {
     "data": {
      "text/html": [
       "<div>\n",
       "<style scoped>\n",
       "    .dataframe tbody tr th:only-of-type {\n",
       "        vertical-align: middle;\n",
       "    }\n",
       "\n",
       "    .dataframe tbody tr th {\n",
       "        vertical-align: top;\n",
       "    }\n",
       "\n",
       "    .dataframe thead th {\n",
       "        text-align: right;\n",
       "    }\n",
       "</style>\n",
       "<table border=\"1\" class=\"dataframe\">\n",
       "  <thead>\n",
       "    <tr style=\"text-align: right;\">\n",
       "      <th></th>\n",
       "      <th>Total Nacional</th>\n",
       "      <th>Comunidades y Ciudades Autónomas</th>\n",
       "      <th>Edad (año a año)</th>\n",
       "      <th>Españoles/Extranjeros</th>\n",
       "      <th>Sexo</th>\n",
       "      <th>Año</th>\n",
       "      <th>Total</th>\n",
       "    </tr>\n",
       "  </thead>\n",
       "  <tbody>\n",
       "    <tr>\n",
       "      <th>0</th>\n",
       "      <td>Total Nacional</td>\n",
       "      <td>NaN</td>\n",
       "      <td>18 años</td>\n",
       "      <td>Españoles</td>\n",
       "      <td>Hombres</td>\n",
       "      <td>2006</td>\n",
       "      <td>221.811</td>\n",
       "    </tr>\n",
       "    <tr>\n",
       "      <th>1</th>\n",
       "      <td>Total Nacional</td>\n",
       "      <td>NaN</td>\n",
       "      <td>18 años</td>\n",
       "      <td>Españoles</td>\n",
       "      <td>Hombres</td>\n",
       "      <td>2005</td>\n",
       "      <td>227.872</td>\n",
       "    </tr>\n",
       "    <tr>\n",
       "      <th>2</th>\n",
       "      <td>Total Nacional</td>\n",
       "      <td>NaN</td>\n",
       "      <td>18 años</td>\n",
       "      <td>Españoles</td>\n",
       "      <td>Hombres</td>\n",
       "      <td>2004</td>\n",
       "      <td>236.595</td>\n",
       "    </tr>\n",
       "    <tr>\n",
       "      <th>3</th>\n",
       "      <td>Total Nacional</td>\n",
       "      <td>NaN</td>\n",
       "      <td>18 años</td>\n",
       "      <td>Españoles</td>\n",
       "      <td>Hombres</td>\n",
       "      <td>2003</td>\n",
       "      <td>246.163</td>\n",
       "    </tr>\n",
       "    <tr>\n",
       "      <th>4</th>\n",
       "      <td>Total Nacional</td>\n",
       "      <td>NaN</td>\n",
       "      <td>18 años</td>\n",
       "      <td>Españoles</td>\n",
       "      <td>Hombres</td>\n",
       "      <td>2002</td>\n",
       "      <td>254.126</td>\n",
       "    </tr>\n",
       "  </tbody>\n",
       "</table>\n",
       "</div>"
      ],
      "text/plain": [
       "   Total Nacional  Comunidades y Ciudades Autónomas Edad (año a año)  \\\n",
       "0  Total Nacional                               NaN          18 años   \n",
       "1  Total Nacional                               NaN          18 años   \n",
       "2  Total Nacional                               NaN          18 años   \n",
       "3  Total Nacional                               NaN          18 años   \n",
       "4  Total Nacional                               NaN          18 años   \n",
       "\n",
       "  Españoles/Extranjeros     Sexo   Año    Total  \n",
       "0             Españoles  Hombres  2006  221.811  \n",
       "1             Españoles  Hombres  2005  227.872  \n",
       "2             Españoles  Hombres  2004  236.595  \n",
       "3             Españoles  Hombres  2003  246.163  \n",
       "4             Españoles  Hombres  2002  254.126  "
      ]
     },
     "execution_count": 64,
     "metadata": {},
     "output_type": "execute_result"
    }
   ],
   "source": [
    "df2.head()"
   ]
  },
  {
   "cell_type": "code",
   "execution_count": 65,
   "id": "cfb92881",
   "metadata": {},
   "outputs": [
    {
     "data": {
      "text/plain": [
       "Index(['Total Nacional', 'Comunidades y Ciudades Autónomas',\n",
       "       'Edad (año a año)', 'Españoles/Extranjeros', 'Sexo', 'Año', 'Total'],\n",
       "      dtype='object')"
      ]
     },
     "execution_count": 65,
     "metadata": {},
     "output_type": "execute_result"
    }
   ],
   "source": [
    "df2.columns"
   ]
  },
  {
   "cell_type": "code",
   "execution_count": 66,
   "id": "773769e6",
   "metadata": {},
   "outputs": [],
   "source": [
    "#juntarlo por edad sexo y así sabes la gente realmente que hay."
   ]
  },
  {
   "cell_type": "code",
   "execution_count": 67,
   "id": "edb40d36",
   "metadata": {},
   "outputs": [
    {
     "name": "stdout",
     "output_type": "stream",
     "text": [
      "<class 'pandas.core.frame.DataFrame'>\n",
      "RangeIndex: 1484 entries, 0 to 1483\n",
      "Data columns (total 7 columns):\n",
      " #   Column                            Non-Null Count  Dtype  \n",
      "---  ------                            --------------  -----  \n",
      " 0   Total Nacional                    1484 non-null   object \n",
      " 1   Comunidades y Ciudades Autónomas  0 non-null      float64\n",
      " 2   Edad (año a año)                  1484 non-null   object \n",
      " 3   Españoles/Extranjeros             1484 non-null   object \n",
      " 4   Sexo                              1484 non-null   object \n",
      " 5   Año                               1484 non-null   int64  \n",
      " 6   Total                             1484 non-null   float64\n",
      "dtypes: float64(2), int64(1), object(4)\n",
      "memory usage: 81.3+ KB\n"
     ]
    }
   ],
   "source": [
    "df2.info()"
   ]
  },
  {
   "cell_type": "code",
   "execution_count": 68,
   "id": "d087dd1f",
   "metadata": {},
   "outputs": [
    {
     "data": {
      "text/plain": [
       "False"
      ]
     },
     "execution_count": 68,
     "metadata": {},
     "output_type": "execute_result"
    }
   ],
   "source": [
    "df2.duplicated().any() "
   ]
  },
  {
   "cell_type": "code",
   "execution_count": 69,
   "id": "912c4721",
   "metadata": {},
   "outputs": [],
   "source": [
    "columnas_a_eliminar = [\"Total Nacional\", \"Comunidades y Ciudades Autónomas\", \"Españoles/Extranjeros\"]"
   ]
  },
  {
   "cell_type": "code",
   "execution_count": 70,
   "id": "4759cf95",
   "metadata": {},
   "outputs": [
    {
     "data": {
      "text/html": [
       "<div>\n",
       "<style scoped>\n",
       "    .dataframe tbody tr th:only-of-type {\n",
       "        vertical-align: middle;\n",
       "    }\n",
       "\n",
       "    .dataframe tbody tr th {\n",
       "        vertical-align: top;\n",
       "    }\n",
       "\n",
       "    .dataframe thead th {\n",
       "        text-align: right;\n",
       "    }\n",
       "</style>\n",
       "<table border=\"1\" class=\"dataframe\">\n",
       "  <thead>\n",
       "    <tr style=\"text-align: right;\">\n",
       "      <th></th>\n",
       "      <th>Edad (año a año)</th>\n",
       "      <th>Sexo</th>\n",
       "      <th>Año</th>\n",
       "      <th>Total</th>\n",
       "    </tr>\n",
       "  </thead>\n",
       "  <tbody>\n",
       "    <tr>\n",
       "      <th>0</th>\n",
       "      <td>18 años</td>\n",
       "      <td>Hombres</td>\n",
       "      <td>2006</td>\n",
       "      <td>221.811</td>\n",
       "    </tr>\n",
       "    <tr>\n",
       "      <th>1</th>\n",
       "      <td>18 años</td>\n",
       "      <td>Hombres</td>\n",
       "      <td>2005</td>\n",
       "      <td>227.872</td>\n",
       "    </tr>\n",
       "    <tr>\n",
       "      <th>2</th>\n",
       "      <td>18 años</td>\n",
       "      <td>Hombres</td>\n",
       "      <td>2004</td>\n",
       "      <td>236.595</td>\n",
       "    </tr>\n",
       "    <tr>\n",
       "      <th>3</th>\n",
       "      <td>18 años</td>\n",
       "      <td>Hombres</td>\n",
       "      <td>2003</td>\n",
       "      <td>246.163</td>\n",
       "    </tr>\n",
       "    <tr>\n",
       "      <th>4</th>\n",
       "      <td>18 años</td>\n",
       "      <td>Hombres</td>\n",
       "      <td>2002</td>\n",
       "      <td>254.126</td>\n",
       "    </tr>\n",
       "    <tr>\n",
       "      <th>...</th>\n",
       "      <td>...</td>\n",
       "      <td>...</td>\n",
       "      <td>...</td>\n",
       "      <td>...</td>\n",
       "    </tr>\n",
       "    <tr>\n",
       "      <th>1479</th>\n",
       "      <td>70 años</td>\n",
       "      <td>Mujeres</td>\n",
       "      <td>2004</td>\n",
       "      <td>4.450</td>\n",
       "    </tr>\n",
       "    <tr>\n",
       "      <th>1480</th>\n",
       "      <td>70 años</td>\n",
       "      <td>Mujeres</td>\n",
       "      <td>2003</td>\n",
       "      <td>4.572</td>\n",
       "    </tr>\n",
       "    <tr>\n",
       "      <th>1481</th>\n",
       "      <td>70 años</td>\n",
       "      <td>Mujeres</td>\n",
       "      <td>2002</td>\n",
       "      <td>3.688</td>\n",
       "    </tr>\n",
       "    <tr>\n",
       "      <th>1482</th>\n",
       "      <td>70 años</td>\n",
       "      <td>Mujeres</td>\n",
       "      <td>2001</td>\n",
       "      <td>3.563</td>\n",
       "    </tr>\n",
       "    <tr>\n",
       "      <th>1483</th>\n",
       "      <td>70 años</td>\n",
       "      <td>Mujeres</td>\n",
       "      <td>2000</td>\n",
       "      <td>2.965</td>\n",
       "    </tr>\n",
       "  </tbody>\n",
       "</table>\n",
       "<p>1484 rows × 4 columns</p>\n",
       "</div>"
      ],
      "text/plain": [
       "     Edad (año a año)     Sexo   Año    Total\n",
       "0             18 años  Hombres  2006  221.811\n",
       "1             18 años  Hombres  2005  227.872\n",
       "2             18 años  Hombres  2004  236.595\n",
       "3             18 años  Hombres  2003  246.163\n",
       "4             18 años  Hombres  2002  254.126\n",
       "...               ...      ...   ...      ...\n",
       "1479          70 años  Mujeres  2004    4.450\n",
       "1480          70 años  Mujeres  2003    4.572\n",
       "1481          70 años  Mujeres  2002    3.688\n",
       "1482          70 años  Mujeres  2001    3.563\n",
       "1483          70 años  Mujeres  2000    2.965\n",
       "\n",
       "[1484 rows x 4 columns]"
      ]
     },
     "execution_count": 70,
     "metadata": {},
     "output_type": "execute_result"
    }
   ],
   "source": [
    "df2 = df2.drop(columnas_a_eliminar, axis=1)\n",
    "df2"
   ]
  },
  {
   "cell_type": "code",
   "execution_count": 71,
   "id": "310d5609",
   "metadata": {},
   "outputs": [],
   "source": [
    "#Ahora voy a modificar un poco los datos para que sean iguales a los del primer CSV."
   ]
  },
  {
   "cell_type": "code",
   "execution_count": 72,
   "id": "1a3b6531",
   "metadata": {},
   "outputs": [],
   "source": [
    "df2.columns = df2.columns.str.lower() #aqui cambio todos los nombres de columnas a minuscula"
   ]
  },
  {
   "cell_type": "code",
   "execution_count": 73,
   "id": "ded0c724",
   "metadata": {},
   "outputs": [],
   "source": [
    "df2 = df2.rename(columns=lambda x: x.replace(\" \", \"_\"))"
   ]
  },
  {
   "cell_type": "code",
   "execution_count": 74,
   "id": "3a4ae700",
   "metadata": {},
   "outputs": [
    {
     "data": {
      "text/html": [
       "<div>\n",
       "<style scoped>\n",
       "    .dataframe tbody tr th:only-of-type {\n",
       "        vertical-align: middle;\n",
       "    }\n",
       "\n",
       "    .dataframe tbody tr th {\n",
       "        vertical-align: top;\n",
       "    }\n",
       "\n",
       "    .dataframe thead th {\n",
       "        text-align: right;\n",
       "    }\n",
       "</style>\n",
       "<table border=\"1\" class=\"dataframe\">\n",
       "  <thead>\n",
       "    <tr style=\"text-align: right;\">\n",
       "      <th></th>\n",
       "      <th>edad_(año_a_año)</th>\n",
       "      <th>sexo</th>\n",
       "      <th>año</th>\n",
       "      <th>total</th>\n",
       "    </tr>\n",
       "  </thead>\n",
       "  <tbody>\n",
       "    <tr>\n",
       "      <th>0</th>\n",
       "      <td>18 años</td>\n",
       "      <td>Hombres</td>\n",
       "      <td>2006</td>\n",
       "      <td>221.811</td>\n",
       "    </tr>\n",
       "    <tr>\n",
       "      <th>1</th>\n",
       "      <td>18 años</td>\n",
       "      <td>Hombres</td>\n",
       "      <td>2005</td>\n",
       "      <td>227.872</td>\n",
       "    </tr>\n",
       "    <tr>\n",
       "      <th>2</th>\n",
       "      <td>18 años</td>\n",
       "      <td>Hombres</td>\n",
       "      <td>2004</td>\n",
       "      <td>236.595</td>\n",
       "    </tr>\n",
       "    <tr>\n",
       "      <th>3</th>\n",
       "      <td>18 años</td>\n",
       "      <td>Hombres</td>\n",
       "      <td>2003</td>\n",
       "      <td>246.163</td>\n",
       "    </tr>\n",
       "    <tr>\n",
       "      <th>4</th>\n",
       "      <td>18 años</td>\n",
       "      <td>Hombres</td>\n",
       "      <td>2002</td>\n",
       "      <td>254.126</td>\n",
       "    </tr>\n",
       "  </tbody>\n",
       "</table>\n",
       "</div>"
      ],
      "text/plain": [
       "  edad_(año_a_año)     sexo   año    total\n",
       "0          18 años  Hombres  2006  221.811\n",
       "1          18 años  Hombres  2005  227.872\n",
       "2          18 años  Hombres  2004  236.595\n",
       "3          18 años  Hombres  2003  246.163\n",
       "4          18 años  Hombres  2002  254.126"
      ]
     },
     "execution_count": 74,
     "metadata": {},
     "output_type": "execute_result"
    }
   ],
   "source": [
    "df2.head()"
   ]
  },
  {
   "cell_type": "code",
   "execution_count": 75,
   "id": "b3cf87f3",
   "metadata": {},
   "outputs": [],
   "source": [
    "df2 = df2.rename(columns={\"edad_(año_a_año)\": 'edad'}) #le cambio el nombre de la columna por comodidad."
   ]
  },
  {
   "cell_type": "code",
   "execution_count": 76,
   "id": "b20f404c",
   "metadata": {},
   "outputs": [
    {
     "data": {
      "text/html": [
       "<div>\n",
       "<style scoped>\n",
       "    .dataframe tbody tr th:only-of-type {\n",
       "        vertical-align: middle;\n",
       "    }\n",
       "\n",
       "    .dataframe tbody tr th {\n",
       "        vertical-align: top;\n",
       "    }\n",
       "\n",
       "    .dataframe thead th {\n",
       "        text-align: right;\n",
       "    }\n",
       "</style>\n",
       "<table border=\"1\" class=\"dataframe\">\n",
       "  <thead>\n",
       "    <tr style=\"text-align: right;\">\n",
       "      <th></th>\n",
       "      <th>edad</th>\n",
       "      <th>sexo</th>\n",
       "      <th>año</th>\n",
       "      <th>total</th>\n",
       "    </tr>\n",
       "  </thead>\n",
       "  <tbody>\n",
       "    <tr>\n",
       "      <th>1479</th>\n",
       "      <td>70 años</td>\n",
       "      <td>Mujeres</td>\n",
       "      <td>2004</td>\n",
       "      <td>4.450</td>\n",
       "    </tr>\n",
       "    <tr>\n",
       "      <th>1480</th>\n",
       "      <td>70 años</td>\n",
       "      <td>Mujeres</td>\n",
       "      <td>2003</td>\n",
       "      <td>4.572</td>\n",
       "    </tr>\n",
       "    <tr>\n",
       "      <th>1481</th>\n",
       "      <td>70 años</td>\n",
       "      <td>Mujeres</td>\n",
       "      <td>2002</td>\n",
       "      <td>3.688</td>\n",
       "    </tr>\n",
       "    <tr>\n",
       "      <th>1482</th>\n",
       "      <td>70 años</td>\n",
       "      <td>Mujeres</td>\n",
       "      <td>2001</td>\n",
       "      <td>3.563</td>\n",
       "    </tr>\n",
       "    <tr>\n",
       "      <th>1483</th>\n",
       "      <td>70 años</td>\n",
       "      <td>Mujeres</td>\n",
       "      <td>2000</td>\n",
       "      <td>2.965</td>\n",
       "    </tr>\n",
       "  </tbody>\n",
       "</table>\n",
       "</div>"
      ],
      "text/plain": [
       "         edad     sexo   año  total\n",
       "1479  70 años  Mujeres  2004  4.450\n",
       "1480  70 años  Mujeres  2003  4.572\n",
       "1481  70 años  Mujeres  2002  3.688\n",
       "1482  70 años  Mujeres  2001  3.563\n",
       "1483  70 años  Mujeres  2000  2.965"
      ]
     },
     "execution_count": 76,
     "metadata": {},
     "output_type": "execute_result"
    }
   ],
   "source": [
    "df2.tail()"
   ]
  },
  {
   "cell_type": "code",
   "execution_count": 77,
   "id": "95b6b9ba",
   "metadata": {},
   "outputs": [],
   "source": [
    "# Utiliza str.replace() para eliminar \"años\" de la columna \"Edades\"\n",
    "df2[\"edad\"] = df2[\"edad\"].str.replace(\" años\", \"\", regex=False)"
   ]
  },
  {
   "cell_type": "code",
   "execution_count": 78,
   "id": "449da441",
   "metadata": {},
   "outputs": [],
   "source": [
    "df2['edad'] = pd.to_numeric(df2['edad'].str.replace(',', '.'))\n",
    "df2['edad'] = df2['edad'].astype('int64')"
   ]
  },
  {
   "cell_type": "code",
   "execution_count": 79,
   "id": "f42e0f59",
   "metadata": {},
   "outputs": [],
   "source": [
    "df2 = df2.replace([\"Hombres\"], \"hombre\") #pongo el contenido igual que en la anterior\n",
    "df2 = df2.replace([\"Mujeres\"], \"mujer\")"
   ]
  },
  {
   "cell_type": "code",
   "execution_count": 80,
   "id": "5116941a",
   "metadata": {},
   "outputs": [
    {
     "data": {
      "text/plain": [
       "array([18, 19, 20, 21, 22, 23, 24, 25, 26, 27, 28, 29, 30, 31, 32, 33, 34,\n",
       "       35, 36, 37, 38, 39, 40, 41, 42, 43, 44, 45, 46, 47, 48, 49, 50, 51,\n",
       "       52, 53, 54, 55, 56, 57, 58, 59, 60, 61, 62, 63, 64, 65, 66, 67, 68,\n",
       "       69, 70])"
      ]
     },
     "execution_count": 80,
     "metadata": {},
     "output_type": "execute_result"
    }
   ],
   "source": [
    "df2.edad.unique()"
   ]
  },
  {
   "cell_type": "code",
   "execution_count": 81,
   "id": "1d18f1ae",
   "metadata": {},
   "outputs": [
    {
     "data": {
      "text/plain": [
       "array(['hombre', 'mujer'], dtype=object)"
      ]
     },
     "execution_count": 81,
     "metadata": {},
     "output_type": "execute_result"
    }
   ],
   "source": [
    "df2.sexo.unique()"
   ]
  },
  {
   "cell_type": "code",
   "execution_count": 82,
   "id": "f3a1a524",
   "metadata": {},
   "outputs": [
    {
     "data": {
      "text/plain": [
       "array([2006, 2005, 2004, 2003, 2002, 2001, 2000])"
      ]
     },
     "execution_count": 82,
     "metadata": {},
     "output_type": "execute_result"
    }
   ],
   "source": [
    "df2.año.unique()"
   ]
  },
  {
   "cell_type": "code",
   "execution_count": null,
   "id": "43fb767c",
   "metadata": {},
   "outputs": [],
   "source": [
    "#Ahora voy a eliminar todas las filas en las que el rango de valores no es igual a la anterior tabla"
   ]
  },
  {
   "cell_type": "code",
   "execution_count": 83,
   "id": "7c97c7ec",
   "metadata": {},
   "outputs": [],
   "source": [
    "#En edades, el estudio es de los 21 a los 70 años, así que eliminamos las filas que no estén en ese rango de edades."
   ]
  },
  {
   "cell_type": "code",
   "execution_count": 85,
   "id": "28ba6afe",
   "metadata": {},
   "outputs": [],
   "source": [
    "df2 = df2.loc[(df2['edad'] >= 21) & (df2['edad'] <= 70)] # Utiliza df.loc para seleccionar las filas que cumplen con la condición (edad entre 21 y 70)\n"
   ]
  },
  {
   "cell_type": "code",
   "execution_count": null,
   "id": "f92c97f9",
   "metadata": {},
   "outputs": [],
   "source": [
    "#En años, como el estudio fue entre 2004 y 2006, dejaremos solo estos"
   ]
  },
  {
   "cell_type": "code",
   "execution_count": 86,
   "id": "8f3c55c3",
   "metadata": {},
   "outputs": [],
   "source": [
    "df2 = df2.loc[(df2['año'] >= 2004) & (df2['año'] <= 2006)]"
   ]
  },
  {
   "cell_type": "code",
   "execution_count": 87,
   "id": "3e9e060a",
   "metadata": {},
   "outputs": [
    {
     "data": {
      "text/plain": [
       "array([21, 22, 23, 24, 25, 26, 27, 28, 29, 30, 31, 32, 33, 34, 35, 36, 37,\n",
       "       38, 39, 40, 41, 42, 43, 44, 45, 46, 47, 48, 49, 50, 51, 52, 53, 54,\n",
       "       55, 56, 57, 58, 59, 60, 61, 62, 63, 64, 65, 66, 67, 68, 69, 70])"
      ]
     },
     "execution_count": 87,
     "metadata": {},
     "output_type": "execute_result"
    }
   ],
   "source": [
    "df2.edad.unique()"
   ]
  },
  {
   "cell_type": "code",
   "execution_count": 88,
   "id": "92f55ebf",
   "metadata": {},
   "outputs": [
    {
     "data": {
      "text/plain": [
       "array([2006, 2005, 2004])"
      ]
     },
     "execution_count": 88,
     "metadata": {},
     "output_type": "execute_result"
    }
   ],
   "source": [
    "df2.año.unique()"
   ]
  },
  {
   "cell_type": "code",
   "execution_count": null,
   "id": "3c264c94",
   "metadata": {},
   "outputs": [],
   "source": [
    "#Ya está limpia la tabla"
   ]
  },
  {
   "cell_type": "code",
   "execution_count": 89,
   "id": "dd424f9a",
   "metadata": {},
   "outputs": [
    {
     "data": {
      "text/html": [
       "<div>\n",
       "<style scoped>\n",
       "    .dataframe tbody tr th:only-of-type {\n",
       "        vertical-align: middle;\n",
       "    }\n",
       "\n",
       "    .dataframe tbody tr th {\n",
       "        vertical-align: top;\n",
       "    }\n",
       "\n",
       "    .dataframe thead th {\n",
       "        text-align: right;\n",
       "    }\n",
       "</style>\n",
       "<table border=\"1\" class=\"dataframe\">\n",
       "  <thead>\n",
       "    <tr style=\"text-align: right;\">\n",
       "      <th></th>\n",
       "      <th>count</th>\n",
       "      <th>mean</th>\n",
       "      <th>std</th>\n",
       "      <th>min</th>\n",
       "      <th>25%</th>\n",
       "      <th>50%</th>\n",
       "      <th>75%</th>\n",
       "      <th>max</th>\n",
       "    </tr>\n",
       "  </thead>\n",
       "  <tbody>\n",
       "    <tr>\n",
       "      <th>edad</th>\n",
       "      <td>600.0</td>\n",
       "      <td>45.500000</td>\n",
       "      <td>14.442910</td>\n",
       "      <td>21.00</td>\n",
       "      <td>33.000</td>\n",
       "      <td>45.5000</td>\n",
       "      <td>58.00000</td>\n",
       "      <td>70.000</td>\n",
       "    </tr>\n",
       "    <tr>\n",
       "      <th>año</th>\n",
       "      <td>600.0</td>\n",
       "      <td>2005.000000</td>\n",
       "      <td>0.817178</td>\n",
       "      <td>2004.00</td>\n",
       "      <td>2004.000</td>\n",
       "      <td>2005.0000</td>\n",
       "      <td>2006.00000</td>\n",
       "      <td>2006.000</td>\n",
       "    </tr>\n",
       "    <tr>\n",
       "      <th>total</th>\n",
       "      <td>600.0</td>\n",
       "      <td>149.039437</td>\n",
       "      <td>127.758379</td>\n",
       "      <td>4.45</td>\n",
       "      <td>23.344</td>\n",
       "      <td>103.7505</td>\n",
       "      <td>271.01325</td>\n",
       "      <td>346.671</td>\n",
       "    </tr>\n",
       "  </tbody>\n",
       "</table>\n",
       "</div>"
      ],
      "text/plain": [
       "       count         mean         std      min       25%        50%  \\\n",
       "edad   600.0    45.500000   14.442910    21.00    33.000    45.5000   \n",
       "año    600.0  2005.000000    0.817178  2004.00  2004.000  2005.0000   \n",
       "total  600.0   149.039437  127.758379     4.45    23.344   103.7505   \n",
       "\n",
       "              75%       max  \n",
       "edad     58.00000    70.000  \n",
       "año    2006.00000  2006.000  \n",
       "total   271.01325   346.671  "
      ]
     },
     "execution_count": 89,
     "metadata": {},
     "output_type": "execute_result"
    }
   ],
   "source": [
    "df2.describe().T"
   ]
  },
  {
   "cell_type": "code",
   "execution_count": 91,
   "id": "2854686c",
   "metadata": {},
   "outputs": [
    {
     "data": {
      "text/html": [
       "<div>\n",
       "<style scoped>\n",
       "    .dataframe tbody tr th:only-of-type {\n",
       "        vertical-align: middle;\n",
       "    }\n",
       "\n",
       "    .dataframe tbody tr th {\n",
       "        vertical-align: top;\n",
       "    }\n",
       "\n",
       "    .dataframe thead th {\n",
       "        text-align: right;\n",
       "    }\n",
       "</style>\n",
       "<table border=\"1\" class=\"dataframe\">\n",
       "  <thead>\n",
       "    <tr style=\"text-align: right;\">\n",
       "      <th></th>\n",
       "      <th>sexo</th>\n",
       "    </tr>\n",
       "  </thead>\n",
       "  <tbody>\n",
       "    <tr>\n",
       "      <th>count</th>\n",
       "      <td>600</td>\n",
       "    </tr>\n",
       "    <tr>\n",
       "      <th>unique</th>\n",
       "      <td>2</td>\n",
       "    </tr>\n",
       "    <tr>\n",
       "      <th>top</th>\n",
       "      <td>hombre</td>\n",
       "    </tr>\n",
       "    <tr>\n",
       "      <th>freq</th>\n",
       "      <td>300</td>\n",
       "    </tr>\n",
       "  </tbody>\n",
       "</table>\n",
       "</div>"
      ],
      "text/plain": [
       "          sexo\n",
       "count      600\n",
       "unique       2\n",
       "top     hombre\n",
       "freq       300"
      ]
     },
     "execution_count": 91,
     "metadata": {},
     "output_type": "execute_result"
    }
   ],
   "source": [
    "df2.describe(include = \"object\")"
   ]
  },
  {
   "cell_type": "code",
   "execution_count": 92,
   "id": "791c86ea",
   "metadata": {},
   "outputs": [],
   "source": [
    "#Lo que se pretendía conseguir con la tabla, era ponderar los valores y las estamicaiones de la muestra anterior y trasponerlas a la poblacion total española en esas mismas fechas. Para poder hacernos yna idea realmnete de cuanta gente se sentia afectada"
   ]
  },
  {
   "cell_type": "code",
   "execution_count": null,
   "id": "107c5178",
   "metadata": {},
   "outputs": [],
   "source": []
  },
  {
   "cell_type": "markdown",
   "id": "90e197f7",
   "metadata": {},
   "source": [
    "# SCRAPEO"
   ]
  },
  {
   "cell_type": "code",
   "execution_count": null,
   "id": "a602c480",
   "metadata": {},
   "outputs": [],
   "source": [
    "url = \"https://www.elsevier.es/es-revista-endocrinologia-nutricion-12-articulo-relacion-resistencia-insulina-con-diferentes-S1575092211002403\""
   ]
  },
  {
   "cell_type": "code",
   "execution_count": null,
   "id": "93eafa98",
   "metadata": {},
   "outputs": [],
   "source": [
    "html = req.get(url).text\n",
    "\n",
    "sopa = bs(html, 'html.parser')"
   ]
  },
  {
   "cell_type": "code",
   "execution_count": null,
   "id": "dd8c90b4",
   "metadata": {},
   "outputs": [],
   "source": [
    "tabla = sopa.find_all('tr')"
   ]
  },
  {
   "cell_type": "code",
   "execution_count": null,
   "id": "17e2375f",
   "metadata": {},
   "outputs": [],
   "source": []
  },
  {
   "cell_type": "code",
   "execution_count": null,
   "id": "e891fc21",
   "metadata": {},
   "outputs": [],
   "source": []
  },
  {
   "cell_type": "code",
   "execution_count": null,
   "id": "74ff890b",
   "metadata": {},
   "outputs": [],
   "source": [
    "PATH = \"driver/chromedriver\" \n",
    "driver = webdriver.Chrome(options = opciones)\n",
    "driver.get('https://www.google.es')"
   ]
  },
  {
   "cell_type": "code",
   "execution_count": null,
   "id": "10253e4b",
   "metadata": {},
   "outputs": [],
   "source": [
    "url = \"https://www.elsevier.es/es-revista-endocrinologia-nutricion-12-articulo-relacion-resistencia-insulina-con-diferentes-S1575092211002403\""
   ]
  },
  {
   "cell_type": "code",
   "execution_count": null,
   "id": "ef259419",
   "metadata": {},
   "outputs": [],
   "source": [
    "driver.get(url)"
   ]
  },
  {
   "cell_type": "code",
   "execution_count": null,
   "id": "c1df963e",
   "metadata": {},
   "outputs": [],
   "source": [
    "time.sleep(5)"
   ]
  },
  {
   "cell_type": "code",
   "execution_count": null,
   "id": "cde6a212",
   "metadata": {},
   "outputs": [],
   "source": [
    "cuerpo = driver.find_elements(By.XPATH, '//*[@id=\"sec0015\"]/div[3]/div/div/div[2]')"
   ]
  },
  {
   "cell_type": "code",
   "execution_count": null,
   "id": "af93093c",
   "metadata": {},
   "outputs": [],
   "source": [
    "\n",
    "\n",
    "filas = cuerpo.find_elements(By.TAG_NAME, 'tr')"
   ]
  },
  {
   "cell_type": "code",
   "execution_count": null,
   "id": "2833dc76",
   "metadata": {},
   "outputs": [],
   "source": [
    "filas[0].find_elements(By.TAG_NAME, 'td')[4].text"
   ]
  },
  {
   "cell_type": "code",
   "execution_count": null,
   "id": "e7be5d96",
   "metadata": {},
   "outputs": [],
   "source": [
    "matriz = []\n",
    "\n",
    "\n",
    "for f in filas:\n",
    "    \n",
    "    tmp = []\n",
    "    \n",
    "    elems = f.find_elements(By.TAG_NAME, 'td')  # esto es una lista\n",
    "    \n",
    "    for e in elems:\n",
    "        \n",
    "        tmp.append(e.text)\n",
    "        \n",
    "    matriz.append(tmp)"
   ]
  },
  {
   "cell_type": "code",
   "execution_count": null,
   "id": "17d5671f",
   "metadata": {},
   "outputs": [],
   "source": [
    "len(matriz[0])"
   ]
  },
  {
   "cell_type": "code",
   "execution_count": null,
   "id": "754f4f13",
   "metadata": {},
   "outputs": [],
   "source": []
  },
  {
   "cell_type": "code",
   "execution_count": null,
   "id": "6a16ebbc",
   "metadata": {},
   "outputs": [],
   "source": [
    "filas = tabla.find_elements_by_tag_name(\"tr\")\n",
    "\n",
    "# Itera a través de las filas y celdas de la tabla\n",
    "for fila in filas:\n",
    "    celdas = fila.find_elements_by_tag_name(\"td\")\n",
    "    for celda in celdas:\n",
    "        print(celda.text)\n"
   ]
  },
  {
   "cell_type": "code",
   "execution_count": null,
   "id": "19951a60",
   "metadata": {},
   "outputs": [],
   "source": []
  },
  {
   "cell_type": "code",
   "execution_count": null,
   "id": "ca2a1837",
   "metadata": {},
   "outputs": [],
   "source": []
  },
  {
   "cell_type": "code",
   "execution_count": null,
   "id": "ea4f35cd",
   "metadata": {},
   "outputs": [],
   "source": []
  },
  {
   "cell_type": "code",
   "execution_count": null,
   "id": "ab54cf9c",
   "metadata": {},
   "outputs": [],
   "source": []
  },
  {
   "cell_type": "code",
   "execution_count": null,
   "id": "a9f9edef",
   "metadata": {},
   "outputs": [],
   "source": []
  },
  {
   "cell_type": "code",
   "execution_count": null,
   "id": "a5c84269",
   "metadata": {},
   "outputs": [],
   "source": []
  },
  {
   "cell_type": "code",
   "execution_count": null,
   "id": "f39e6971",
   "metadata": {},
   "outputs": [],
   "source": []
  },
  {
   "cell_type": "code",
   "execution_count": null,
   "id": "d9ff7aef",
   "metadata": {},
   "outputs": [],
   "source": []
  },
  {
   "cell_type": "code",
   "execution_count": null,
   "id": "c542a519",
   "metadata": {},
   "outputs": [],
   "source": [
    "lineas = datos_tabulares.strip().split('\\n')\n",
    "datos = [linea.split('\\t') for linea in lineas]"
   ]
  },
  {
   "cell_type": "code",
   "execution_count": null,
   "id": "bdf015b5",
   "metadata": {},
   "outputs": [],
   "source": []
  },
  {
   "cell_type": "code",
   "execution_count": null,
   "id": "49e0205e",
   "metadata": {},
   "outputs": [],
   "source": []
  },
  {
   "cell_type": "code",
   "execution_count": null,
   "id": "5cf13fb8",
   "metadata": {},
   "outputs": [],
   "source": []
  },
  {
   "cell_type": "code",
   "execution_count": null,
   "id": "e08b81a6",
   "metadata": {},
   "outputs": [],
   "source": [
    "for fila in datos:\n",
    "    print(fila)"
   ]
  },
  {
   "cell_type": "code",
   "execution_count": null,
   "id": "70b549ba",
   "metadata": {},
   "outputs": [],
   "source": []
  },
  {
   "cell_type": "code",
   "execution_count": null,
   "id": "fd01a954",
   "metadata": {},
   "outputs": [],
   "source": []
  },
  {
   "cell_type": "code",
   "execution_count": null,
   "id": "76702648",
   "metadata": {},
   "outputs": [],
   "source": [
    "#IMAGEN COMPARATIVA\n",
    "imagen = Image.open('imagenes/img_resistencia_insulina.jpeg')\n",
    "\n",
    "# Extraer el texto de la imagen\n",
    "texto_extraido = pytesseract.image_to_string(imagen)\n",
    "#texto_extraido.split('\\n')[10:27]\n",
    "\n",
    "#[e for e in texto_extraido.split('\\n') if e!='']\n",
    "\n",
    "texto = \n",
    "\n",
    "filas = texto.split('\\n') #dividir texto en filas separadas\n",
    "\n",
    "filas = [linea for linea in filas if linea.strip() != ''] #eliminar lineas vacias o que no contienen datos tabulares\n",
    "\n",
    "# Divide cada fila en columnas utilizando '\\n' como separador\n",
    "columnas = [fila.split('\\n') for fila in filas]\n",
    "\n",
    "# Crea un DataFrame\n",
    "df = pd.DataFrame(columnas)\n",
    "\n",
    "df = df.T #transponer el DataFrame para que las filas se conviertan en columnas\n",
    "\n",
    "df.columns = df.iloc[0] #establecer la primera fila como encabezados de columna\n",
    "\n",
    "# Elimina la primera fila, que contenía los encabezados originales\n",
    "df = df[1:]\n",
    "\n",
    "# Restablece los índices del DataFrame\n",
    "df.reset_index(drop=True, inplace=True)\n",
    "\n",
    "df.head(10)"
   ]
  },
  {
   "cell_type": "code",
   "execution_count": null,
   "id": "c385c39b",
   "metadata": {},
   "outputs": [],
   "source": []
  },
  {
   "cell_type": "code",
   "execution_count": null,
   "id": "bf9b6b0c",
   "metadata": {},
   "outputs": [],
   "source": []
  },
  {
   "cell_type": "code",
   "execution_count": null,
   "id": "21d17fb3",
   "metadata": {},
   "outputs": [],
   "source": []
  }
 ],
 "metadata": {
  "kernelspec": {
   "display_name": "Python 3 (ipykernel)",
   "language": "python",
   "name": "python3"
  },
  "language_info": {
   "codemirror_mode": {
    "name": "ipython",
    "version": 3
   },
   "file_extension": ".py",
   "mimetype": "text/x-python",
   "name": "python",
   "nbconvert_exporter": "python",
   "pygments_lexer": "ipython3",
   "version": "3.11.4"
  }
 },
 "nbformat": 4,
 "nbformat_minor": 5
}
